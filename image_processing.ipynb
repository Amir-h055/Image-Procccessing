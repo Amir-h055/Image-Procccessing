{
  "cells": [
    {
      "cell_type": "markdown",
      "metadata": {
        "id": "view-in-github",
        "colab_type": "text"
      },
      "source": [
        "<a href=\"https://colab.research.google.com/github/Amir-h055/Image-Procccessing/blob/main/image_processing.ipynb\" target=\"_parent\"><img src=\"https://colab.research.google.com/assets/colab-badge.svg\" alt=\"Open In Colab\"/></a>"
      ]
    },
    {
      "cell_type": "code",
      "execution_count": null,
      "metadata": {
        "id": "vW9usI4OdiRX",
        "colab": {
          "base_uri": "https://localhost:8080/"
        },
        "outputId": "11a50a0c-e833-410a-c7e8-f8979b399d78"
      },
      "outputs": [
        {
          "output_type": "stream",
          "name": "stdout",
          "text": [
            "\u001b[?25l\r\u001b[K     |██▌                             | 10 kB 26.7 MB/s eta 0:00:01\r\u001b[K     |█████                           | 20 kB 9.0 MB/s eta 0:00:01\r\u001b[K     |███████▍                        | 30 kB 7.7 MB/s eta 0:00:01\r\u001b[K     |█████████▉                      | 40 kB 7.2 MB/s eta 0:00:01\r\u001b[K     |████████████▎                   | 51 kB 5.7 MB/s eta 0:00:01\r\u001b[K     |██████████████▊                 | 61 kB 6.7 MB/s eta 0:00:01\r\u001b[K     |█████████████████▏              | 71 kB 6.6 MB/s eta 0:00:01\r\u001b[K     |███████████████████▋            | 81 kB 6.5 MB/s eta 0:00:01\r\u001b[K     |██████████████████████          | 92 kB 7.3 MB/s eta 0:00:01\r\u001b[K     |████████████████████████▌       | 102 kB 6.9 MB/s eta 0:00:01\r\u001b[K     |███████████████████████████     | 112 kB 6.9 MB/s eta 0:00:01\r\u001b[K     |█████████████████████████████▍  | 122 kB 6.9 MB/s eta 0:00:01\r\u001b[K     |███████████████████████████████▉| 133 kB 6.9 MB/s eta 0:00:01\r\u001b[K     |████████████████████████████████| 133 kB 6.9 MB/s \n",
            "\u001b[?25h"
          ]
        }
      ],
      "source": [
        "!pip install -q -U keras-tuner"
      ]
    },
    {
      "cell_type": "code",
      "execution_count": null,
      "metadata": {
        "id": "FGazUYhCoL8U"
      },
      "outputs": [],
      "source": [
        "#Connecting to GitHub\n",
        "import os\n",
        "import glob\n",
        "import shutil\n",
        "import numpy as np\n",
        "import pandas as pd \n",
        "import matplotlib.pyplot as plt\n",
        "import cv2\n",
        "\n",
        "%tensorflow_version 2.x \n",
        "# TensorFlow and tf.keras\n",
        "import tensorflow as tf\n",
        "import seaborn as sns\n",
        "from fastai.vision import *\n",
        "from numpy.ma.core import size\n",
        "from fastai.vision.data import ImageDataBunch\n",
        "from fastai.vision.transform import get_transforms\n",
        "from tensorflow import keras\n",
        "from keras.models import Sequential\n",
        "from keras.layers import Dense, Flatten, Conv2D, MaxPool2D, Dropout, BatchNormalization\n",
        "\n",
        "\n",
        "import keras_tuner as kt\n",
        "from keras_tuner import RandomSearch\n",
        "\n",
        "from kerastuner.engine.hyperparameters import HyperParameters\n",
        "from sklearn.model_selection import train_test_split\n"
      ]
    },
    {
      "cell_type": "code",
      "execution_count": null,
      "metadata": {
        "colab": {
          "base_uri": "https://localhost:8080/"
        },
        "id": "30HYO_9WoCKo",
        "outputId": "751995f3-0eaf-49f6-9f55-281dde011c32"
      },
      "outputs": [
        {
          "output_type": "stream",
          "name": "stdout",
          "text": [
            "Mounted at /content/drive\n"
          ]
        }
      ],
      "source": [
        "from google.colab import drive\n",
        "drive.mount('/content/drive')"
      ]
    },
    {
      "cell_type": "code",
      "execution_count": null,
      "metadata": {
        "id": "-Yv-E1FueB7y"
      },
      "outputs": [],
      "source": [
        "path ='/content/drive/My Drive/Comp 478 - Project/Chest X-ray (Covid-19 & Pneumonia)/Data'\n",
        "train_directory = '/content/drive/My Drive/Comp 478 - Project/Chest X-ray (Covid-19 & Pneumonia)/Data/train'\n",
        "test_directory = '/content/drive/My Drive/Comp 478 - Project/Chest X-ray (Covid-19 & Pneumonia)/Data/test'\n",
        "validation_directory = r'/content/drive/My Drive/Comp 478 - Project/Chest X-ray (Covid-19 & Pneumonia)/Data/validation' "
      ]
    },
    {
      "cell_type": "code",
      "execution_count": null,
      "metadata": {
        "id": "ozCzGrvEeSf4"
      },
      "outputs": [],
      "source": [
        "SIZE = 140\n",
        "BATCH_SIZE = 64\n",
        "TARGET_SIZE = (SIZE,SIZE)\n",
        "EPOCH_NUM = 10"
      ]
    },
    {
      "cell_type": "code",
      "execution_count": null,
      "metadata": {
        "id": "gREDNGCMrW5m"
      },
      "outputs": [],
      "source": [
        "categories_dict = {\n",
        "  0: \"COVID19\",\n",
        "  1: \"NORMAL\",\n",
        "  2: \"PNEUMONIA\",\n",
        "  \n",
        "}"
      ]
    },
    {
      "cell_type": "code",
      "execution_count": null,
      "metadata": {
        "id": "TdfycUr3V5o7"
      },
      "outputs": [],
      "source": [
        "image_gen = keras.preprocessing.image.ImageDataGenerator(\n",
        "                                  rescale = 1./255,\n",
        "                                  shear_range = 0.2,\n",
        "                                  zoom_range = 0.2,\n",
        "                              horizontal_flip = True, \n",
        "                               )\n",
        "image_split_train_validation = keras.preprocessing.image.ImageDataGenerator(\n",
        "                                  validation_split = 0.2\n",
        "                               )\n"
      ]
    },
    {
      "cell_type": "markdown",
      "metadata": {
        "id": "Y02M5TchjqYV"
      },
      "source": [
        "#Do NOT RUN THIS\n",
        "\n",
        "\n",
        "###Seperating Image into Training Dataset and Validation Dataset\n",
        "\n",
        "\n"
      ]
    },
    {
      "cell_type": "code",
      "execution_count": null,
      "metadata": {
        "colab": {
          "base_uri": "https://localhost:8080/"
        },
        "id": "PICph21zCQnx",
        "outputId": "c8b14ab8-12b9-4fbe-e140-e8946cfd7bdc"
      },
      "outputs": [
        {
          "output_type": "stream",
          "name": "stdout",
          "text": [
            "Found 4116 images belonging to 3 classes.\n",
            "Found 1028 images belonging to 3 classes.\n"
          ]
        }
      ],
      "source": [
        "# train = image_split_train_validation.flow_from_directory(\n",
        "#     train_directory,\n",
        "#     subset = \"training\"\n",
        "#     )\n",
        "# validation = image_split_train_validation.flow_from_directory(\n",
        "#     train_directory,\n",
        "#     subset = \"validation\"\n",
        "#     )"
      ]
    },
    {
      "cell_type": "code",
      "execution_count": null,
      "metadata": {
        "colab": {
          "base_uri": "https://localhost:8080/"
        },
        "id": "oMzyQsezaG-7",
        "outputId": "e48a3d5d-081e-48b4-8e30-dcc9c55df782"
      },
      "outputs": [
        {
          "output_type": "execute_result",
          "data": {
            "text/plain": [
              "{'COVID19': 0, 'NORMAL': 1, 'PNEUMONIA': 2}"
            ]
          },
          "metadata": {},
          "execution_count": 9
        }
      ],
      "source": [
        "# train.class_indices"
      ]
    },
    {
      "cell_type": "code",
      "execution_count": null,
      "metadata": {
        "colab": {
          "base_uri": "https://localhost:8080/",
          "height": 348
        },
        "id": "vVSGNvFlawVu",
        "outputId": "311e75bb-47dd-413a-9b9e-916d68d069b3"
      },
      "outputs": [
        {
          "output_type": "execute_result",
          "data": {
            "text/plain": [
              "[Text(0, 0.5, 'Number of Images'),\n",
              " Text(0.5, 0, 'Class'),\n",
              " Text(0.5, 1.0, 'Inital Training Dataset')]"
            ]
          },
          "metadata": {},
          "execution_count": 10
        },
        {
          "output_type": "display_data",
          "data": {
            "text/plain": [
              "<Figure size 432x288 with 1 Axes>"
            ],
            "image/png": "[encoded data removed]"
          },
          "metadata": {
            "needs_background": "light"
          }
        }
      ],
      "source": [
        "# image_labels = []\n",
        "# for  label in train.classes:\n",
        "#   image_labels.append(categories_dict[label])\n",
        "\n",
        "# df = pd.DataFrame(image_labels)\n",
        "# sns.countplot(x=0, data= df).set(Title='Inital Training Dataset', xlabel='Class', ylabel='Number of Images')"
      ]
    },
    {
      "cell_type": "markdown",
      "metadata": {
        "id": "2LsQO8s8kSQm"
      },
      "source": [
        "#DO NOT RUN THIS\n",
        "\n",
        "\n",
        "### Moving The Validation X-Rays To Validation Folder\n",
        "\n"
      ]
    },
    {
      "cell_type": "code",
      "execution_count": null,
      "metadata": {
        "id": "os7_iGjZb8t9"
      },
      "outputs": [],
      "source": [
        "# if not os.path.exists(validation_directory):\n",
        "#     os.makedirs(validation_directory)\n",
        "    \n",
        "# if not os.path.exists(validation_directory +\"/COVID19\"):\n",
        "#     os.makedirs(validation_directory +\"/COVID19\")\n",
        "\n",
        "# if not os.path.exists(validation_directory +\"/NORMAL\"):\n",
        "#     os.makedirs(validation_directory +\"/NORMAL\")\n",
        "\n",
        "# if not os.path.exists(validation_directory +\"/PNEUMONIA\"):\n",
        "#     os.makedirs(validation_directory +\"/PNEUMONIA\")\n",
        "\n",
        "# for i, label in enumerate(validation.classes):\n",
        "#   if not os.path.exists(validation_directory+\"/\"+validation.filenames[i]):\n",
        "#     if label == 0:\n",
        "#       shutil.move(validation.filepaths[i], validation_directory+\"/\"+validation.filenames[i])\n",
        "#     if label == 1:\n",
        "#       shutil.move(validation.filepaths[i], validation_directory+\"/\"+validation.filenames[i])\n",
        "#     if label == 2:\n",
        "#       shutil.move(validation.filepaths[i], validation_directory+\"/\"+validation.filenames[i])\n"
      ]
    },
    {
      "cell_type": "markdown",
      "metadata": {
        "id": "D0p7altzubm4"
      },
      "source": [
        "\n",
        "###Fetching Validation X-Rays From New Directory \n"
      ]
    },
    {
      "cell_type": "code",
      "execution_count": null,
      "metadata": {
        "colab": {
          "base_uri": "https://localhost:8080/"
        },
        "id": "zpe_i_mruYxx",
        "outputId": "453e4923-6f67-468f-efb5-5111c2d0954b"
      },
      "outputs": [
        {
          "output_type": "stream",
          "name": "stdout",
          "text": [
            "Found 1028 images belonging to 3 classes.\n"
          ]
        }
      ],
      "source": [
        "validation = image_gen.flow_from_directory(validation_directory)"
      ]
    },
    {
      "cell_type": "markdown",
      "metadata": {
        "id": "IrRhFnz3y3Vn"
      },
      "source": [
        "###Fetching Training X-Rays From New Directory \n"
      ]
    },
    {
      "cell_type": "code",
      "execution_count": null,
      "metadata": {
        "colab": {
          "base_uri": "https://localhost:8080/"
        },
        "id": "_sj8Sx_oy8s4",
        "outputId": "72f02735-b8c8-4dd9-a442-0364682b9b08"
      },
      "outputs": [
        {
          "output_type": "stream",
          "name": "stdout",
          "text": [
            "Found 4116 images belonging to 3 classes.\n"
          ]
        }
      ],
      "source": [
        "train = image_gen.flow_from_directory(train_directory)"
      ]
    },
    {
      "cell_type": "markdown",
      "metadata": {
        "id": "c1dqGmxSzmR-"
      },
      "source": [
        "###Some X-Rays Images"
      ]
    },
    {
      "cell_type": "code",
      "execution_count": null,
      "metadata": {
        "colab": {
          "base_uri": "https://localhost:8080/"
        },
        "id": "FsfAFPXo0i3P",
        "outputId": "57f26892-80aa-48bb-eadb-e78da8e1cf8d"
      },
      "outputs": [
        {
          "output_type": "stream",
          "name": "stderr",
          "text": [
            "/usr/local/lib/python3.7/dist-packages/fastai/data_block.py:461: UserWarning: Your validation set is empty. If this is by design, use `split_none()`\n",
            "                 or pass `ignore_empty=True` when labelling to remove this warning.\n",
            "  or pass `ignore_empty=True` when labelling to remove this warning.\"\"\")\n"
          ]
        }
      ],
      "source": [
        "tfms = get_transforms (do_flip=True, max_rotate=10.0);\n",
        "dataTrain = ImageDataBunch.from_folder(path, train='train', size=2000);"
      ]
    },
    {
      "cell_type": "code",
      "execution_count": null,
      "metadata": {
        "colab": {
          "base_uri": "https://localhost:8080/",
          "height": 513
        },
        "id": "GmDQyu2D53fN",
        "outputId": "f4b6ce3a-0526-4c0c-a22a-6579b2f0dde7"
      },
      "outputs": [
        {
          "output_type": "display_data",
          "data": {
            "text/plain": [
              "<Figure size 504x504 with 16 Axes>"
            ],
            "image/png": "[encoded data removed]"
          },
          "metadata": {
            "needs_background": "light"
          }
        }
      ],
      "source": [
        "dataTrain.show_batch(rows=4, figsize=(7,7))"
      ]
    },
    {
      "cell_type": "markdown",
      "metadata": {
        "id": "q_OE6sS_jEmI"
      },
      "source": [
        "#DO NOT RUN THIS \n",
        "\n",
        "###Augmenting The Training Images for COVID19 and NORMAL\n"
      ]
    },
    {
      "cell_type": "code",
      "execution_count": null,
      "metadata": {
        "id": "npGjuLQBKlYx",
        "colab": {
          "base_uri": "https://localhost:8080/"
        },
        "outputId": "01070153-c01d-407c-a49d-4eb59fe757de"
      },
      "outputs": [
        {
          "output_type": "stream",
          "name": "stdout",
          "text": [
            "200 Augmented Images\n",
            "400 Augmented Images\n",
            "600 Augmented Images\n",
            "800 Augmented Images\n",
            "1000 Augmented Images\n",
            "1200 Augmented Images\n",
            "1400 Augmented Images\n",
            "1600 Augmented Images\n",
            "1800 Augmented Images\n",
            "2000 Augmented Images\n",
            "2200 Augmented Images\n",
            "2400 Augmented Images\n",
            "2600 Augmented Images\n",
            "2800 Augmented Images\n",
            "3000 Augmented Images\n",
            "3200 Augmented Images\n",
            "3400 Augmented Images\n",
            "3600 Augmented Images\n",
            "3800 Augmented Images\n",
            "4000 Augmented Images\n",
            "4200 Augmented Images\n"
          ]
        }
      ],
      "source": [
        "# aug_image_path = {\n",
        "#   0: '/content/drive/My Drive/Comp 478 - Project/Chest X-ray (Covid-19 & Pneumonia)/Data/train/COVID19',\n",
        "#   1: '/content/drive/My Drive/Comp 478 - Project/Chest X-ray (Covid-19 & Pneumonia)/Data/train/NORMAL',  \n",
        "# }\n",
        "# aug_image_prefix = {\n",
        "#   0: 'COVID19_AUG',\n",
        "#   1: 'NORMAL_AUG',  \n",
        "# }\n",
        "\n",
        "# number_of_aug_img = 0\n",
        "# for i, label in enumerate(train.classes):\n",
        "#   if label == 0 or label == 1:\n",
        "#     if label == 0:\n",
        "#       aug_image_counter = 6\n",
        "#     else:\n",
        "#       aug_image_counter = 2\n",
        "\n",
        "#     img = cv2.imread(train.filepaths[i])\n",
        "#     x = tf.keras.preprocessing.image.img_to_array(img)\n",
        "#     x = x.reshape((1,) + x.shape)\n",
        "\n",
        "#     counter = 0\n",
        "#     for batch in image_gen.flow(x, batch_size= aug_image_counter, save_to_dir=aug_image_path[label], save_prefix= f'{aug_image_prefix[label]}_{i}', save_format=\"jpg\"):\n",
        "#       number_of_aug_img += 1\n",
        "#       counter += 1\n",
        "#       if(number_of_aug_img%200==0): print(number_of_aug_img,\"Augmented Images\")\n",
        "\n",
        "#       if(counter >= aug_image_counter):\n",
        "#         break\n",
        "\n"
      ]
    },
    {
      "cell_type": "markdown",
      "source": [
        "###Augmenting The Validation Images for COVID19 and NORMAL\n",
        "\n",
        "\n",
        "\n"
      ],
      "metadata": {
        "id": "BIL7rrFL__dr"
      }
    },
    {
      "cell_type": "code",
      "source": [
        "# aug_image_path = {\n",
        "#   0: '/content/drive/My Drive/Comp 478 - Project/Chest X-ray (Covid-19 & Pneumonia)/Data/validation/COVID19',\n",
        "#   1: '/content/drive/My Drive/Comp 478 - Project/Chest X-ray (Covid-19 & Pneumonia)/Data/validation/NORMAL',  \n",
        "# }\n",
        "# aug_image_prefix = {\n",
        "#   0: 'COVID19_AUG',\n",
        "#   1: 'NORMAL_AUG',  \n",
        "# }\n",
        "\n",
        "# number_of_aug_img = 0\n",
        "# for i, label in enumerate(validation.classes):\n",
        "#   if label == 0 or label == 1:\n",
        "#     if label == 0:\n",
        "#       aug_image_counter = 6\n",
        "#     else:\n",
        "#       aug_image_counter = 2\n",
        "\n",
        "#     img = cv2.imread(validation.filepaths[i])\n",
        "#     x = tf.keras.preprocessing.image.img_to_array(img)\n",
        "#     x = x.reshape((1,) + x.shape)\n",
        "\n",
        "#     counter = 0\n",
        "#     for batch in image_gen.flow(x, batch_size= aug_image_counter, save_to_dir=aug_image_path[label], save_prefix= f'{aug_image_prefix[label]}_{i}', save_format=\"jpg\"):\n",
        "#       number_of_aug_img += 1\n",
        "#       counter += 1\n",
        "#       if(number_of_aug_img%200==0): print(number_of_aug_img,\"Augmented Images\")\n",
        "\n",
        "#       if(counter >= aug_image_counter):\n",
        "#         break"
      ],
      "metadata": {
        "id": "2xOT86HEBF5A"
      },
      "execution_count": null,
      "outputs": []
    },
    {
      "cell_type": "code",
      "source": [
        "ls  '/content/drive/My Drive/Comp 478 - Project/Chest X-ray (Covid-19 & Pneumonia)/Data/validation/COVID19';"
      ],
      "metadata": {
        "id": "Lf3bNoB_Ir0X"
      },
      "execution_count": null,
      "outputs": []
    },
    {
      "cell_type": "code",
      "source": [
        "#ls -lh '/content/drive/My Drive/Comp 478 - Project/Chest X-ray (Covid-19 & Pneumonia)/Data/validation/PNEUMONIA';"
      ],
      "metadata": {
        "id": "Q99dztc2I-VQ"
      },
      "execution_count": null,
      "outputs": []
    },
    {
      "cell_type": "markdown",
      "source": [
        "###Fetching Augmented X-Ray Image for Training and Validation and Test set\n"
      ],
      "metadata": {
        "id": "5ASdEm6hzvEp"
      }
    },
    {
      "cell_type": "code",
      "execution_count": null,
      "metadata": {
        "colab": {
          "base_uri": "https://localhost:8080/"
        },
        "id": "ep9dP5iC3fTP",
        "outputId": "b063163c-74b5-46f4-e64f-2a869b7980b7"
      },
      "outputs": [
        {
          "output_type": "stream",
          "name": "stdout",
          "text": [
            "Found 8349 images belonging to 3 classes.\n",
            "Found 1028 images belonging to 3 classes.\n",
            "Found 1299 images belonging to 3 classes.\n"
          ]
        }
      ],
      "source": [
        "data_gen = tf.keras.preprocessing.image.ImageDataGenerator(rescale = 1./255 )\n",
        "\n",
        "train_balanced = data_gen.flow_from_directory(\n",
        "      train_directory, \n",
        "      target_size= TARGET_SIZE,\n",
        "      color_mode='grayscale',\n",
        "      batch_size=999999\n",
        "      )\n",
        "\n",
        "validation_set = data_gen.flow_from_directory(\n",
        "      validation_directory, \n",
        "      target_size= TARGET_SIZE,\n",
        "      color_mode='grayscale',\n",
        "      batch_size=999999\n",
        "      )\n",
        "\n",
        "\n",
        "test_set = data_gen.flow_from_directory(\n",
        "      test_directory, \n",
        "      target_size= TARGET_SIZE,\n",
        "      color_mode='grayscale',\n",
        "      batch_size=999999\n",
        "      )"
      ]
    },
    {
      "cell_type": "code",
      "execution_count": null,
      "metadata": {
        "id": "uvDWDB3Cx5dY",
        "colab": {
          "base_uri": "https://localhost:8080/",
          "height": 349
        },
        "outputId": "9720f10e-19fc-4866-bca3-0d1d3cce813c"
      },
      "outputs": [
        {
          "output_type": "execute_result",
          "data": {
            "text/plain": [
              "[Text(0, 0.5, 'Number of Images'),\n",
              " Text(0.5, 0, 'Class'),\n",
              " Text(0.5, 1.0, 'Balanced Training Dataset')]"
            ]
          },
          "metadata": {},
          "execution_count": 12
        },
        {
          "output_type": "display_data",
          "data": {
            "text/plain": [
              "<Figure size 432x288 with 1 Axes>"
            ],
            "image/png": "[encoded data removed]"
          },
          "metadata": {
            "needs_background": "light"
          }
        }
      ],
      "source": [
        "image_labels = []\n",
        "for  label in train_balanced.classes:\n",
        "  image_labels.append(categories_dict[label])\n",
        "\n",
        "df = pd.DataFrame(image_labels)\n",
        "sns.countplot(x=0, data= df).set(Title='Balanced Training Dataset', xlabel='Class', ylabel='Number of Images')"
      ]
    },
    {
      "cell_type": "code",
      "source": [
        "image_labels = []\n",
        "for  label in validation_set.classes:\n",
        "  image_labels.append(categories_dict[label])\n",
        "\n",
        "df = pd.DataFrame(image_labels)\n",
        "sns.countplot(x=0, data= df).set(Title='Validation Dataset', xlabel='Class', ylabel='Number of Images')"
      ],
      "metadata": {
        "id": "hJ8askAO0A3P",
        "colab": {
          "base_uri": "https://localhost:8080/",
          "height": 349
        },
        "outputId": "ef68b2b3-b5d0-4e4d-a9d2-44a2014454ab"
      },
      "execution_count": null,
      "outputs": [
        {
          "output_type": "execute_result",
          "data": {
            "text/plain": [
              "[Text(0, 0.5, 'Number of Images'),\n",
              " Text(0.5, 0, 'Class'),\n",
              " Text(0.5, 1.0, 'Validation Dataset')]"
            ]
          },
          "metadata": {},
          "execution_count": 15
        },
        {
          "output_type": "display_data",
          "data": {
            "text/plain": [
              "<Figure size 432x288 with 1 Axes>"
            ],
            "image/png": "[encoded data removed]"
          },
          "metadata": {
            "needs_background": "light"
          }
        }
      ]
    },
    {
      "cell_type": "code",
      "source": [
        "image_labels = []\n",
        "for  label in test_set.classes:\n",
        "  image_labels.append(categories_dict[label])\n",
        "\n",
        "df = pd.DataFrame(image_labels)\n",
        "sns.countplot(x=0, data= df).set(Title='Test Dataset', xlabel='Class', ylabel='Number of Images')"
      ],
      "metadata": {
        "colab": {
          "base_uri": "https://localhost:8080/",
          "height": 349
        },
        "id": "WDs3VklsLuSI",
        "outputId": "7894a1a6-5e17-4e67-a7a4-05f82cb420fc"
      },
      "execution_count": null,
      "outputs": [
        {
          "output_type": "execute_result",
          "data": {
            "text/plain": [
              "[Text(0, 0.5, 'Number of Images'),\n",
              " Text(0.5, 0, 'Class'),\n",
              " Text(0.5, 1.0, 'Test Dataset')]"
            ]
          },
          "metadata": {},
          "execution_count": 16
        },
        {
          "output_type": "display_data",
          "data": {
            "text/plain": [
              "<Figure size 432x288 with 1 Axes>"
            ],
            "image/png": "[encoded data removed]"
          },
          "metadata": {
            "needs_background": "light"
          }
        }
      ]
    },
    {
      "cell_type": "code",
      "execution_count": null,
      "metadata": {
        "id": "CiaX5wNYKBhY"
      },
      "outputs": [],
      "source": [
        "#TARGET_SIZE = (64, 64)"
      ]
    },
    {
      "cell_type": "code",
      "execution_count": null,
      "metadata": {
        "id": "RcVyoU-KJ9eQ"
      },
      "outputs": [],
      "source": [
        "#ls '/content/drive/My Drive/Comp 478 - Project/Chest X-ray (Covid-19 & Pneumonia)/Data/train/COVID19'"
      ]
    },
    {
      "cell_type": "code",
      "execution_count": null,
      "metadata": {
        "id": "PDUeEJ_GX9Zg"
      },
      "outputs": [],
      "source": [
        "X_train = []\n",
        "y_train = []\n",
        "X_train, y_train = next(train_balanced)"
      ]
    },
    {
      "cell_type": "code",
      "execution_count": null,
      "metadata": {
        "colab": {
          "base_uri": "https://localhost:8080/"
        },
        "id": "4_80DjpSYQTS",
        "outputId": "399e6a8d-645d-4004-ded5-8ae4ecf511ea"
      },
      "outputs": [
        {
          "output_type": "execute_result",
          "data": {
            "text/plain": [
              "((8349, 140, 140, 1), (8349, 3))"
            ]
          },
          "metadata": {},
          "execution_count": 19
        }
      ],
      "source": [
        "X_train.shape, y_train.shape"
      ]
    },
    {
      "cell_type": "code",
      "source": [
        "X_valid = []\n",
        "y_valid = []\n",
        "X_valid, y_valid = next(validation_set)"
      ],
      "metadata": {
        "id": "euMBpy7MLTsi"
      },
      "execution_count": null,
      "outputs": []
    },
    {
      "cell_type": "code",
      "source": [
        "X_valid.shape, y_valid.shape"
      ],
      "metadata": {
        "id": "bSbU10wTUzXV"
      },
      "execution_count": null,
      "outputs": []
    },
    {
      "cell_type": "code",
      "source": [
        "X_test = []\n",
        "y_test = []\n",
        "X_test, y_test = next(test_set)"
      ],
      "metadata": {
        "id": "aowCLWYnU5wG"
      },
      "execution_count": null,
      "outputs": []
    },
    {
      "cell_type": "code",
      "source": [
        "X_test.shape, y_test.shape"
      ],
      "metadata": {
        "colab": {
          "base_uri": "https://localhost:8080/"
        },
        "id": "5WFqeQnTU76D",
        "outputId": "35894b9c-6cc7-4dc9-8765-941dbb95058e"
      },
      "execution_count": null,
      "outputs": [
        {
          "output_type": "execute_result",
          "data": {
            "text/plain": [
              "((1299, 140, 140, 1), (1299, 3))"
            ]
          },
          "metadata": {},
          "execution_count": 35
        }
      ]
    },
    {
      "cell_type": "code",
      "execution_count": null,
      "metadata": {
        "colab": {
          "base_uri": "https://localhost:8080/"
        },
        "id": "MQ2-H9DIQW1T",
        "outputId": "efc13168-03d1-4f3e-fd00-eef4f42e1b52"
      },
      "outputs": [
        {
          "output_type": "execute_result",
          "data": {
            "text/plain": [
              "1"
            ]
          },
          "metadata": {},
          "execution_count": 21
        }
      ],
      "source": [
        "len(train_balanced)"
      ]
    },
    {
      "cell_type": "code",
      "execution_count": null,
      "metadata": {
        "id": "a1rSoGydP2Zx"
      },
      "outputs": [],
      "source": [
        "#from tqdm import tqdm\n",
        "#X_train = []\n",
        "#y_train = []\n",
        "#for X, y in tqdm(train_balanced, total=len(train_balanced)):\n",
        "#  print(\"\\nx\\n\")\n",
        "#  print(X)\n",
        "#  print(\"\\ny\\n\")\n",
        "#  print(y)\n",
        "#  X_train.append(X)\n",
        "#  y_train.append(y)"
      ]
    },
    {
      "cell_type": "code",
      "execution_count": null,
      "metadata": {
        "id": "d0eBBI9ZQkgO"
      },
      "outputs": [],
      "source": [
        "# X_train = np.concatenate(X_train)\n",
        "# y_train = np.concatenate(y_train)\n",
        "# X_valid = np.concatenate(X_valid)\n",
        "# y_valid = np.concatenate(y_valid)"
      ]
    },
    {
      "cell_type": "markdown",
      "source": [
        "Save the **Train** and **validation** array"
      ],
      "metadata": {
        "id": "r9OUTjroNlr-"
      }
    },
    {
      "cell_type": "code",
      "execution_count": null,
      "metadata": {
        "id": "FG-siu9xRP0R"
      },
      "outputs": [],
      "source": [
        "np.save(file = '/content/drive/My Drive/Comp 478 - Project/Chest X-ray (Covid-19 & Pneumonia)/Data/X_train', arr=X_train)\n",
        "np.save(file = '/content/drive/My Drive/Comp 478 - Project/Chest X-ray (Covid-19 & Pneumonia)/Data/y_train', arr=y_train)\n",
        "\n",
        "np.save(file = '/content/drive/My Drive/Comp 478 - Project/Chest X-ray (Covid-19 & Pneumonia)/Data/X_valid', arr=X_valid)\n",
        "np.save(file = '/content/drive/My Drive/Comp 478 - Project/Chest X-ray (Covid-19 & Pneumonia)/Data/y_valid', arr=y_valid)\n",
        "\n",
        "np.save(file = '/content/drive/My Drive/Comp 478 - Project/Chest X-ray (Covid-19 & Pneumonia)/Data/X_test', arr=X_test)\n",
        "np.save(file = '/content/drive/My Drive/Comp 478 - Project/Chest X-ray (Covid-19 & Pneumonia)/Data/y_test', arr=y_test)"
      ]
    },
    {
      "cell_type": "code",
      "execution_count": null,
      "metadata": {
        "colab": {
          "base_uri": "https://localhost:8080/"
        },
        "id": "ltkyjVG2RqYQ",
        "outputId": "2bec4179-454b-4422-aeb0-bea4145e8e42"
      },
      "outputs": [
        {
          "output_type": "stream",
          "name": "stdout",
          "text": [
            "total 799M\n",
            "drwx------ 5 root root 4.0K Apr 13 21:42 \u001b[0m\u001b[01;34mtest\u001b[0m/\n",
            "drwx------ 5 root root 4.0K Apr 15 13:24 \u001b[01;34mtrain\u001b[0m/\n",
            "drwx------ 5 root root 4.0K Apr 15 14:27 \u001b[01;34mvalidation\u001b[0m/\n",
            "-rw------- 1 root root  98M Apr 15 17:48 X_test.npy\n",
            "-rw------- 1 root root 625M Apr 15 17:37 X_train.npy\n",
            "-rw------- 1 root root  77M Apr 15 17:37 X_valid.npy\n",
            "-rw------- 1 root root  16K Apr 15 17:48 y_test.npy\n",
            "-rw------- 1 root root  98K Apr 15 17:37 y_train.npy\n",
            "-rw------- 1 root root  13K Apr 15 17:37 y_valid.npy\n"
          ]
        }
      ],
      "source": [
        "ls -lh '/content/drive/My Drive/Comp 478 - Project/Chest X-ray (Covid-19 & Pneumonia)/Data'"
      ]
    },
    {
      "cell_type": "markdown",
      "source": [
        "### Load the Train and Validation array ( on next run Continue from here , no need to run prev code)"
      ],
      "metadata": {
        "id": "5zCnKDkVNxtu"
      }
    },
    {
      "cell_type": "code",
      "execution_count": null,
      "metadata": {
        "id": "dCTAKWRkR17b"
      },
      "outputs": [],
      "source": [
        "X_train = np.load('/content/drive/My Drive/Comp 478 - Project/Chest X-ray (Covid-19 & Pneumonia)/Data/X_train.npy')\n",
        "y_train = np.load('/content/drive/My Drive/Comp 478 - Project/Chest X-ray (Covid-19 & Pneumonia)/Data/y_train.npy')\n",
        "X_valid = np.load('/content/drive/My Drive/Comp 478 - Project/Chest X-ray (Covid-19 & Pneumonia)/Data/X_valid.npy')\n",
        "y_valid = np.load('/content/drive/My Drive/Comp 478 - Project/Chest X-ray (Covid-19 & Pneumonia)/Data/y_valid.npy')\n",
        "\n",
        "X_test = np.load('/content/drive/My Drive/Comp 478 - Project/Chest X-ray (Covid-19 & Pneumonia)/Data/X_test.npy')\n",
        "y_test = np.load('/content/drive/My Drive/Comp 478 - Project/Chest X-ray (Covid-19 & Pneumonia)/Data/y_test.npy')"
      ]
    },
    {
      "cell_type": "markdown",
      "metadata": {
        "id": "-QUyKlaSp-kE"
      },
      "source": [
        "<h1>Training CNN</h1>"
      ]
    },
    {
      "cell_type": "markdown",
      "source": [
        "### Initialize some performance metrix"
      ],
      "metadata": {
        "id": "7TAdLK25rm1x"
      }
    },
    {
      "cell_type": "code",
      "source": [
        "# snipset from :https://datascience.stackexchange.com/a/45166\n",
        "from keras import backend as K\n",
        "\n",
        "def recall_m(y_true, y_pred):\n",
        "    true_positives = K.sum(K.round(K.clip(y_true * y_pred, 0, 1)))\n",
        "    possible_positives = K.sum(K.round(K.clip(y_true, 0, 1)))\n",
        "    recall = true_positives / (possible_positives + K.epsilon())\n",
        "    return recall\n",
        "\n",
        "def precision_m(y_true, y_pred):\n",
        "    true_positives = K.sum(K.round(K.clip(y_true * y_pred, 0, 1)))\n",
        "    predicted_positives = K.sum(K.round(K.clip(y_pred, 0, 1)))\n",
        "    precision = true_positives / (predicted_positives + K.epsilon())\n",
        "    return precision\n",
        "\n",
        "def f1_m(y_true, y_pred):\n",
        "    precision = precision_m(y_true, y_pred)\n",
        "    recall = recall_m(y_true, y_pred)\n",
        "    return 2*((precision*recall)/(precision+recall+K.epsilon()))"
      ],
      "metadata": {
        "id": "n1NdnvMaZAIs"
      },
      "execution_count": null,
      "outputs": []
    },
    {
      "cell_type": "code",
      "execution_count": null,
      "metadata": {
        "id": "gcsqrTl3yYJV"
      },
      "outputs": [],
      "source": [
        "from fastai import layers\n",
        "def build_model(X_train):  \n",
        "  model = keras.models.Sequential([\n",
        "    keras.layers.Conv2D(\n",
        "        filters=16,\n",
        "        kernel_size=6,\n",
        "        activation='relu',\n",
        "        input_shape=X_train.shape[1:]\n",
        "    ),\n",
        "    (Dropout(0.3)),\n",
        "    keras.layers.Conv2D(\n",
        "        filters=32,\n",
        "        kernel_size=3,\n",
        "        activation='relu'\n",
        "    ),\n",
        "\n",
        "     keras.layers.Conv2D(\n",
        "        filters=64,\n",
        "        kernel_size=3,\n",
        "        activation='relu'\n",
        "    ),\n",
        "    BatchNormalization(),\n",
        "    keras.layers.MaxPool2D(pool_size=(3,3)),\n",
        "    keras.layers.Flatten(),\n",
        "    keras.layers.Dense(\n",
        "        units=16,\n",
        "        activation='relu'\n",
        "    ),\n",
        "    keras.layers.Dense(3, activation='softmax')\n",
        "  ])\n",
        "  \n",
        "  model.compile(optimizer=keras.optimizers.Adam(lr=0.0001),\n",
        "              loss='categorical_crossentropy',\n",
        "              metrics=[keras.metrics.CategoricalAccuracy(),f1_m])\n",
        "  \n",
        "  return model"
      ]
    },
    {
      "cell_type": "code",
      "execution_count": null,
      "metadata": {
        "id": "xHgCm5uLDmUQ",
        "colab": {
          "base_uri": "https://localhost:8080/"
        },
        "outputId": "83157aff-55ea-4dbf-f7f7-ef352402ffac"
      },
      "outputs": [
        {
          "output_type": "execute_result",
          "data": {
            "text/plain": [
              "(8349, 140, 140, 1)"
            ]
          },
          "metadata": {},
          "execution_count": 84
        }
      ],
      "source": [
        "# 64, 140, 140, 1)\n",
        "X_train.shape"
      ]
    },
    {
      "cell_type": "code",
      "execution_count": null,
      "metadata": {
        "colab": {
          "base_uri": "https://localhost:8080/"
        },
        "id": "npUOeeEjd4P4",
        "outputId": "37ba318e-4e72-47bc-b224-470b25167946"
      },
      "outputs": [
        {
          "output_type": "stream",
          "name": "stdout",
          "text": [
            "Model: \"sequential_7\"\n",
            "_________________________________________________________________\n",
            " Layer (type)                Output Shape              Param #   \n",
            "=================================================================\n",
            " conv2d_23 (Conv2D)          (None, 135, 135, 16)      592       \n",
            "                                                                 \n",
            " dropout_3 (Dropout)         (None, 135, 135, 16)      0         \n",
            "                                                                 \n",
            " conv2d_24 (Conv2D)          (None, 133, 133, 32)      4640      \n",
            "                                                                 \n",
            " conv2d_25 (Conv2D)          (None, 131, 131, 64)      18496     \n",
            "                                                                 \n",
            " batch_normalization_1 (Batc  (None, 131, 131, 64)     256       \n",
            " hNormalization)                                                 \n",
            "                                                                 \n",
            " max_pooling2d_7 (MaxPooling  (None, 43, 43, 64)       0         \n",
            " 2D)                                                             \n",
            "                                                                 \n",
            " flatten_7 (Flatten)         (None, 118336)            0         \n",
            "                                                                 \n",
            " dense_14 (Dense)            (None, 16)                1893392   \n",
            "                                                                 \n",
            " dense_15 (Dense)            (None, 3)                 51        \n",
            "                                                                 \n",
            "=================================================================\n",
            "Total params: 1,917,427\n",
            "Trainable params: 1,917,299\n",
            "Non-trainable params: 128\n",
            "_________________________________________________________________\n"
          ]
        },
        {
          "output_type": "stream",
          "name": "stderr",
          "text": [
            "/usr/local/lib/python3.7/dist-packages/keras/optimizer_v2/adam.py:105: UserWarning: The `lr` argument is deprecated, use `learning_rate` instead.\n",
            "  super(Adam, self).__init__(name, **kwargs)\n"
          ]
        }
      ],
      "source": [
        "model = build_model(X_train)\n",
        "model.summary()"
      ]
    },
    {
      "cell_type": "code",
      "execution_count": null,
      "metadata": {
        "colab": {
          "base_uri": "https://localhost:8080/"
        },
        "id": "vts7eK5ZHGsG",
        "outputId": "c2ae5137-4c20-4df1-d37d-19aa590040c4"
      },
      "outputs": [
        {
          "output_type": "execute_result",
          "data": {
            "text/plain": [
              "True"
            ]
          },
          "metadata": {},
          "execution_count": 86
        }
      ],
      "source": [
        "tf.test.is_gpu_available()"
      ]
    },
    {
      "cell_type": "code",
      "execution_count": null,
      "metadata": {
        "colab": {
          "base_uri": "https://localhost:8080/"
        },
        "id": "NJMMGk5XOXoY",
        "outputId": "79673c28-98f3-45a1-ac37-a00645966b30"
      },
      "outputs": [
        {
          "output_type": "stream",
          "name": "stdout",
          "text": [
            "Epoch 1/27\n",
            "261/261 [==============================] - 16s 60ms/step - loss: 1.1227 - categorical_accuracy: 0.3796 - f1_m: 0.0391 - val_loss: 1.0798 - val_categorical_accuracy: 0.3356 - val_f1_m: 0.0865\n",
            "Epoch 2/27\n",
            "261/261 [==============================] - 15s 57ms/step - loss: 0.7705 - categorical_accuracy: 0.7127 - f1_m: 0.5140 - val_loss: 0.7189 - val_categorical_accuracy: 0.7996 - val_f1_m: 0.6497\n",
            "Epoch 3/27\n",
            "261/261 [==============================] - 15s 58ms/step - loss: 0.5584 - categorical_accuracy: 0.8811 - f1_m: 0.7015 - val_loss: 0.8397 - val_categorical_accuracy: 0.7607 - val_f1_m: 0.7526\n",
            "Epoch 4/27\n",
            "261/261 [==============================] - 15s 58ms/step - loss: 0.5128 - categorical_accuracy: 0.9086 - f1_m: 0.7184 - val_loss: 0.6585 - val_categorical_accuracy: 0.7977 - val_f1_m: 0.7951\n",
            "Epoch 5/27\n",
            "261/261 [==============================] - 15s 57ms/step - loss: 0.4656 - categorical_accuracy: 0.9260 - f1_m: 0.7328 - val_loss: 0.8318 - val_categorical_accuracy: 0.7821 - val_f1_m: 0.7669\n",
            "Epoch 6/27\n",
            "261/261 [==============================] - 15s 57ms/step - loss: 0.4362 - categorical_accuracy: 0.9406 - f1_m: 0.7377 - val_loss: 0.4874 - val_categorical_accuracy: 0.8599 - val_f1_m: 0.8037\n",
            "Epoch 7/27\n",
            "261/261 [==============================] - 15s 58ms/step - loss: 0.4142 - categorical_accuracy: 0.9455 - f1_m: 0.7425 - val_loss: 0.4749 - val_categorical_accuracy: 0.8998 - val_f1_m: 0.8108\n",
            "Epoch 8/27\n",
            "261/261 [==============================] - 15s 58ms/step - loss: 0.3913 - categorical_accuracy: 0.9538 - f1_m: 0.7476 - val_loss: 0.4185 - val_categorical_accuracy: 0.8862 - val_f1_m: 0.8114\n",
            "Epoch 9/27\n",
            "261/261 [==============================] - 15s 58ms/step - loss: 0.3760 - categorical_accuracy: 0.9550 - f1_m: 0.7542 - val_loss: 0.4660 - val_categorical_accuracy: 0.8842 - val_f1_m: 0.8073\n",
            "Epoch 10/27\n",
            "261/261 [==============================] - 15s 58ms/step - loss: 0.3536 - categorical_accuracy: 0.9644 - f1_m: 0.7539 - val_loss: 0.4535 - val_categorical_accuracy: 0.8969 - val_f1_m: 0.8146\n",
            "Epoch 11/27\n",
            "261/261 [==============================] - 15s 58ms/step - loss: 0.3370 - categorical_accuracy: 0.9703 - f1_m: 0.7579 - val_loss: 0.4192 - val_categorical_accuracy: 0.8911 - val_f1_m: 0.8117\n",
            "Epoch 12/27\n",
            "261/261 [==============================] - 15s 58ms/step - loss: 0.3225 - categorical_accuracy: 0.9731 - f1_m: 0.7587 - val_loss: 0.3746 - val_categorical_accuracy: 0.9173 - val_f1_m: 0.8209\n",
            "Epoch 13/27\n",
            "261/261 [==============================] - 15s 58ms/step - loss: 0.3130 - categorical_accuracy: 0.9745 - f1_m: 0.7597 - val_loss: 0.3691 - val_categorical_accuracy: 0.9125 - val_f1_m: 0.8213\n",
            "Epoch 14/27\n",
            "261/261 [==============================] - 15s 58ms/step - loss: 0.2962 - categorical_accuracy: 0.9794 - f1_m: 0.7624 - val_loss: 0.3641 - val_categorical_accuracy: 0.9270 - val_f1_m: 0.8191\n",
            "Epoch 15/27\n",
            "261/261 [==============================] - 15s 58ms/step - loss: 0.2866 - categorical_accuracy: 0.9799 - f1_m: 0.7792 - val_loss: 0.4122 - val_categorical_accuracy: 0.9095 - val_f1_m: 0.9109\n",
            "Epoch 16/27\n",
            "261/261 [==============================] - 15s 58ms/step - loss: 0.2746 - categorical_accuracy: 0.9817 - f1_m: 0.9792 - val_loss: 0.3847 - val_categorical_accuracy: 0.9436 - val_f1_m: 0.9410\n",
            "Epoch 17/27\n",
            "261/261 [==============================] - 15s 59ms/step - loss: 0.2529 - categorical_accuracy: 0.9816 - f1_m: 0.9800 - val_loss: 0.5873 - val_categorical_accuracy: 0.9066 - val_f1_m: 0.9066\n",
            "Epoch 18/27\n",
            "261/261 [==============================] - 15s 59ms/step - loss: 0.1660 - categorical_accuracy: 0.9753 - f1_m: 0.9731 - val_loss: 0.4263 - val_categorical_accuracy: 0.9329 - val_f1_m: 0.9339\n",
            "Epoch 19/27\n",
            "261/261 [==============================] - 15s 59ms/step - loss: 0.1167 - categorical_accuracy: 0.9781 - f1_m: 0.9770 - val_loss: 0.2864 - val_categorical_accuracy: 0.9368 - val_f1_m: 0.9402\n",
            "Epoch 20/27\n",
            "261/261 [==============================] - 15s 59ms/step - loss: 0.0905 - categorical_accuracy: 0.9835 - f1_m: 0.9832 - val_loss: 0.3335 - val_categorical_accuracy: 0.9329 - val_f1_m: 0.9343\n",
            "Epoch 21/27\n",
            "261/261 [==============================] - 15s 59ms/step - loss: 0.0775 - categorical_accuracy: 0.9848 - f1_m: 0.9828 - val_loss: 0.3237 - val_categorical_accuracy: 0.9426 - val_f1_m: 0.9433\n",
            "Epoch 22/27\n",
            "261/261 [==============================] - 15s 58ms/step - loss: 0.0668 - categorical_accuracy: 0.9874 - f1_m: 0.9866 - val_loss: 0.3047 - val_categorical_accuracy: 0.9387 - val_f1_m: 0.9419\n",
            "Epoch 23/27\n",
            "261/261 [==============================] - 15s 58ms/step - loss: 0.0612 - categorical_accuracy: 0.9887 - f1_m: 0.9884 - val_loss: 0.3681 - val_categorical_accuracy: 0.9270 - val_f1_m: 0.9288\n",
            "Epoch 24/27\n",
            "261/261 [==============================] - 15s 58ms/step - loss: 0.0537 - categorical_accuracy: 0.9892 - f1_m: 0.9892 - val_loss: 0.3979 - val_categorical_accuracy: 0.8949 - val_f1_m: 0.8989\n",
            "Epoch 25/27\n",
            "261/261 [==============================] - 15s 58ms/step - loss: 0.0494 - categorical_accuracy: 0.9901 - f1_m: 0.9901 - val_loss: 0.3870 - val_categorical_accuracy: 0.9436 - val_f1_m: 0.9468\n",
            "Epoch 26/27\n",
            "261/261 [==============================] - 15s 58ms/step - loss: 0.0444 - categorical_accuracy: 0.9913 - f1_m: 0.9914 - val_loss: 0.3992 - val_categorical_accuracy: 0.9387 - val_f1_m: 0.9412\n",
            "Epoch 27/27\n",
            "261/261 [==============================] - 15s 58ms/step - loss: 0.0448 - categorical_accuracy: 0.9899 - f1_m: 0.9896 - val_loss: 0.3672 - val_categorical_accuracy: 0.9387 - val_f1_m: 0.9416\n"
          ]
        },
        {
          "output_type": "execute_result",
          "data": {
            "text/plain": [
              "<keras.callbacks.History at 0x7fd9c25e1b90>"
            ]
          },
          "metadata": {},
          "execution_count": 87
        }
      ],
      "source": [
        "model.fit(X_train, y_train, batch_size=32, epochs=27, validation_data=(X_valid, y_valid))"
      ]
    },
    {
      "cell_type": "markdown",
      "metadata": {
        "id": "24B-A_45Zklj"
      },
      "source": [
        "------"
      ]
    },
    {
      "cell_type": "code",
      "execution_count": null,
      "metadata": {
        "id": "PR615IFDZn4C"
      },
      "outputs": [],
      "source": [
        "def predict(model, image, correct_label):\n",
        "  prediction = model.predict(np.array([image]))\n",
        "  print(prediction)\n",
        "  predicted_class = categories_dict[np.argmax(prediction)]\n",
        "  show_image(image, categories_dict[correct_label], predicted_class)"
      ]
    },
    {
      "cell_type": "code",
      "source": [
        "model.evaluate(X_test, y_test)"
      ],
      "metadata": {
        "colab": {
          "base_uri": "https://localhost:8080/"
        },
        "id": "wKz8V3LRM8Rh",
        "outputId": "d286eb6a-5c16-4cff-c199-4b32f805115b"
      },
      "execution_count": null,
      "outputs": [
        {
          "output_type": "stream",
          "name": "stdout",
          "text": [
            "41/41 [==============================] - 1s 21ms/step - loss: 0.3322 - categorical_accuracy: 0.9469 - f1_m: 0.9462\n"
          ]
        },
        {
          "output_type": "execute_result",
          "data": {
            "text/plain": [
              "[0.33222874999046326, 0.9468821883201599, 0.9462082982063293]"
            ]
          },
          "metadata": {},
          "execution_count": 88
        }
      ]
    },
    {
      "cell_type": "code",
      "source": [
        "y_pred_train = model.predict(X_train)\n",
        "y_pred_valid = model.predict(X_valid)\n",
        "y_pred_test = model.predict(X_test)"
      ],
      "metadata": {
        "id": "TNBm6Bd8NGTc"
      },
      "execution_count": null,
      "outputs": []
    },
    {
      "cell_type": "code",
      "source": [
        "from sklearn.metrics import classification_report, plot_confusion_matrix"
      ],
      "metadata": {
        "id": "28CIQ-dZNKul"
      },
      "execution_count": null,
      "outputs": []
    },
    {
      "cell_type": "code",
      "source": [
        "\n",
        "print(\"Train\")\n",
        "print(classification_report(y_train.argmax(axis=1), y_pred_train.argmax(axis=1)))\n",
        "\n",
        "print(\"\\n***********\\nValid\")\n",
        "print(classification_report(y_valid.argmax(axis=1), y_pred_valid.argmax(axis=1)))\n",
        "\n",
        "print(\"\\n***********\\nTest\")\n",
        "print(classification_report(y_test.argmax(axis=1), y_pred_test.argmax(axis=1)))\n"
      ],
      "metadata": {
        "colab": {
          "base_uri": "https://localhost:8080/"
        },
        "id": "60APgbeJNRSa",
        "outputId": "057729cf-5c78-475d-8041-d1e409f2c130"
      },
      "execution_count": null,
      "outputs": [
        {
          "output_type": "stream",
          "name": "stdout",
          "text": [
            "Train\n",
            "              precision    recall  f1-score   support\n",
            "\n",
            "           0       1.00      0.99      0.99      2575\n",
            "           1       0.99      0.99      0.99      3039\n",
            "           2       0.98      0.99      0.99      2735\n",
            "\n",
            "    accuracy                           0.99      8349\n",
            "   macro avg       0.99      0.99      0.99      8349\n",
            "weighted avg       0.99      0.99      0.99      8349\n",
            "\n",
            "\n",
            "***********\n",
            "Valid\n",
            "              precision    recall  f1-score   support\n",
            "\n",
            "           0       0.92      0.91      0.92        92\n",
            "           1       0.89      0.91      0.90       253\n",
            "           2       0.96      0.95      0.96       683\n",
            "\n",
            "    accuracy                           0.94      1028\n",
            "   macro avg       0.92      0.93      0.92      1028\n",
            "weighted avg       0.94      0.94      0.94      1028\n",
            "\n",
            "\n",
            "***********\n",
            "Test\n",
            "              precision    recall  f1-score   support\n",
            "\n",
            "           0       0.98      0.96      0.97       118\n",
            "           1       0.91      0.90      0.90       320\n",
            "           2       0.96      0.96      0.96       861\n",
            "\n",
            "    accuracy                           0.95      1299\n",
            "   macro avg       0.95      0.94      0.94      1299\n",
            "weighted avg       0.95      0.95      0.95      1299\n",
            "\n"
          ]
        }
      ]
    },
    {
      "cell_type": "code",
      "source": [
        "confusion = pd.crosstab(y_test.argmax(axis=1), y_pred_test.argmax(axis=1)).reindex(columns=range(3)).fillna(0)"
      ],
      "metadata": {
        "id": "DNbu3BuCNkCw"
      },
      "execution_count": null,
      "outputs": []
    },
    {
      "cell_type": "code",
      "source": [
        "confusion"
      ],
      "metadata": {
        "colab": {
          "base_uri": "https://localhost:8080/",
          "height": 175
        },
        "id": "_cSVuLLiOh9L",
        "outputId": "c1c915e9-08f3-4142-a4bc-958810cbafcc"
      },
      "execution_count": null,
      "outputs": [
        {
          "output_type": "execute_result",
          "data": {
            "text/plain": [
              "col_0    0    1    2\n",
              "row_0               \n",
              "0      115    1    2\n",
              "1        2  292   26\n",
              "2       12   44  805"
            ],
            "text/html": [
              "\n",
              "  <div id=\"df-1cf863eb-22fa-4b8c-8316-e57d067a1d3d\">\n",
              "    <div class=\"colab-df-container\">\n",
              "      <div>\n",
              "<style scoped>\n",
              "    .dataframe tbody tr th:only-of-type {\n",
              "        vertical-align: middle;\n",
              "    }\n",
              "\n",
              "    .dataframe tbody tr th {\n",
              "        vertical-align: top;\n",
              "    }\n",
              "\n",
              "    .dataframe thead th {\n",
              "        text-align: right;\n",
              "    }\n",
              "</style>\n",
              "<table border=\"1\" class=\"dataframe\">\n",
              "  <thead>\n",
              "    <tr style=\"text-align: right;\">\n",
              "      <th>col_0</th>\n",
              "      <th>0</th>\n",
              "      <th>1</th>\n",
              "      <th>2</th>\n",
              "    </tr>\n",
              "    <tr>\n",
              "      <th>row_0</th>\n",
              "      <th></th>\n",
              "      <th></th>\n",
              "      <th></th>\n",
              "    </tr>\n",
              "  </thead>\n",
              "  <tbody>\n",
              "    <tr>\n",
              "      <th>0</th>\n",
              "      <td>115</td>\n",
              "      <td>1</td>\n",
              "      <td>2</td>\n",
              "    </tr>\n",
              "    <tr>\n",
              "      <th>1</th>\n",
              "      <td>2</td>\n",
              "      <td>292</td>\n",
              "      <td>26</td>\n",
              "    </tr>\n",
              "    <tr>\n",
              "      <th>2</th>\n",
              "      <td>12</td>\n",
              "      <td>44</td>\n",
              "      <td>805</td>\n",
              "    </tr>\n",
              "  </tbody>\n",
              "</table>\n",
              "</div>\n",
              "      <button class=\"colab-df-convert\" onclick=\"convertToInteractive('df-1cf863eb-22fa-4b8c-8316-e57d067a1d3d')\"\n",
              "              title=\"Convert this dataframe to an interactive table.\"\n",
              "              style=\"display:none;\">\n",
              "        \n",
              "  <svg xmlns=\"http://www.w3.org/2000/svg\" height=\"24px\"viewBox=\"0 0 24 24\"\n",
              "       width=\"24px\">\n",
              "    <path d=\"M0 0h24v24H0V0z\" fill=\"none\"/>\n",
              "    <path d=\"M18.56 5.44l.94 2.06.94-2.06 2.06-.94-2.06-.94-.94-2.06-.94 2.06-2.06.94zm-11 1L8.5 8.5l.94-2.06 2.06-.94-2.06-.94L8.5 2.5l-.94 2.06-2.06.94zm10 10l.94 2.06.94-2.06 2.06-.94-2.06-.94-.94-2.06-.94 2.06-2.06.94z\"/><path d=\"M17.41 7.96l-1.37-1.37c-.4-.4-.92-.59-1.43-.59-.52 0-1.04.2-1.43.59L10.3 9.45l-7.72 7.72c-.78.78-.78 2.05 0 2.83L4 21.41c.39.39.9.59 1.41.59.51 0 1.02-.2 1.41-.59l7.78-7.78 2.81-2.81c.8-.78.8-2.07 0-2.86zM5.41 20L4 18.59l7.72-7.72 1.47 1.35L5.41 20z\"/>\n",
              "  </svg>\n",
              "      </button>\n",
              "      \n",
              "  <style>\n",
              "    .colab-df-container {\n",
              "      display:flex;\n",
              "      flex-wrap:wrap;\n",
              "      gap: 12px;\n",
              "    }\n",
              "\n",
              "    .colab-df-convert {\n",
              "      background-color: #E8F0FE;\n",
              "      border: none;\n",
              "      border-radius: 50%;\n",
              "      cursor: pointer;\n",
              "      display: none;\n",
              "      fill: #1967D2;\n",
              "      height: 32px;\n",
              "      padding: 0 0 0 0;\n",
              "      width: 32px;\n",
              "    }\n",
              "\n",
              "    .colab-df-convert:hover {\n",
              "      background-color: #E2EBFA;\n",
              "      box-shadow: 0px 1px 2px rgba(60, 64, 67, 0.3), 0px 1px 3px 1px rgba(60, 64, 67, 0.15);\n",
              "      fill: #174EA6;\n",
              "    }\n",
              "\n",
              "    [theme=dark] .colab-df-convert {\n",
              "      background-color: #3B4455;\n",
              "      fill: #D2E3FC;\n",
              "    }\n",
              "\n",
              "    [theme=dark] .colab-df-convert:hover {\n",
              "      background-color: #434B5C;\n",
              "      box-shadow: 0px 1px 3px 1px rgba(0, 0, 0, 0.15);\n",
              "      filter: drop-shadow(0px 1px 2px rgba(0, 0, 0, 0.3));\n",
              "      fill: #FFFFFF;\n",
              "    }\n",
              "  </style>\n",
              "\n",
              "      <script>\n",
              "        const buttonEl =\n",
              "          document.querySelector('#df-1cf863eb-22fa-4b8c-8316-e57d067a1d3d button.colab-df-convert');\n",
              "        buttonEl.style.display =\n",
              "          google.colab.kernel.accessAllowed ? 'block' : 'none';\n",
              "\n",
              "        async function convertToInteractive(key) {\n",
              "          const element = document.querySelector('#df-1cf863eb-22fa-4b8c-8316-e57d067a1d3d');\n",
              "          const dataTable =\n",
              "            await google.colab.kernel.invokeFunction('convertToInteractive',\n",
              "                                                     [key], {});\n",
              "          if (!dataTable) return;\n",
              "\n",
              "          const docLinkHtml = 'Like what you see? Visit the ' +\n",
              "            '<a target=\"_blank\" href=https://colab.research.google.com/notebooks/data_table.ipynb>data table notebook</a>'\n",
              "            + ' to learn more about interactive tables.';\n",
              "          element.innerHTML = '';\n",
              "          dataTable['output_type'] = 'display_data';\n",
              "          await google.colab.output.renderOutput(dataTable, element);\n",
              "          const docLink = document.createElement('div');\n",
              "          docLink.innerHTML = docLinkHtml;\n",
              "          element.appendChild(docLink);\n",
              "        }\n",
              "      </script>\n",
              "    </div>\n",
              "  </div>\n",
              "  "
            ]
          },
          "metadata": {},
          "execution_count": 91
        }
      ]
    },
    {
      "cell_type": "code",
      "source": [
        "import seaborn as sns"
      ],
      "metadata": {
        "id": "aqkOMuAiOBXR"
      },
      "execution_count": null,
      "outputs": []
    },
    {
      "cell_type": "code",
      "source": [
        "sns.heatmap(confusion, annot=True)\n",
        "plt.xlabel('Predicted')\n",
        "plt.ylabel('Actual');"
      ],
      "metadata": {
        "colab": {
          "base_uri": "https://localhost:8080/",
          "height": 282
        },
        "id": "CqYRD_aTOSaO",
        "outputId": "f4fe998e-aa85-4d16-97b9-346c6bfcc348"
      },
      "execution_count": null,
      "outputs": [
        {
          "output_type": "display_data",
          "data": {
            "text/plain": [
              "<Figure size 432x288 with 2 Axes>"
            ],
            "image/png": "[encoded data removed]"
          },
          "metadata": {
            "needs_background": "light"
          }
        }
      ]
    },
    {
      "cell_type": "code",
      "source": [
        ""
      ],
      "metadata": {
        "colab": {
          "base_uri": "https://localhost:8080/"
        },
        "id": "AXKI9opkPHqW",
        "outputId": "e4beb11e-46d4-4cee-b44d-3e7019b2ba05"
      },
      "execution_count": null,
      "outputs": [
        {
          "output_type": "execute_result",
          "data": {
            "text/plain": [
              "(140, 140, 1)"
            ]
          },
          "metadata": {},
          "execution_count": 180
        }
      ]
    },
    {
      "cell_type": "code",
      "source": [
        ""
      ],
      "metadata": {
        "id": "bc9FEj6irb8z"
      },
      "execution_count": null,
      "outputs": []
    },
    {
      "cell_type": "markdown",
      "source": [
        "# EfficientNetB0"
      ],
      "metadata": {
        "id": "ayJkDrMVZPfh"
      }
    },
    {
      "cell_type": "code",
      "source": [
        "effnet = tf.keras.applications.EfficientNetB0(\n",
        "    include_top=False,\n",
        "    weights=\"imagenet\",\n",
        "    pooling='max',\n",
        "    input_shape=(X_train.shape[1], X_train.shape[2], 3),\n",
        "\n",
        ")"
      ],
      "metadata": {
        "id": "eCJOzyaOPHwa"
      },
      "execution_count": null,
      "outputs": []
    },
    {
      "cell_type": "code",
      "source": [
        "input_layer = tf.keras.layers.Input(shape=X_train.shape[1:])\n",
        "x = tf.keras.layers.Conv2D(3, (3,3), padding='same')(input_layer)\n",
        "x = effnet(x)\n",
        "out = tf.keras.layers.Dense(3, activation='softmax')(x)\n",
        "model = tf.keras.models.Model(inputs=input_layer, outputs=out)"
      ],
      "metadata": {
        "id": "u_3vNG2SPHzF"
      },
      "execution_count": null,
      "outputs": []
    },
    {
      "cell_type": "code",
      "source": [
        "model.summary()"
      ],
      "metadata": {
        "colab": {
          "base_uri": "https://localhost:8080/"
        },
        "id": "UvnfoZMUPH1E",
        "outputId": "15bc4e06-3978-4c3f-f1db-cd10ed817e12"
      },
      "execution_count": null,
      "outputs": [
        {
          "output_type": "stream",
          "name": "stdout",
          "text": [
            "Model: \"model_4\"\n",
            "_________________________________________________________________\n",
            " Layer (type)                Output Shape              Param #   \n",
            "=================================================================\n",
            " input_9 (InputLayer)        [(None, 140, 140, 1)]     0         \n",
            "                                                                 \n",
            " conv2d_10 (Conv2D)          (None, 140, 140, 3)       30        \n",
            "                                                                 \n",
            " efficientnetb0 (Functional)  (None, 1280)             4049571   \n",
            "                                                                 \n",
            " dense_6 (Dense)             (None, 3)                 3843      \n",
            "                                                                 \n",
            "=================================================================\n",
            "Total params: 4,053,444\n",
            "Trainable params: 4,011,421\n",
            "Non-trainable params: 42,023\n",
            "_________________________________________________________________\n"
          ]
        }
      ]
    },
    {
      "cell_type": "code",
      "source": [
        "model.compile(optimizer=keras.optimizers.Adam(lr=0.0001),\n",
        "              loss='categorical_crossentropy',\n",
        "              metrics=['acc',f1_m])"
      ],
      "metadata": {
        "colab": {
          "base_uri": "https://localhost:8080/"
        },
        "id": "cxCoO1QwT-C7",
        "outputId": "cb282677-cf83-4384-fbaa-009baf2b7f3a"
      },
      "execution_count": null,
      "outputs": [
        {
          "output_type": "stream",
          "name": "stderr",
          "text": [
            "/usr/local/lib/python3.7/dist-packages/keras/optimizer_v2/adam.py:105: UserWarning: The `lr` argument is deprecated, use `learning_rate` instead.\n",
            "  super(Adam, self).__init__(name, **kwargs)\n"
          ]
        }
      ]
    },
    {
      "cell_type": "code",
      "source": [
        "model.fit(X_train, y_train, batch_size=32, epochs=7, validation_data=(X_valid, y_valid))"
      ],
      "metadata": {
        "colab": {
          "base_uri": "https://localhost:8080/"
        },
        "id": "YtYwjksFPH4F",
        "outputId": "2a6161ed-cc9d-4a75-8a89-beb7fa1daff7"
      },
      "execution_count": null,
      "outputs": [
        {
          "output_type": "stream",
          "name": "stdout",
          "text": [
            "Epoch 1/7\n",
            "2/2 [==============================] - 9s 2s/step - loss: 0.0466 - acc: 0.9844 - f1_m: 0.9764 - val_loss: 1.1149 - val_acc: 0.2188 - val_f1_m: 0.0000e+00\n",
            "Epoch 2/7\n",
            "2/2 [==============================] - 0s 216ms/step - loss: 0.0742 - acc: 0.9844 - f1_m: 0.9764 - val_loss: 1.0721 - val_acc: 0.5156 - val_f1_m: 0.0000e+00\n",
            "Epoch 3/7\n",
            "2/2 [==============================] - 0s 208ms/step - loss: 0.0582 - acc: 0.9844 - f1_m: 0.9844 - val_loss: 1.0546 - val_acc: 0.5156 - val_f1_m: 0.0000e+00\n",
            "Epoch 4/7\n",
            "2/2 [==============================] - 0s 216ms/step - loss: 0.1493 - acc: 0.9531 - f1_m: 0.9531 - val_loss: 1.0648 - val_acc: 0.5156 - val_f1_m: 0.0000e+00\n",
            "Epoch 5/7\n",
            "2/2 [==============================] - 0s 219ms/step - loss: 0.0226 - acc: 1.0000 - f1_m: 1.0000 - val_loss: 1.0955 - val_acc: 0.5156 - val_f1_m: 0.0000e+00\n",
            "Epoch 6/7\n",
            "2/2 [==============================] - 0s 212ms/step - loss: 0.0248 - acc: 0.9844 - f1_m: 0.9844 - val_loss: 1.1243 - val_acc: 0.5156 - val_f1_m: 0.5156\n",
            "Epoch 7/7\n",
            "2/2 [==============================] - 0s 211ms/step - loss: 0.1241 - acc: 0.9375 - f1_m: 0.9375 - val_loss: 1.1316 - val_acc: 0.5156 - val_f1_m: 0.5156\n"
          ]
        },
        {
          "output_type": "execute_result",
          "data": {
            "text/plain": [
              "<keras.callbacks.History at 0x7fc489c6b550>"
            ]
          },
          "metadata": {},
          "execution_count": 207
        }
      ]
    },
    {
      "cell_type": "code",
      "source": [
        "y_pred = model.predict(X_test)\n",
        "print(classification_report(y_test.argmax(axis=1), y_pred.argmax(axis=1)))"
      ],
      "metadata": {
        "colab": {
          "base_uri": "https://localhost:8080/"
        },
        "id": "_PYTQmDuU5NY",
        "outputId": "2fec3b5c-8e56-4c81-87af-12a83039e9ac"
      },
      "execution_count": null,
      "outputs": [
        {
          "output_type": "stream",
          "name": "stdout",
          "text": [
            "              precision    recall  f1-score   support\n",
            "\n",
            "           0       0.00      0.00      0.00         4\n",
            "           1       0.00      0.00      0.00        16\n",
            "           2       0.69      1.00      0.81        44\n",
            "\n",
            "    accuracy                           0.69        64\n",
            "   macro avg       0.23      0.33      0.27        64\n",
            "weighted avg       0.47      0.69      0.56        64\n",
            "\n"
          ]
        },
        {
          "output_type": "stream",
          "name": "stderr",
          "text": [
            "/usr/local/lib/python3.7/dist-packages/sklearn/metrics/_classification.py:1318: UndefinedMetricWarning: Precision and F-score are ill-defined and being set to 0.0 in labels with no predicted samples. Use `zero_division` parameter to control this behavior.\n",
            "  _warn_prf(average, modifier, msg_start, len(result))\n",
            "/usr/local/lib/python3.7/dist-packages/sklearn/metrics/_classification.py:1318: UndefinedMetricWarning: Precision and F-score are ill-defined and being set to 0.0 in labels with no predicted samples. Use `zero_division` parameter to control this behavior.\n",
            "  _warn_prf(average, modifier, msg_start, len(result))\n",
            "/usr/local/lib/python3.7/dist-packages/sklearn/metrics/_classification.py:1318: UndefinedMetricWarning: Precision and F-score are ill-defined and being set to 0.0 in labels with no predicted samples. Use `zero_division` parameter to control this behavior.\n",
            "  _warn_prf(average, modifier, msg_start, len(result))\n"
          ]
        }
      ]
    },
    {
      "cell_type": "code",
      "execution_count": null,
      "metadata": {
        "colab": {
          "base_uri": "https://localhost:8080/",
          "height": 506
        },
        "id": "R1MoA7GcZpQD",
        "outputId": "febbb41b-114a-418b-ccdc-dcac527b3eea"
      },
      "outputs": [
        {
          "name": "stderr",
          "output_type": "stream",
          "text": [
            "/usr/local/lib/python3.7/dist-packages/numpy/core/fromnumeric.py:43: VisibleDeprecationWarning: Creating an ndarray from ragged nested sequences (which is a list-or-tuple of lists-or-tuples-or ndarrays with different lengths or shapes) is deprecated. If you meant to do this, you must specify 'dtype=object' when creating the ndarray.\n",
            "  result = getattr(asarray(obj), method)(*args, **kwds)\n"
          ]
        },
        {
          "ename": "ValueError",
          "evalue": "ignored",
          "output_type": "error",
          "traceback": [
            "\u001b[0;31m---------------------------------------------------------------------------\u001b[0m",
            "\u001b[0;31mValueError\u001b[0m                                Traceback (most recent call last)",
            "\u001b[0;32m<ipython-input-82-ecd382758217>\u001b[0m in \u001b[0;36m<module>\u001b[0;34m()\u001b[0m\n\u001b[1;32m      1\u001b[0m \u001b[0;32mfor\u001b[0m \u001b[0mi\u001b[0m \u001b[0;32min\u001b[0m \u001b[0mrange\u001b[0m\u001b[0;34m(\u001b[0m\u001b[0mlen\u001b[0m\u001b[0;34m(\u001b[0m\u001b[0mtest_data\u001b[0m\u001b[0;34m)\u001b[0m\u001b[0;34m)\u001b[0m\u001b[0;34m:\u001b[0m\u001b[0;34m\u001b[0m\u001b[0;34m\u001b[0m\u001b[0m\n\u001b[1;32m      2\u001b[0m   \u001b[0mimage\u001b[0m \u001b[0;34m=\u001b[0m \u001b[0mtest_data\u001b[0m\u001b[0;34m[\u001b[0m\u001b[0mi\u001b[0m\u001b[0;34m]\u001b[0m\u001b[0;34m\u001b[0m\u001b[0;34m\u001b[0m\u001b[0m\n\u001b[0;32m----> 3\u001b[0;31m   \u001b[0mlabel\u001b[0m \u001b[0;34m=\u001b[0m \u001b[0mnp\u001b[0m\u001b[0;34m.\u001b[0m\u001b[0margmax\u001b[0m\u001b[0;34m(\u001b[0m\u001b[0mtest_data\u001b[0m\u001b[0;34m[\u001b[0m\u001b[0mi\u001b[0m\u001b[0;34m]\u001b[0m\u001b[0;34m)\u001b[0m\u001b[0;34m\u001b[0m\u001b[0;34m\u001b[0m\u001b[0m\n\u001b[0m\u001b[1;32m      4\u001b[0m   \u001b[0mpredict\u001b[0m\u001b[0;34m(\u001b[0m\u001b[0mmodel\u001b[0m\u001b[0;34m,\u001b[0m \u001b[0mimage\u001b[0m\u001b[0;34m,\u001b[0m \u001b[0mlabel\u001b[0m\u001b[0;34m)\u001b[0m\u001b[0;34m\u001b[0m\u001b[0;34m\u001b[0m\u001b[0m\n",
            "\u001b[0;32m<__array_function__ internals>\u001b[0m in \u001b[0;36margmax\u001b[0;34m(*args, **kwargs)\u001b[0m\n",
            "\u001b[0;32m/usr/local/lib/python3.7/dist-packages/numpy/core/fromnumeric.py\u001b[0m in \u001b[0;36margmax\u001b[0;34m(a, axis, out)\u001b[0m\n\u001b[1;32m   1193\u001b[0m \u001b[0;34m\u001b[0m\u001b[0m\n\u001b[1;32m   1194\u001b[0m     \"\"\"\n\u001b[0;32m-> 1195\u001b[0;31m     \u001b[0;32mreturn\u001b[0m \u001b[0m_wrapfunc\u001b[0m\u001b[0;34m(\u001b[0m\u001b[0ma\u001b[0m\u001b[0;34m,\u001b[0m \u001b[0;34m'argmax'\u001b[0m\u001b[0;34m,\u001b[0m \u001b[0maxis\u001b[0m\u001b[0;34m=\u001b[0m\u001b[0maxis\u001b[0m\u001b[0;34m,\u001b[0m \u001b[0mout\u001b[0m\u001b[0;34m=\u001b[0m\u001b[0mout\u001b[0m\u001b[0;34m)\u001b[0m\u001b[0;34m\u001b[0m\u001b[0;34m\u001b[0m\u001b[0m\n\u001b[0m\u001b[1;32m   1196\u001b[0m \u001b[0;34m\u001b[0m\u001b[0m\n\u001b[1;32m   1197\u001b[0m \u001b[0;34m\u001b[0m\u001b[0m\n",
            "\u001b[0;32m/usr/local/lib/python3.7/dist-packages/numpy/core/fromnumeric.py\u001b[0m in \u001b[0;36m_wrapfunc\u001b[0;34m(obj, method, *args, **kwds)\u001b[0m\n\u001b[1;32m     52\u001b[0m     \u001b[0mbound\u001b[0m \u001b[0;34m=\u001b[0m \u001b[0mgetattr\u001b[0m\u001b[0;34m(\u001b[0m\u001b[0mobj\u001b[0m\u001b[0;34m,\u001b[0m \u001b[0mmethod\u001b[0m\u001b[0;34m,\u001b[0m \u001b[0;32mNone\u001b[0m\u001b[0;34m)\u001b[0m\u001b[0;34m\u001b[0m\u001b[0;34m\u001b[0m\u001b[0m\n\u001b[1;32m     53\u001b[0m     \u001b[0;32mif\u001b[0m \u001b[0mbound\u001b[0m \u001b[0;32mis\u001b[0m \u001b[0;32mNone\u001b[0m\u001b[0;34m:\u001b[0m\u001b[0;34m\u001b[0m\u001b[0;34m\u001b[0m\u001b[0m\n\u001b[0;32m---> 54\u001b[0;31m         \u001b[0;32mreturn\u001b[0m \u001b[0m_wrapit\u001b[0m\u001b[0;34m(\u001b[0m\u001b[0mobj\u001b[0m\u001b[0;34m,\u001b[0m \u001b[0mmethod\u001b[0m\u001b[0;34m,\u001b[0m \u001b[0;34m*\u001b[0m\u001b[0margs\u001b[0m\u001b[0;34m,\u001b[0m \u001b[0;34m**\u001b[0m\u001b[0mkwds\u001b[0m\u001b[0;34m)\u001b[0m\u001b[0;34m\u001b[0m\u001b[0;34m\u001b[0m\u001b[0m\n\u001b[0m\u001b[1;32m     55\u001b[0m \u001b[0;34m\u001b[0m\u001b[0m\n\u001b[1;32m     56\u001b[0m     \u001b[0;32mtry\u001b[0m\u001b[0;34m:\u001b[0m\u001b[0;34m\u001b[0m\u001b[0;34m\u001b[0m\u001b[0m\n",
            "\u001b[0;32m/usr/local/lib/python3.7/dist-packages/numpy/core/fromnumeric.py\u001b[0m in \u001b[0;36m_wrapit\u001b[0;34m(obj, method, *args, **kwds)\u001b[0m\n\u001b[1;32m     41\u001b[0m     \u001b[0;32mexcept\u001b[0m \u001b[0mAttributeError\u001b[0m\u001b[0;34m:\u001b[0m\u001b[0;34m\u001b[0m\u001b[0;34m\u001b[0m\u001b[0m\n\u001b[1;32m     42\u001b[0m         \u001b[0mwrap\u001b[0m \u001b[0;34m=\u001b[0m \u001b[0;32mNone\u001b[0m\u001b[0;34m\u001b[0m\u001b[0;34m\u001b[0m\u001b[0m\n\u001b[0;32m---> 43\u001b[0;31m     \u001b[0mresult\u001b[0m \u001b[0;34m=\u001b[0m \u001b[0mgetattr\u001b[0m\u001b[0;34m(\u001b[0m\u001b[0masarray\u001b[0m\u001b[0;34m(\u001b[0m\u001b[0mobj\u001b[0m\u001b[0;34m)\u001b[0m\u001b[0;34m,\u001b[0m \u001b[0mmethod\u001b[0m\u001b[0;34m)\u001b[0m\u001b[0;34m(\u001b[0m\u001b[0;34m*\u001b[0m\u001b[0margs\u001b[0m\u001b[0;34m,\u001b[0m \u001b[0;34m**\u001b[0m\u001b[0mkwds\u001b[0m\u001b[0;34m)\u001b[0m\u001b[0;34m\u001b[0m\u001b[0;34m\u001b[0m\u001b[0m\n\u001b[0m\u001b[1;32m     44\u001b[0m     \u001b[0;32mif\u001b[0m \u001b[0mwrap\u001b[0m\u001b[0;34m:\u001b[0m\u001b[0;34m\u001b[0m\u001b[0;34m\u001b[0m\u001b[0m\n\u001b[1;32m     45\u001b[0m         \u001b[0;32mif\u001b[0m \u001b[0;32mnot\u001b[0m \u001b[0misinstance\u001b[0m\u001b[0;34m(\u001b[0m\u001b[0mresult\u001b[0m\u001b[0;34m,\u001b[0m \u001b[0mmu\u001b[0m\u001b[0;34m.\u001b[0m\u001b[0mndarray\u001b[0m\u001b[0;34m)\u001b[0m\u001b[0;34m:\u001b[0m\u001b[0;34m\u001b[0m\u001b[0;34m\u001b[0m\u001b[0m\n",
            "\u001b[0;31mValueError\u001b[0m: could not broadcast input array from shape (32,256,256,3) into shape (32,)"
          ]
        }
      ],
      "source": [
        "for i in range(len(test_data)):\n",
        "  image = test_data[i]\n",
        "  label = np.argmax(test_data[i])\n",
        "  predict(model, image, label)"
      ]
    },
    {
      "cell_type": "code",
      "execution_count": null,
      "metadata": {
        "colab": {
          "base_uri": "https://localhost:8080/",
          "height": 328
        },
        "id": "9k1IXspCFe0E",
        "outputId": "53925c99-ad4a-4300-a09e-953b15ca6c6a"
      },
      "outputs": [
        {
          "name": "stdout",
          "output_type": "stream",
          "text": [
            "  7/159 [>.............................] - ETA: 28:01 - loss: 1.0990 - accuracy: 0.3326"
          ]
        },
        {
          "ename": "KeyboardInterrupt",
          "evalue": "ignored",
          "output_type": "error",
          "traceback": [
            "\u001b[0;31m---------------------------------------------------------------------------\u001b[0m",
            "\u001b[0;31mKeyboardInterrupt\u001b[0m                         Traceback (most recent call last)",
            "\u001b[0;32m<ipython-input-72-93829daac281>\u001b[0m in \u001b[0;36m<module>\u001b[0;34m()\u001b[0m\n\u001b[0;32m----> 1\u001b[0;31m \u001b[0mmodel\u001b[0m\u001b[0;34m.\u001b[0m\u001b[0mfit\u001b[0m\u001b[0;34m(\u001b[0m\u001b[0mtrain_balanced\u001b[0m\u001b[0;34m,\u001b[0m \u001b[0mvalidation_data\u001b[0m\u001b[0;34m=\u001b[0m\u001b[0mtest_dataset\u001b[0m\u001b[0;34m,\u001b[0m \u001b[0mepochs\u001b[0m\u001b[0;34m=\u001b[0m\u001b[0;36m1\u001b[0m\u001b[0;34m)\u001b[0m\u001b[0;34m\u001b[0m\u001b[0;34m\u001b[0m\u001b[0m\n\u001b[0m",
            "\u001b[0;32m/usr/local/lib/python3.7/dist-packages/keras/utils/traceback_utils.py\u001b[0m in \u001b[0;36merror_handler\u001b[0;34m(*args, **kwargs)\u001b[0m\n\u001b[1;32m     62\u001b[0m     \u001b[0mfiltered_tb\u001b[0m \u001b[0;34m=\u001b[0m \u001b[0;32mNone\u001b[0m\u001b[0;34m\u001b[0m\u001b[0;34m\u001b[0m\u001b[0m\n\u001b[1;32m     63\u001b[0m     \u001b[0;32mtry\u001b[0m\u001b[0;34m:\u001b[0m\u001b[0;34m\u001b[0m\u001b[0;34m\u001b[0m\u001b[0m\n\u001b[0;32m---> 64\u001b[0;31m       \u001b[0;32mreturn\u001b[0m \u001b[0mfn\u001b[0m\u001b[0;34m(\u001b[0m\u001b[0;34m*\u001b[0m\u001b[0margs\u001b[0m\u001b[0;34m,\u001b[0m \u001b[0;34m**\u001b[0m\u001b[0mkwargs\u001b[0m\u001b[0;34m)\u001b[0m\u001b[0;34m\u001b[0m\u001b[0;34m\u001b[0m\u001b[0m\n\u001b[0m\u001b[1;32m     65\u001b[0m     \u001b[0;32mexcept\u001b[0m \u001b[0mException\u001b[0m \u001b[0;32mas\u001b[0m \u001b[0me\u001b[0m\u001b[0;34m:\u001b[0m  \u001b[0;31m# pylint: disable=broad-except\u001b[0m\u001b[0;34m\u001b[0m\u001b[0;34m\u001b[0m\u001b[0m\n\u001b[1;32m     66\u001b[0m       \u001b[0mfiltered_tb\u001b[0m \u001b[0;34m=\u001b[0m \u001b[0m_process_traceback_frames\u001b[0m\u001b[0;34m(\u001b[0m\u001b[0me\u001b[0m\u001b[0;34m.\u001b[0m\u001b[0m__traceback__\u001b[0m\u001b[0;34m)\u001b[0m\u001b[0;34m\u001b[0m\u001b[0;34m\u001b[0m\u001b[0m\n",
            "\u001b[0;32m/usr/local/lib/python3.7/dist-packages/keras/engine/training.py\u001b[0m in \u001b[0;36mfit\u001b[0;34m(self, x, y, batch_size, epochs, verbose, callbacks, validation_split, validation_data, shuffle, class_weight, sample_weight, initial_epoch, steps_per_epoch, validation_steps, validation_batch_size, validation_freq, max_queue_size, workers, use_multiprocessing)\u001b[0m\n\u001b[1;32m   1382\u001b[0m                 _r=1):\n\u001b[1;32m   1383\u001b[0m               \u001b[0mcallbacks\u001b[0m\u001b[0;34m.\u001b[0m\u001b[0mon_train_batch_begin\u001b[0m\u001b[0;34m(\u001b[0m\u001b[0mstep\u001b[0m\u001b[0;34m)\u001b[0m\u001b[0;34m\u001b[0m\u001b[0;34m\u001b[0m\u001b[0m\n\u001b[0;32m-> 1384\u001b[0;31m               \u001b[0mtmp_logs\u001b[0m \u001b[0;34m=\u001b[0m \u001b[0mself\u001b[0m\u001b[0;34m.\u001b[0m\u001b[0mtrain_function\u001b[0m\u001b[0;34m(\u001b[0m\u001b[0miterator\u001b[0m\u001b[0;34m)\u001b[0m\u001b[0;34m\u001b[0m\u001b[0;34m\u001b[0m\u001b[0m\n\u001b[0m\u001b[1;32m   1385\u001b[0m               \u001b[0;32mif\u001b[0m \u001b[0mdata_handler\u001b[0m\u001b[0;34m.\u001b[0m\u001b[0mshould_sync\u001b[0m\u001b[0;34m:\u001b[0m\u001b[0;34m\u001b[0m\u001b[0;34m\u001b[0m\u001b[0m\n\u001b[1;32m   1386\u001b[0m                 \u001b[0mcontext\u001b[0m\u001b[0;34m.\u001b[0m\u001b[0masync_wait\u001b[0m\u001b[0;34m(\u001b[0m\u001b[0;34m)\u001b[0m\u001b[0;34m\u001b[0m\u001b[0;34m\u001b[0m\u001b[0m\n",
            "\u001b[0;32m/usr/local/lib/python3.7/dist-packages/tensorflow/python/util/traceback_utils.py\u001b[0m in \u001b[0;36merror_handler\u001b[0;34m(*args, **kwargs)\u001b[0m\n\u001b[1;32m    148\u001b[0m     \u001b[0mfiltered_tb\u001b[0m \u001b[0;34m=\u001b[0m \u001b[0;32mNone\u001b[0m\u001b[0;34m\u001b[0m\u001b[0;34m\u001b[0m\u001b[0m\n\u001b[1;32m    149\u001b[0m     \u001b[0;32mtry\u001b[0m\u001b[0;34m:\u001b[0m\u001b[0;34m\u001b[0m\u001b[0;34m\u001b[0m\u001b[0m\n\u001b[0;32m--> 150\u001b[0;31m       \u001b[0;32mreturn\u001b[0m \u001b[0mfn\u001b[0m\u001b[0;34m(\u001b[0m\u001b[0;34m*\u001b[0m\u001b[0margs\u001b[0m\u001b[0;34m,\u001b[0m \u001b[0;34m**\u001b[0m\u001b[0mkwargs\u001b[0m\u001b[0;34m)\u001b[0m\u001b[0;34m\u001b[0m\u001b[0;34m\u001b[0m\u001b[0m\n\u001b[0m\u001b[1;32m    151\u001b[0m     \u001b[0;32mexcept\u001b[0m \u001b[0mException\u001b[0m \u001b[0;32mas\u001b[0m \u001b[0me\u001b[0m\u001b[0;34m:\u001b[0m\u001b[0;34m\u001b[0m\u001b[0;34m\u001b[0m\u001b[0m\n\u001b[1;32m    152\u001b[0m       \u001b[0mfiltered_tb\u001b[0m \u001b[0;34m=\u001b[0m \u001b[0m_process_traceback_frames\u001b[0m\u001b[0;34m(\u001b[0m\u001b[0me\u001b[0m\u001b[0;34m.\u001b[0m\u001b[0m__traceback__\u001b[0m\u001b[0;34m)\u001b[0m\u001b[0;34m\u001b[0m\u001b[0;34m\u001b[0m\u001b[0m\n",
            "\u001b[0;32m/usr/local/lib/python3.7/dist-packages/tensorflow/python/eager/def_function.py\u001b[0m in \u001b[0;36m__call__\u001b[0;34m(self, *args, **kwds)\u001b[0m\n\u001b[1;32m    913\u001b[0m \u001b[0;34m\u001b[0m\u001b[0m\n\u001b[1;32m    914\u001b[0m       \u001b[0;32mwith\u001b[0m \u001b[0mOptionalXlaContext\u001b[0m\u001b[0;34m(\u001b[0m\u001b[0mself\u001b[0m\u001b[0;34m.\u001b[0m\u001b[0m_jit_compile\u001b[0m\u001b[0;34m)\u001b[0m\u001b[0;34m:\u001b[0m\u001b[0;34m\u001b[0m\u001b[0;34m\u001b[0m\u001b[0m\n\u001b[0;32m--> 915\u001b[0;31m         \u001b[0mresult\u001b[0m \u001b[0;34m=\u001b[0m \u001b[0mself\u001b[0m\u001b[0;34m.\u001b[0m\u001b[0m_call\u001b[0m\u001b[0;34m(\u001b[0m\u001b[0;34m*\u001b[0m\u001b[0margs\u001b[0m\u001b[0;34m,\u001b[0m \u001b[0;34m**\u001b[0m\u001b[0mkwds\u001b[0m\u001b[0;34m)\u001b[0m\u001b[0;34m\u001b[0m\u001b[0;34m\u001b[0m\u001b[0m\n\u001b[0m\u001b[1;32m    916\u001b[0m \u001b[0;34m\u001b[0m\u001b[0m\n\u001b[1;32m    917\u001b[0m       \u001b[0mnew_tracing_count\u001b[0m \u001b[0;34m=\u001b[0m \u001b[0mself\u001b[0m\u001b[0;34m.\u001b[0m\u001b[0mexperimental_get_tracing_count\u001b[0m\u001b[0;34m(\u001b[0m\u001b[0;34m)\u001b[0m\u001b[0;34m\u001b[0m\u001b[0;34m\u001b[0m\u001b[0m\n",
            "\u001b[0;32m/usr/local/lib/python3.7/dist-packages/tensorflow/python/eager/def_function.py\u001b[0m in \u001b[0;36m_call\u001b[0;34m(self, *args, **kwds)\u001b[0m\n\u001b[1;32m    945\u001b[0m       \u001b[0;31m# In this case we have created variables on the first call, so we run the\u001b[0m\u001b[0;34m\u001b[0m\u001b[0;34m\u001b[0m\u001b[0;34m\u001b[0m\u001b[0m\n\u001b[1;32m    946\u001b[0m       \u001b[0;31m# defunned version which is guaranteed to never create variables.\u001b[0m\u001b[0;34m\u001b[0m\u001b[0;34m\u001b[0m\u001b[0;34m\u001b[0m\u001b[0m\n\u001b[0;32m--> 947\u001b[0;31m       \u001b[0;32mreturn\u001b[0m \u001b[0mself\u001b[0m\u001b[0;34m.\u001b[0m\u001b[0m_stateless_fn\u001b[0m\u001b[0;34m(\u001b[0m\u001b[0;34m*\u001b[0m\u001b[0margs\u001b[0m\u001b[0;34m,\u001b[0m \u001b[0;34m**\u001b[0m\u001b[0mkwds\u001b[0m\u001b[0;34m)\u001b[0m  \u001b[0;31m# pylint: disable=not-callable\u001b[0m\u001b[0;34m\u001b[0m\u001b[0;34m\u001b[0m\u001b[0m\n\u001b[0m\u001b[1;32m    948\u001b[0m     \u001b[0;32melif\u001b[0m \u001b[0mself\u001b[0m\u001b[0;34m.\u001b[0m\u001b[0m_stateful_fn\u001b[0m \u001b[0;32mis\u001b[0m \u001b[0;32mnot\u001b[0m \u001b[0;32mNone\u001b[0m\u001b[0;34m:\u001b[0m\u001b[0;34m\u001b[0m\u001b[0;34m\u001b[0m\u001b[0m\n\u001b[1;32m    949\u001b[0m       \u001b[0;31m# Release the lock early so that multiple threads can perform the call\u001b[0m\u001b[0;34m\u001b[0m\u001b[0;34m\u001b[0m\u001b[0;34m\u001b[0m\u001b[0m\n",
            "\u001b[0;32m/usr/local/lib/python3.7/dist-packages/tensorflow/python/eager/function.py\u001b[0m in \u001b[0;36m__call__\u001b[0;34m(self, *args, **kwargs)\u001b[0m\n\u001b[1;32m   2955\u001b[0m        filtered_flat_args) = self._maybe_define_function(args, kwargs)\n\u001b[1;32m   2956\u001b[0m     return graph_function._call_flat(\n\u001b[0;32m-> 2957\u001b[0;31m         filtered_flat_args, captured_inputs=graph_function.captured_inputs)  # pylint: disable=protected-access\n\u001b[0m\u001b[1;32m   2958\u001b[0m \u001b[0;34m\u001b[0m\u001b[0m\n\u001b[1;32m   2959\u001b[0m   \u001b[0;34m@\u001b[0m\u001b[0mproperty\u001b[0m\u001b[0;34m\u001b[0m\u001b[0;34m\u001b[0m\u001b[0m\n",
            "\u001b[0;32m/usr/local/lib/python3.7/dist-packages/tensorflow/python/eager/function.py\u001b[0m in \u001b[0;36m_call_flat\u001b[0;34m(self, args, captured_inputs, cancellation_manager)\u001b[0m\n\u001b[1;32m   1852\u001b[0m       \u001b[0;31m# No tape is watching; skip to running the function.\u001b[0m\u001b[0;34m\u001b[0m\u001b[0;34m\u001b[0m\u001b[0;34m\u001b[0m\u001b[0m\n\u001b[1;32m   1853\u001b[0m       return self._build_call_outputs(self._inference_function.call(\n\u001b[0;32m-> 1854\u001b[0;31m           ctx, args, cancellation_manager=cancellation_manager))\n\u001b[0m\u001b[1;32m   1855\u001b[0m     forward_backward = self._select_forward_and_backward_functions(\n\u001b[1;32m   1856\u001b[0m         \u001b[0margs\u001b[0m\u001b[0;34m,\u001b[0m\u001b[0;34m\u001b[0m\u001b[0;34m\u001b[0m\u001b[0m\n",
            "\u001b[0;32m/usr/local/lib/python3.7/dist-packages/tensorflow/python/eager/function.py\u001b[0m in \u001b[0;36mcall\u001b[0;34m(self, ctx, args, cancellation_manager)\u001b[0m\n\u001b[1;32m    502\u001b[0m               \u001b[0minputs\u001b[0m\u001b[0;34m=\u001b[0m\u001b[0margs\u001b[0m\u001b[0;34m,\u001b[0m\u001b[0;34m\u001b[0m\u001b[0;34m\u001b[0m\u001b[0m\n\u001b[1;32m    503\u001b[0m               \u001b[0mattrs\u001b[0m\u001b[0;34m=\u001b[0m\u001b[0mattrs\u001b[0m\u001b[0;34m,\u001b[0m\u001b[0;34m\u001b[0m\u001b[0;34m\u001b[0m\u001b[0m\n\u001b[0;32m--> 504\u001b[0;31m               ctx=ctx)\n\u001b[0m\u001b[1;32m    505\u001b[0m         \u001b[0;32melse\u001b[0m\u001b[0;34m:\u001b[0m\u001b[0;34m\u001b[0m\u001b[0;34m\u001b[0m\u001b[0m\n\u001b[1;32m    506\u001b[0m           outputs = execute.execute_with_cancellation(\n",
            "\u001b[0;32m/usr/local/lib/python3.7/dist-packages/tensorflow/python/eager/execute.py\u001b[0m in \u001b[0;36mquick_execute\u001b[0;34m(op_name, num_outputs, inputs, attrs, ctx, name)\u001b[0m\n\u001b[1;32m     53\u001b[0m     \u001b[0mctx\u001b[0m\u001b[0;34m.\u001b[0m\u001b[0mensure_initialized\u001b[0m\u001b[0;34m(\u001b[0m\u001b[0;34m)\u001b[0m\u001b[0;34m\u001b[0m\u001b[0;34m\u001b[0m\u001b[0m\n\u001b[1;32m     54\u001b[0m     tensors = pywrap_tfe.TFE_Py_Execute(ctx._handle, device_name, op_name,\n\u001b[0;32m---> 55\u001b[0;31m                                         inputs, attrs, num_outputs)\n\u001b[0m\u001b[1;32m     56\u001b[0m   \u001b[0;32mexcept\u001b[0m \u001b[0mcore\u001b[0m\u001b[0;34m.\u001b[0m\u001b[0m_NotOkStatusException\u001b[0m \u001b[0;32mas\u001b[0m \u001b[0me\u001b[0m\u001b[0;34m:\u001b[0m\u001b[0;34m\u001b[0m\u001b[0;34m\u001b[0m\u001b[0m\n\u001b[1;32m     57\u001b[0m     \u001b[0;32mif\u001b[0m \u001b[0mname\u001b[0m \u001b[0;32mis\u001b[0m \u001b[0;32mnot\u001b[0m \u001b[0;32mNone\u001b[0m\u001b[0;34m:\u001b[0m\u001b[0;34m\u001b[0m\u001b[0;34m\u001b[0m\u001b[0m\n",
            "\u001b[0;31mKeyboardInterrupt\u001b[0m: "
          ]
        }
      ],
      "source": [
        "#model.fit(train_balanced, validation_data=test_dataset, epochs=1)"
      ]
    },
    {
      "cell_type": "code",
      "execution_count": null,
      "metadata": {
        "id": "1gxdfAd5qH8N"
      },
      "outputs": [],
      "source": [
        "def build_model(hp):  \n",
        "  model = keras.models.Sequential([\n",
        "    keras.layers.Conv2D(\n",
        "        filters=hp.Int('conv_1_filter', min_value=32, max_value=128, step=16),\n",
        "        kernel_size=hp.Choice('conv_1_kernel', values = [3,5]),\n",
        "        activation='relu',\n",
        "        input_shape=(28,28,1)\n",
        "    ),\n",
        "    keras.layers.Conv2D(\n",
        "        filters=hp.Int('conv_2_filter', min_value=32, max_value=64, step=16),\n",
        "        kernel_size=hp.Choice('conv_2_kernel', values = [3,5]),\n",
        "        activation='relu'\n",
        "    ),\n",
        "    keras.layers.Flatten(),\n",
        "    keras.layers.Dense(\n",
        "        units=hp.Int('dense_1_units', min_value=32, max_value=128, step=16),\n",
        "        activation='relu'\n",
        "    ),\n",
        "    keras.layers.Dense(10, activation='softmax')\n",
        "  ])\n",
        "  \n",
        "  model.compile(optimizer=keras.optimizers.Adam(hp.Choice('learning_rate', values=[1e-2, 1e-3,'constant', 'invscaling', 'adaptive'])),\n",
        "              loss='sparse_categorical_crossentropy',\n",
        "              metrics=['accuracy'])\n",
        "  \n",
        "  return model"
      ]
    },
    {
      "cell_type": "code",
      "execution_count": null,
      "metadata": {
        "colab": {
          "base_uri": "https://localhost:8080/"
        },
        "id": "YVL3O456HlVA",
        "outputId": "9fde75aa-2c1a-4c76-bb7d-9a22c9bd584c"
      },
      "outputs": [
        {
          "data": {
            "text/plain": [
              "1950.0"
            ]
          },
          "execution_count": 33,
          "metadata": {},
          "output_type": "execute_result"
        }
      ],
      "source": [
        "6*6*2*26 * 5 * 5 / 24"
      ]
    },
    {
      "cell_type": "code",
      "execution_count": null,
      "metadata": {
        "id": "Nef17_MorKWL"
      },
      "outputs": [],
      "source": [
        ""
      ]
    },
    {
      "cell_type": "code",
      "execution_count": null,
      "metadata": {
        "id": "Re66x1N7rKaU"
      },
      "outputs": [],
      "source": [
        ""
      ]
    },
    {
      "cell_type": "code",
      "execution_count": null,
      "metadata": {
        "id": "smw4eGMYrKhP"
      },
      "outputs": [],
      "source": [
        ""
      ]
    },
    {
      "cell_type": "code",
      "execution_count": null,
      "metadata": {
        "id": "aLWG2qbqV-Zc"
      },
      "outputs": [],
      "source": [
        "image_labels = []\n",
        "for  label in train.classes:\n",
        "  image_labels.append(categories_dict[label])\n",
        "\n",
        "df = pd.DataFrame(image_labels)\n",
        "sns.countplot(x=0, data= df).set(Title='Augmented Dataset', xlabel='Class', ylabel='Number of Images')"
      ]
    },
    {
      "cell_type": "code",
      "execution_count": null,
      "metadata": {
        "id": "gm5eXW2YkSit"
      },
      "outputs": [],
      "source": [
        "test = test_data_gen.flow_from_directory(\n",
        "      test_directory,\n",
        "      target_size=TARGET_SIZE,\n",
        "      color_mode='grayscale',\n",
        "      shuffle=False, \n",
        "      batch_size=BATCH_SIZE\n",
        "      )"
      ]
    },
    {
      "cell_type": "code",
      "execution_count": null,
      "metadata": {
        "id": "qkP_ckzkk0Kq"
      },
      "outputs": [],
      "source": [
        "image_labels = []\n",
        "for  label in  test.classes:\n",
        "  image_labels.append(categories_dict[label])\n",
        "\n",
        "df = pd.DataFrame(image_labels)\n",
        "sns.countplot(x=0, data= df).set(Title='Test Dataset', xlabel='Class', ylabel='Number of Images')"
      ]
    },
    {
      "cell_type": "code",
      "execution_count": null,
      "metadata": {
        "id": "NP57FYqt-uca"
      },
      "outputs": [],
      "source": [
        "def cnn_model():\n",
        "# CNN Based Model in Keras\n",
        "  model = keras.Sequential([\n",
        "        keras.Input(shape=(140,140,1), name='Original_Images'),\n",
        "        keras.layers.Conv2D(input_shape=(140,140,1), filters=32, kernel_size=11, \n",
        "                            strides=1, activation='relu', name='Conv1'),\n",
        "        keras.layers.Conv2D(input_shape=(130,130,32), filters=32, kernel_size=11, \n",
        "                            strides=1, activation='relu', name='Conv2'),\n",
        "        keras.layers.MaxPool2D(pool_size=(5, 5), strides=2),\n",
        "        keras.layers.Conv2D(input_shape=(58,58,32), filters=64, kernel_size=9, \n",
        "                            strides=1, activation='relu', name='Conv3'),\n",
        "        keras.layers.MaxPool2D(pool_size=(5, 5), strides=2),\n",
        "        keras.layers.Conv2D(input_shape=(23,23,64), filters=128, kernel_size=8, \n",
        "                            strides=1, activation='relu', name='Conv4'),\n",
        "        keras.layers.Conv2D(input_shape=(16,16,128), filters=256, kernel_size=9, \n",
        "                            strides=1, activation='relu', name='Conv5'),\n",
        "        keras.layers.Conv2D(input_shape=(8,8,256), filters=256, kernel_size=8, \n",
        "                            strides=1, activation='relu', name='Conv6'),    \n",
        "\n",
        "        keras.layers.Flatten(),\n",
        "        keras.layers.Dense(8, activation=tf.keras.activations.relu, name='Dense'),\n",
        "        keras.layers.Dense(3, activation=\"softmax\")\n",
        "    ])\n",
        "  opt = keras.optimizers.Adam(learning_rate=0.005)\n",
        "  model.compile(optimizer=opt, loss=tf.keras.losses.CategoricalCrossentropy(from_logits=True),\n",
        "              metrics=[keras.metrics.CategoricalAccuracy()])\n",
        "  return model\n",
        "\n",
        "  "
      ]
    },
    {
      "cell_type": "code",
      "execution_count": null,
      "metadata": {
        "id": "nasU8Qskk8A0"
      },
      "outputs": [],
      "source": [
        "model = cnn_model()"
      ]
    },
    {
      "cell_type": "code",
      "execution_count": null,
      "metadata": {
        "id": "U6Lcwzf0smys"
      },
      "outputs": [],
      "source": [
        "keras.utils.plot_model(model, show_shapes=True, show_layer_names=True)"
      ]
    },
    {
      "cell_type": "code",
      "execution_count": null,
      "metadata": {
        "id": "1Nfq0QT1yOLh"
      },
      "outputs": [],
      "source": [
        "hist = model.fit(\n",
        "    train_balanced\n",
        ")"
      ]
    },
    {
      "cell_type": "code",
      "execution_count": null,
      "metadata": {
        "id": "Jg3NpBHzHcdH"
      },
      "outputs": [],
      "source": [
        "score = model.evaluate(test_images, test_labels, verbose=0)\n",
        "print('Test loss:', score[0])\n",
        "print('Test accuracy:', score[1])"
      ]
    },
    {
      "cell_type": "code",
      "execution_count": null,
      "metadata": {
        "id": "SEoFe-6oMvjL"
      },
      "outputs": [],
      "source": [
        "def show_image(img, label, guess):\n",
        "  plt.figure()\n",
        "  plt.imshow(img, cmap=plt.cm.binary)\n",
        "  plt.title(\"Excpected: \" + label)\n",
        "  plt.xlabel(\"Guess: \" + guess)\n",
        "  plt.colorbar()\n",
        "  plt.grid(False)\n",
        "  plt.show()"
      ]
    },
    {
      "cell_type": "code",
      "execution_count": null,
      "metadata": {
        "id": "80z9PdQKMzsH"
      },
      "outputs": [],
      "source": [
        "def predict(model, image, correct_label):\n",
        "  prediction = model.predict(np.array([image]))\n",
        "  print(prediction)\n",
        "  predicted_class = categories_dict[np.argmax(prediction)]\n",
        "  show_image(image, categories_dict[correct_label], predicted_class)"
      ]
    },
    {
      "cell_type": "code",
      "execution_count": null,
      "metadata": {
        "id": "Gd2wU2sAPY2Q"
      },
      "outputs": [],
      "source": [
        "for i in range(len(test_images)):\n",
        "  image = test_images[i]\n",
        "  label = np.argmax(test_labels[i])\n",
        "  predict(model, image, label)"
      ]
    },
    {
      "cell_type": "markdown",
      "metadata": {
        "id": "vQw-k3Wfa6fi"
      },
      "source": [
        "**REMOVES THE AUGMENTED IMAGES**\n",
        "\n"
      ]
    },
    {
      "cell_type": "code",
      "execution_count": null,
      "metadata": {
        "id": "kN1vb98K7NWw"
      },
      "outputs": [],
      "source": [
        "def remove_aug(path):\n",
        "  files= glob.glob(path, recursive=True)\n",
        "  for f in files:\n",
        "      try:\n",
        "          os.remove(f)\n",
        "      except OSError as e:\n",
        "          print(\"Error: %s : %s\" % (f, e.strerror))\n",
        "\n",
        "remove_aug('/content/drive/My Drive/Comp 478 - Project/Chest X-ray (Covid-19 & Pneumonia)/Data/train/COVID19/COVID19_AUG*.jpg')\n",
        "remove_aug('/content/drive/My Drive/Comp 478 - Project/Chest X-ray (Covid-19 & Pneumonia)/Data/train/NORMAL/NORMAL_AUG*.jpg')"
      ]
    }
  ],
  "metadata": {
    "accelerator": "GPU",
    "colab": {
      "collapsed_sections": [],
      "name": "image-processing.ipynb",
      "provenance": [],
      "include_colab_link": true
    },
    "kernelspec": {
      "display_name": "Python 3",
      "name": "python3"
    },
    "language_info": {
      "name": "python"
    }
  },
  "nbformat": 4,
  "nbformat_minor": 0
}