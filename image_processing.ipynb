{
  "cells": [
    {
      "cell_type": "markdown",
      "metadata": {
        "id": "view-in-github",
        "colab_type": "text"
      },
      "source": [
        "<a href=\"https://colab.research.google.com/github/Amir-h055/Image-Procccessing/blob/main/image_processing.ipynb\" target=\"_parent\"><img src=\"https://colab.research.google.com/assets/colab-badge.svg\" alt=\"Open In Colab\"/></a>"
      ]
    },
    {
      "cell_type": "code",
      "execution_count": null,
      "metadata": {
        "id": "vW9usI4OdiRX"
      },
      "outputs": [],
      "source": [
        "import os\n",
        "import glob\n",
        "import numpy as np\n",
        "import pandas as pd \n",
        "import matplotlib.pyplot as plt\n",
        "import cv2\n",
        "\n",
        "%tensorflow_version 2.x \n",
        "# TensorFlow and tf.keras\n",
        "import tensorflow as tf\n",
        "import seaborn as sns\n",
        "from tensorflow import keras\n",
        "from sklearn.model_selection import train_test_split\n"
      ]
    },
    {
      "cell_type": "code",
      "execution_count": null,
      "metadata": {
        "colab": {
          "base_uri": "https://localhost:8080/"
        },
        "id": "30HYO_9WoCKo",
        "outputId": "97e38c96-2d02-435b-a56d-e518111cd5d1"
      },
      "outputs": [
        {
          "output_type": "stream",
          "name": "stdout",
          "text": [
            "Drive already mounted at /content/drive; to attempt to forcibly remount, call drive.mount(\"/content/drive\", force_remount=True).\n"
          ]
        }
      ],
      "source": [
        "from google.colab import drive\n",
        "drive.mount('/content/drive')"
      ]
    },
    {
      "cell_type": "code",
      "execution_count": null,
      "metadata": {
        "id": "-Yv-E1FueB7y"
      },
      "outputs": [],
      "source": [
        "train_directory = '/content/drive/My Drive/Comp 478 - Project/Chest X-ray (Covid-19 & Pneumonia)/Data/train/*'\n",
        "test_directory = '/content/drive/My Drive/Comp 478 - Project/Chest X-ray (Covid-19 & Pneumonia)/Data/test/*'"
      ]
    },
    {
      "cell_type": "code",
      "source": [
        "train_directory = '/content/drive/My Drive/Comp 478 - Project/Chest X-ray (Covid-19 & Pneumonia)/Data/train/*'\n",
        "test_directory = '/content/drive/My Drive/Comp 478 - Project/Chest X-ray (Covid-19 & Pneumonia)/Data/test/*'"
      ],
      "metadata": {
        "id": "lgDiCAhxXRXm"
      },
      "execution_count": null,
      "outputs": []
    },
    {
      "cell_type": "code",
      "execution_count": null,
      "metadata": {
        "id": "ozCzGrvEeSf4"
      },
      "outputs": [],
      "source": [
        "SIZE = 140\n",
        "BATCH_SIZE = 64\n",
        "TARGET_SIZE = (SIZE,SIZE)\n",
        "EPOCH_NUM = 10"
      ]
    },
    {
      "cell_type": "code",
      "execution_count": null,
      "metadata": {
        "id": "gREDNGCMrW5m"
      },
      "outputs": [],
      "source": [
        "categories_dict = {\n",
        "  0: \"COVID19\",\n",
        "  1: \"NORMAL\",\n",
        "  2: \"PNEUMONIA\",\n",
        "  \n",
        "}"
      ]
    },
    {
      "cell_type": "code",
      "execution_count": null,
      "metadata": {
        "colab": {
          "base_uri": "https://localhost:8080/"
        },
        "id": "FN8oAOkwrd1q",
        "outputId": "724bd73d-e81e-42b5-e1a2-ff687960318f"
      },
      "outputs": [
        {
          "output_type": "stream",
          "name": "stdout",
          "text": [
            "/content/drive/My Drive/Comp 478 - Project/Chest X-ray (Covid-19 & Pneumonia)/Data/train/*\n",
            "Training Images For COVID19: 460 images loaded\n",
            "/content/drive/My Drive/Comp 478 - Project/Chest X-ray (Covid-19 & Pneumonia)/Data/train/*\n",
            "Training Images For NORMAL: 1266 images loaded\n",
            "/content/drive/My Drive/Comp 478 - Project/Chest X-ray (Covid-19 & Pneumonia)/Data/train/*\n",
            "Training Images For PNEUMONIA: 3418 images loaded\n",
            "Total Training Images: 5144 images loaded\n"
          ]
        }
      ],
      "source": [
        "train_images = []\n",
        "train_labels = [] \n",
        "label = 0\n",
        "\n",
        "#Importing the training dataset\n",
        "\n",
        "for directory_path in glob.glob(train_directory):\n",
        "    print(train_directory)\n",
        "    counter = 0\n",
        "    for img_path in glob.glob(os.path.join(directory_path, \"*.jpg\")):\n",
        "        counter+=1\n",
        "        img = cv2.imread(img_path, 0)\n",
        "        img = cv2.resize(img, TARGET_SIZE)\n",
        "        train_images.append(img)\n",
        "        train_labels.append(label)\n",
        "    \n",
        "    print(f'Training Images For {categories_dict[label]}: {counter} images loaded')\n",
        "    label +=1\n",
        "\n",
        "print(f'Total Training Images: {len(train_images)} images loaded')\n",
        "x_train = np.array(train_images)\n",
        "y_train = keras.utils.to_categorical(train_labels, 3)"
      ]
    },
    {
      "cell_type": "code",
      "source": [
        "#sns.countplot(x=,data= y_train)\n",
        "# type(y_train)\n",
        "df = pd.DataFrame(train_labels)\n",
        "df.head()\n",
        "# print(train_labels)\n",
        "sns.countplot(x=0,data= df)"
      ],
      "metadata": {
        "colab": {
          "base_uri": "https://localhost:8080/",
          "height": 346
        },
        "id": "ykBTvdFEzAy0",
        "outputId": "ae379eff-a302-4e90-946d-4ffc2d369c29"
      },
      "execution_count": null,
      "outputs": [
        {
          "output_type": "error",
          "ename": "AttributeError",
          "evalue": "ignored",
          "traceback": [
            "\u001b[0;31m---------------------------------------------------------------------------\u001b[0m",
            "\u001b[0;31mAttributeError\u001b[0m                            Traceback (most recent call last)",
            "\u001b[0;32m<ipython-input-8-517811df415e>\u001b[0m in \u001b[0;36m<module>\u001b[0;34m()\u001b[0m\n\u001b[1;32m      4\u001b[0m \u001b[0mdf\u001b[0m\u001b[0;34m.\u001b[0m\u001b[0mhead\u001b[0m\u001b[0;34m(\u001b[0m\u001b[0;34m)\u001b[0m\u001b[0;34m\u001b[0m\u001b[0;34m\u001b[0m\u001b[0m\n\u001b[1;32m      5\u001b[0m \u001b[0;31m# print(train_labels)\u001b[0m\u001b[0;34m\u001b[0m\u001b[0;34m\u001b[0m\u001b[0;34m\u001b[0m\u001b[0m\n\u001b[0;32m----> 6\u001b[0;31m \u001b[0msns\u001b[0m\u001b[0;34m.\u001b[0m\u001b[0mcountplot\u001b[0m\u001b[0;34m(\u001b[0m\u001b[0mx\u001b[0m\u001b[0;34m=\u001b[0m\u001b[0;36m0\u001b[0m\u001b[0;34m,\u001b[0m\u001b[0mdata\u001b[0m\u001b[0;34m=\u001b[0m \u001b[0mdf\u001b[0m\u001b[0;34m)\u001b[0m\u001b[0;34m\u001b[0m\u001b[0;34m\u001b[0m\u001b[0m\n\u001b[0m",
            "\u001b[0;32m/usr/local/lib/python3.7/dist-packages/seaborn/_decorators.py\u001b[0m in \u001b[0;36minner_f\u001b[0;34m(*args, **kwargs)\u001b[0m\n\u001b[1;32m     44\u001b[0m             )\n\u001b[1;32m     45\u001b[0m         \u001b[0mkwargs\u001b[0m\u001b[0;34m.\u001b[0m\u001b[0mupdate\u001b[0m\u001b[0;34m(\u001b[0m\u001b[0;34m{\u001b[0m\u001b[0mk\u001b[0m\u001b[0;34m:\u001b[0m \u001b[0marg\u001b[0m \u001b[0;32mfor\u001b[0m \u001b[0mk\u001b[0m\u001b[0;34m,\u001b[0m \u001b[0marg\u001b[0m \u001b[0;32min\u001b[0m \u001b[0mzip\u001b[0m\u001b[0;34m(\u001b[0m\u001b[0msig\u001b[0m\u001b[0;34m.\u001b[0m\u001b[0mparameters\u001b[0m\u001b[0;34m,\u001b[0m \u001b[0margs\u001b[0m\u001b[0;34m)\u001b[0m\u001b[0;34m}\u001b[0m\u001b[0;34m)\u001b[0m\u001b[0;34m\u001b[0m\u001b[0;34m\u001b[0m\u001b[0m\n\u001b[0;32m---> 46\u001b[0;31m         \u001b[0;32mreturn\u001b[0m \u001b[0mf\u001b[0m\u001b[0;34m(\u001b[0m\u001b[0;34m**\u001b[0m\u001b[0mkwargs\u001b[0m\u001b[0;34m)\u001b[0m\u001b[0;34m\u001b[0m\u001b[0;34m\u001b[0m\u001b[0m\n\u001b[0m\u001b[1;32m     47\u001b[0m     \u001b[0;32mreturn\u001b[0m \u001b[0minner_f\u001b[0m\u001b[0;34m\u001b[0m\u001b[0;34m\u001b[0m\u001b[0m\n\u001b[1;32m     48\u001b[0m \u001b[0;34m\u001b[0m\u001b[0m\n",
            "\u001b[0;32m/usr/local/lib/python3.7/dist-packages/seaborn/categorical.py\u001b[0m in \u001b[0;36mcountplot\u001b[0;34m(x, y, hue, data, order, hue_order, orient, color, palette, saturation, dodge, ax, **kwargs)\u001b[0m\n\u001b[1;32m   3600\u001b[0m         \u001b[0mestimator\u001b[0m\u001b[0;34m,\u001b[0m \u001b[0mci\u001b[0m\u001b[0;34m,\u001b[0m \u001b[0mn_boot\u001b[0m\u001b[0;34m,\u001b[0m \u001b[0munits\u001b[0m\u001b[0;34m,\u001b[0m \u001b[0mseed\u001b[0m\u001b[0;34m,\u001b[0m\u001b[0;34m\u001b[0m\u001b[0;34m\u001b[0m\u001b[0m\n\u001b[1;32m   3601\u001b[0m         \u001b[0morient\u001b[0m\u001b[0;34m,\u001b[0m \u001b[0mcolor\u001b[0m\u001b[0;34m,\u001b[0m \u001b[0mpalette\u001b[0m\u001b[0;34m,\u001b[0m \u001b[0msaturation\u001b[0m\u001b[0;34m,\u001b[0m\u001b[0;34m\u001b[0m\u001b[0;34m\u001b[0m\u001b[0m\n\u001b[0;32m-> 3602\u001b[0;31m         \u001b[0merrcolor\u001b[0m\u001b[0;34m,\u001b[0m \u001b[0merrwidth\u001b[0m\u001b[0;34m,\u001b[0m \u001b[0mcapsize\u001b[0m\u001b[0;34m,\u001b[0m \u001b[0mdodge\u001b[0m\u001b[0;34m\u001b[0m\u001b[0;34m\u001b[0m\u001b[0m\n\u001b[0m\u001b[1;32m   3603\u001b[0m     )\n\u001b[1;32m   3604\u001b[0m \u001b[0;34m\u001b[0m\u001b[0m\n",
            "\u001b[0;32m/usr/local/lib/python3.7/dist-packages/seaborn/categorical.py\u001b[0m in \u001b[0;36m__init__\u001b[0;34m(self, x, y, hue, data, order, hue_order, estimator, ci, n_boot, units, seed, orient, color, palette, saturation, errcolor, errwidth, capsize, dodge)\u001b[0m\n\u001b[1;32m   1583\u001b[0m         \u001b[0;34m\"\"\"Initialize the plotter.\"\"\"\u001b[0m\u001b[0;34m\u001b[0m\u001b[0;34m\u001b[0m\u001b[0m\n\u001b[1;32m   1584\u001b[0m         self.establish_variables(x, y, hue, data, orient,\n\u001b[0;32m-> 1585\u001b[0;31m                                  order, hue_order, units)\n\u001b[0m\u001b[1;32m   1586\u001b[0m         \u001b[0mself\u001b[0m\u001b[0;34m.\u001b[0m\u001b[0mestablish_colors\u001b[0m\u001b[0;34m(\u001b[0m\u001b[0mcolor\u001b[0m\u001b[0;34m,\u001b[0m \u001b[0mpalette\u001b[0m\u001b[0;34m,\u001b[0m \u001b[0msaturation\u001b[0m\u001b[0;34m)\u001b[0m\u001b[0;34m\u001b[0m\u001b[0;34m\u001b[0m\u001b[0m\n\u001b[1;32m   1587\u001b[0m         \u001b[0mself\u001b[0m\u001b[0;34m.\u001b[0m\u001b[0mestimate_statistic\u001b[0m\u001b[0;34m(\u001b[0m\u001b[0mestimator\u001b[0m\u001b[0;34m,\u001b[0m \u001b[0mci\u001b[0m\u001b[0;34m,\u001b[0m \u001b[0mn_boot\u001b[0m\u001b[0;34m,\u001b[0m \u001b[0mseed\u001b[0m\u001b[0;34m)\u001b[0m\u001b[0;34m\u001b[0m\u001b[0;34m\u001b[0m\u001b[0m\n",
            "\u001b[0;32m/usr/local/lib/python3.7/dist-packages/seaborn/categorical.py\u001b[0m in \u001b[0;36mestablish_variables\u001b[0;34m(self, x, y, hue, data, orient, order, hue_order, units)\u001b[0m\n\u001b[1;32m    155\u001b[0m             \u001b[0;31m# Figure out the plotting orientation\u001b[0m\u001b[0;34m\u001b[0m\u001b[0;34m\u001b[0m\u001b[0;34m\u001b[0m\u001b[0m\n\u001b[1;32m    156\u001b[0m             orient = infer_orient(\n\u001b[0;32m--> 157\u001b[0;31m                 \u001b[0mx\u001b[0m\u001b[0;34m,\u001b[0m \u001b[0my\u001b[0m\u001b[0;34m,\u001b[0m \u001b[0morient\u001b[0m\u001b[0;34m,\u001b[0m \u001b[0mrequire_numeric\u001b[0m\u001b[0;34m=\u001b[0m\u001b[0mself\u001b[0m\u001b[0;34m.\u001b[0m\u001b[0mrequire_numeric\u001b[0m\u001b[0;34m\u001b[0m\u001b[0;34m\u001b[0m\u001b[0m\n\u001b[0m\u001b[1;32m    158\u001b[0m             )\n\u001b[1;32m    159\u001b[0m \u001b[0;34m\u001b[0m\u001b[0m\n",
            "\u001b[0;32m/usr/local/lib/python3.7/dist-packages/seaborn/_core.py\u001b[0m in \u001b[0;36minfer_orient\u001b[0;34m(x, y, orient, require_numeric)\u001b[0m\n\u001b[1;32m   1309\u001b[0m     \"\"\"\n\u001b[1;32m   1310\u001b[0m \u001b[0;34m\u001b[0m\u001b[0m\n\u001b[0;32m-> 1311\u001b[0;31m     \u001b[0mx_type\u001b[0m \u001b[0;34m=\u001b[0m \u001b[0;32mNone\u001b[0m \u001b[0;32mif\u001b[0m \u001b[0mx\u001b[0m \u001b[0;32mis\u001b[0m \u001b[0;32mNone\u001b[0m \u001b[0;32melse\u001b[0m \u001b[0mvariable_type\u001b[0m\u001b[0;34m(\u001b[0m\u001b[0mx\u001b[0m\u001b[0;34m)\u001b[0m\u001b[0;34m\u001b[0m\u001b[0;34m\u001b[0m\u001b[0m\n\u001b[0m\u001b[1;32m   1312\u001b[0m     \u001b[0my_type\u001b[0m \u001b[0;34m=\u001b[0m \u001b[0;32mNone\u001b[0m \u001b[0;32mif\u001b[0m \u001b[0my\u001b[0m \u001b[0;32mis\u001b[0m \u001b[0;32mNone\u001b[0m \u001b[0;32melse\u001b[0m \u001b[0mvariable_type\u001b[0m\u001b[0;34m(\u001b[0m\u001b[0my\u001b[0m\u001b[0;34m)\u001b[0m\u001b[0;34m\u001b[0m\u001b[0;34m\u001b[0m\u001b[0m\n\u001b[1;32m   1313\u001b[0m \u001b[0;34m\u001b[0m\u001b[0m\n",
            "\u001b[0;32m/usr/local/lib/python3.7/dist-packages/seaborn/_core.py\u001b[0m in \u001b[0;36mvariable_type\u001b[0;34m(vector, boolean_type)\u001b[0m\n\u001b[1;32m   1227\u001b[0m \u001b[0;34m\u001b[0m\u001b[0m\n\u001b[1;32m   1228\u001b[0m     \u001b[0;31m# Special-case all-na data, which is always \"numeric\"\u001b[0m\u001b[0;34m\u001b[0m\u001b[0;34m\u001b[0m\u001b[0;34m\u001b[0m\u001b[0m\n\u001b[0;32m-> 1229\u001b[0;31m     \u001b[0;32mif\u001b[0m \u001b[0mpd\u001b[0m\u001b[0;34m.\u001b[0m\u001b[0misna\u001b[0m\u001b[0;34m(\u001b[0m\u001b[0mvector\u001b[0m\u001b[0;34m)\u001b[0m\u001b[0;34m.\u001b[0m\u001b[0mall\u001b[0m\u001b[0;34m(\u001b[0m\u001b[0;34m)\u001b[0m\u001b[0;34m:\u001b[0m\u001b[0;34m\u001b[0m\u001b[0;34m\u001b[0m\u001b[0m\n\u001b[0m\u001b[1;32m   1230\u001b[0m         \u001b[0;32mreturn\u001b[0m \u001b[0;34m\"numeric\"\u001b[0m\u001b[0;34m\u001b[0m\u001b[0;34m\u001b[0m\u001b[0m\n\u001b[1;32m   1231\u001b[0m \u001b[0;34m\u001b[0m\u001b[0m\n",
            "\u001b[0;31mAttributeError\u001b[0m: 'bool' object has no attribute 'all'"
          ]
        }
      ]
    },
    {
      "cell_type": "code",
      "execution_count": null,
      "metadata": {
        "id": "LriTExbX6Sjb"
      },
      "outputs": [],
      "source": [
        "test_images = []\n",
        "test_labels = []\n",
        "label = 0\n",
        "\n",
        "#importing the testing dataset\n",
        "\n",
        "for directory_path in glob.glob(test_directory):\n",
        "    counter = 0\n",
        "    for img_path in glob.glob(os.path.join(directory_path, \"*.jpg\")):\n",
        "        counter+=1\n",
        "        img = cv2.imread(img_path, 0)\n",
        "        img = cv2.resize(img, TARGET_SIZE)\n",
        "        test_images.append(img)\n",
        "        test_labels.append(label)\n",
        "    \n",
        "    print(f'Testing Images For {categories_dict[label]}: {counter} images loaded')\n",
        "    label +=1\n",
        "\n",
        "print(f'Total Testing Images: {len(test_images)} images loaded')\n",
        "test_images_pred = test_images\n",
        "test_labels_presentation = test_labels \n",
        "test_images = np.array(test_images)\n",
        "test_labels = keras.utils.to_categorical(test_labels, 3)"
      ]
    },
    {
      "cell_type": "code",
      "execution_count": null,
      "metadata": {
        "id": "KlKDx9jowE4U"
      },
      "outputs": [],
      "source": [
        "type(train_images)\n",
        "# convert from integers to floats\n",
        "x_train = x_train.astype('float32')\n",
        "test_images_norm = test_images.astype('float32')\n",
        "# normalize to the range 0-1\n",
        "x_train /= 255.0\n",
        "test_images_norm /= 255.0\n",
        "type(train_images)"
      ]
    },
    {
      "cell_type": "code",
      "execution_count": null,
      "metadata": {
        "id": "NP57FYqt-uca"
      },
      "outputs": [],
      "source": [
        "def cnn_model():\n",
        "# CNN Based Model in Keras\n",
        "  model = keras.Sequential([\n",
        "        keras.Input(shape=(140,140,1), name='Original_Images'),\n",
        "        keras.layers.Conv2D(input_shape=(140,140,1), filters=32, kernel_size=11, \n",
        "                            strides=1, activation='relu', name='Conv1'),\n",
        "        keras.layers.Conv2D(input_shape=(130,130,32), filters=32, kernel_size=11, \n",
        "                            strides=1, activation='relu', name='Conv2'),\n",
        "        keras.layers.MaxPool2D(pool_size=(5, 5), strides=2),\n",
        "        keras.layers.Conv2D(input_shape=(58,58,32), filters=64, kernel_size=9, \n",
        "                            strides=1, activation='relu', name='Conv3'),\n",
        "        keras.layers.MaxPool2D(pool_size=(5, 5), strides=2),\n",
        "        keras.layers.Conv2D(input_shape=(23,23,64), filters=128, kernel_size=8, \n",
        "                            strides=1, activation='relu', name='Conv4'),\n",
        "        keras.layers.Conv2D(input_shape=(16,16,128), filters=256, kernel_size=9, \n",
        "                            strides=1, activation='relu', name='Conv5'),\n",
        "        keras.layers.Conv2D(input_shape=(8,8,256), filters=256, kernel_size=8, \n",
        "                            strides=1, activation='relu', name='Conv6'),    \n",
        "\n",
        "        keras.layers.Flatten(),\n",
        "        keras.layers.Dense(8, activation=tf.keras.activations.relu, name='Dense'),\n",
        "        keras.layers.Dense(3, activation=\"softmax\")\n",
        "    ])\n",
        "  opt = keras.optimizers.Adam(learning_rate=0.005)\n",
        "  model.compile(optimizer=opt, loss=tf.keras.losses.CategoricalCrossentropy(from_logits=True),\n",
        "              metrics=[keras.metrics.CategoricalAccuracy()])\n",
        "  return model\n",
        "\n",
        "  "
      ]
    },
    {
      "cell_type": "code",
      "execution_count": null,
      "metadata": {
        "id": "nasU8Qskk8A0"
      },
      "outputs": [],
      "source": [
        "model = cnn_model()"
      ]
    },
    {
      "cell_type": "code",
      "execution_count": null,
      "metadata": {
        "id": "U6Lcwzf0smys"
      },
      "outputs": [],
      "source": [
        "keras.utils.plot_model(model, show_shapes=True, show_layer_names=True)"
      ]
    },
    {
      "cell_type": "code",
      "execution_count": null,
      "metadata": {
        "id": "1Nfq0QT1yOLh"
      },
      "outputs": [],
      "source": [
        "hist = model.fit(\n",
        "    x_train,\n",
        "    y_train,\n",
        "    epochs=1\n",
        ")"
      ]
    },
    {
      "cell_type": "code",
      "source": [
        ""
      ],
      "metadata": {
        "id": "nobbyRoX1t_q"
      },
      "execution_count": null,
      "outputs": []
    },
    {
      "cell_type": "code",
      "source": [
        "df = pd.DataFrame(test_labels_presentation)\n",
        "df.head()\n",
        "# print(train_labels)\n",
        "sns.countplot(x=0,data= df)"
      ],
      "metadata": {
        "id": "JeeH52c11Oas"
      },
      "execution_count": null,
      "outputs": []
    },
    {
      "cell_type": "code",
      "source": [
        "score = model.evaluate(test_images, test_labels, verbose=0)\n",
        "print('Test loss:', score[0])\n",
        "print('Test accuracy:', score[1])"
      ],
      "metadata": {
        "id": "Jg3NpBHzHcdH"
      },
      "execution_count": null,
      "outputs": []
    },
    {
      "cell_type": "code",
      "source": [
        "def show_image(img, label, guess):\n",
        "  plt.figure()\n",
        "  plt.imshow(img, cmap=plt.cm.binary)\n",
        "  plt.title(\"Excpected: \" + label)\n",
        "  plt.xlabel(\"Guess: \" + guess)\n",
        "  plt.colorbar()\n",
        "  plt.grid(False)\n",
        "  plt.show()"
      ],
      "metadata": {
        "id": "SEoFe-6oMvjL"
      },
      "execution_count": null,
      "outputs": []
    },
    {
      "cell_type": "code",
      "source": [
        "def predict(model, image, correct_label):\n",
        "  prediction = model.predict(np.array([image]))\n",
        "  print(prediction)\n",
        "  predicted_class = categories_dict[np.argmax(prediction)]\n",
        "  show_image(image, categories_dict[correct_label], predicted_class)"
      ],
      "metadata": {
        "id": "80z9PdQKMzsH"
      },
      "execution_count": null,
      "outputs": []
    },
    {
      "cell_type": "code",
      "source": [
        "for i in range(len(test_images)):\n",
        "  image = test_images[i]\n",
        "  label = np.argmax(test_labels[i])\n",
        "  predict(model, image, label)"
      ],
      "metadata": {
        "id": "Gd2wU2sAPY2Q"
      },
      "execution_count": null,
      "outputs": []
    }
  ],
  "metadata": {
    "colab": {
      "collapsed_sections": [],
      "name": "image-processing.ipynb",
      "provenance": [],
      "include_colab_link": true
    },
    "kernelspec": {
      "display_name": "Python 3",
      "name": "python3"
    },
    "language_info": {
      "name": "python"
    }
  },
  "nbformat": 4,
  "nbformat_minor": 0
}