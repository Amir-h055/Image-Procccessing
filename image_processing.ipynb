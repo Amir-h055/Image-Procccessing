{
  "cells": [
    {
      "cell_type": "markdown",
      "metadata": {
        "id": "view-in-github",
        "colab_type": "text"
      },
      "source": [
        "<a href=\"https://colab.research.google.com/github/Amir-h055/Image-Procccessing/blob/main/image_processing.ipynb\" target=\"_parent\"><img src=\"https://colab.research.google.com/assets/colab-badge.svg\" alt=\"Open In Colab\"/></a>"
      ]
    },
    {
      "cell_type": "code",
      "execution_count": 4,
      "metadata": {
        "id": "vW9usI4OdiRX"
      },
      "outputs": [],
      "source": [
        "!pip install -q -U keras-tuner"
      ]
    },
    {
      "cell_type": "code",
      "execution_count": 5,
      "metadata": {
        "id": "FGazUYhCoL8U",
        "colab": {
          "base_uri": "https://localhost:8080/"
        },
        "outputId": "752e76bf-5651-4e78-8012-36f6038249f7"
      },
      "outputs": [
        {
          "output_type": "stream",
          "name": "stderr",
          "text": [
            "/usr/local/lib/python3.7/dist-packages/ipykernel_launcher.py:26: DeprecationWarning: `import kerastuner` is deprecated, please use `import keras_tuner`.\n"
          ]
        }
      ],
      "source": [
        "#Connecting to GitHub\n",
        "import os\n",
        "import glob\n",
        "import shutil\n",
        "import numpy as np\n",
        "import pandas as pd \n",
        "import matplotlib.pyplot as plt\n",
        "import cv2\n",
        "\n",
        "%tensorflow_version 2.x \n",
        "# TensorFlow and tf.keras\n",
        "import tensorflow as tf\n",
        "import seaborn as sns\n",
        "from fastai.vision import *\n",
        "from numpy.ma.core import size\n",
        "from fastai.vision.data import ImageDataBunch\n",
        "from fastai.vision.transform import get_transforms\n",
        "from tensorflow import keras\n",
        "from keras.models import Sequential\n",
        "from keras.layers import Dense, Flatten, Conv2D, MaxPool2D, Dropout, BatchNormalization\n",
        "from sklearn.metrics import classification_report, plot_confusion_matrix\n",
        "\n",
        "import keras_tuner as kt\n",
        "from keras_tuner import RandomSearch\n",
        "\n",
        "from kerastuner.engine.hyperparameters import HyperParameters\n",
        "from sklearn.model_selection import train_test_split\n",
        "import time\n"
      ]
    },
    {
      "cell_type": "code",
      "execution_count": 6,
      "metadata": {
        "colab": {
          "base_uri": "https://localhost:8080/"
        },
        "id": "30HYO_9WoCKo",
        "outputId": "271dfddc-cda6-4148-a68d-a71ef461a162"
      },
      "outputs": [
        {
          "output_type": "stream",
          "name": "stdout",
          "text": [
            "Mounted at /content/drive\n"
          ]
        }
      ],
      "source": [
        "from google.colab import drive\n",
        "drive.mount('/content/drive')"
      ]
    },
    {
      "cell_type": "code",
      "execution_count": 7,
      "metadata": {
        "id": "-Yv-E1FueB7y"
      },
      "outputs": [],
      "source": [
        "path ='/content/drive/My Drive/Comp 478 - Project/Chest X-ray (Covid-19 & Pneumonia)/Data'\n",
        "train_directory = '/content/drive/My Drive/Comp 478 - Project/Chest X-ray (Covid-19 & Pneumonia)/Data/train'\n",
        "test_directory = '/content/drive/My Drive/Comp 478 - Project/Chest X-ray (Covid-19 & Pneumonia)/Data/test'\n",
        "validation_directory = r'/content/drive/My Drive/Comp 478 - Project/Chest X-ray (Covid-19 & Pneumonia)/Data/validation' "
      ]
    },
    {
      "cell_type": "code",
      "execution_count": 8,
      "metadata": {
        "id": "ozCzGrvEeSf4"
      },
      "outputs": [],
      "source": [
        "SIZE = 140\n",
        "BATCH_SIZE = 64\n",
        "TARGET_SIZE = (SIZE,SIZE)\n",
        "EPOCH_NUM = 10"
      ]
    },
    {
      "cell_type": "code",
      "execution_count": 9,
      "metadata": {
        "id": "gREDNGCMrW5m"
      },
      "outputs": [],
      "source": [
        "categories_dict = {\n",
        "  0: \"COVID19\",\n",
        "  1: \"NORMAL\",\n",
        "  2: \"PNEUMONIA\",\n",
        "  \n",
        "}"
      ]
    },
    {
      "cell_type": "code",
      "execution_count": null,
      "metadata": {
        "id": "TdfycUr3V5o7"
      },
      "outputs": [],
      "source": [
        "image_gen = keras.preprocessing.image.ImageDataGenerator(\n",
        "                                  rescale = 1./255,\n",
        "                                  shear_range = 0.2,\n",
        "                                  zoom_range = 0.2,\n",
        "                              horizontal_flip = True, \n",
        "                               )\n",
        "image_split_train_validation = keras.preprocessing.image.ImageDataGenerator(\n",
        "                                  validation_split = 0.2\n",
        "                               )\n"
      ]
    },
    {
      "cell_type": "markdown",
      "metadata": {
        "id": "Y02M5TchjqYV"
      },
      "source": [
        "#Do NOT RUN THIS\n",
        "\n",
        "\n",
        "###Seperating Image into Training Dataset and Validation Dataset\n",
        "\n",
        "\n"
      ]
    },
    {
      "cell_type": "code",
      "execution_count": null,
      "metadata": {
        "colab": {
          "base_uri": "https://localhost:8080/"
        },
        "id": "PICph21zCQnx",
        "outputId": "c8b14ab8-12b9-4fbe-e140-e8946cfd7bdc"
      },
      "outputs": [
        {
          "output_type": "stream",
          "name": "stdout",
          "text": [
            "Found 4116 images belonging to 3 classes.\n",
            "Found 1028 images belonging to 3 classes.\n"
          ]
        }
      ],
      "source": [
        "# train = image_split_train_validation.flow_from_directory(\n",
        "#     train_directory,\n",
        "#     subset = \"training\"\n",
        "#     )\n",
        "# validation = image_split_train_validation.flow_from_directory(\n",
        "#     train_directory,\n",
        "#     subset = \"validation\"\n",
        "#     )"
      ]
    },
    {
      "cell_type": "code",
      "execution_count": null,
      "metadata": {
        "colab": {
          "base_uri": "https://localhost:8080/"
        },
        "id": "oMzyQsezaG-7",
        "outputId": "e48a3d5d-081e-48b4-8e30-dcc9c55df782"
      },
      "outputs": [
        {
          "output_type": "execute_result",
          "data": {
            "text/plain": [
              "{'COVID19': 0, 'NORMAL': 1, 'PNEUMONIA': 2}"
            ]
          },
          "metadata": {},
          "execution_count": 9
        }
      ],
      "source": [
        "# train.class_indices"
      ]
    },
    {
      "cell_type": "code",
      "execution_count": null,
      "metadata": {
        "colab": {
          "base_uri": "https://localhost:8080/",
          "height": 348
        },
        "id": "vVSGNvFlawVu",
        "outputId": "311e75bb-47dd-413a-9b9e-916d68d069b3"
      },
      "outputs": [
        {
          "output_type": "execute_result",
          "data": {
            "text/plain": [
              "[Text(0, 0.5, 'Number of Images'),\n",
              " Text(0.5, 0, 'Class'),\n",
              " Text(0.5, 1.0, 'Inital Training Dataset')]"
            ]
          },
          "metadata": {},
          "execution_count": 10
        },
        {
          "output_type": "display_data",
          "data": {
            "text/plain": [
              "<Figure size 432x288 with 1 Axes>"
            ],
            "image/png": "[encoded data removed]"
          },
          "metadata": {
            "needs_background": "light"
          }
        }
      ],
      "source": [
        "# image_labels = []\n",
        "# for  label in train.classes:\n",
        "#   image_labels.append(categories_dict[label])\n",
        "\n",
        "# df = pd.DataFrame(image_labels)\n",
        "# sns.countplot(x=0, data= df).set(Title='Inital Training Dataset', xlabel='Class', ylabel='Number of Images')"
      ]
    },
    {
      "cell_type": "markdown",
      "metadata": {
        "id": "2LsQO8s8kSQm"
      },
      "source": [
        "#DO NOT RUN THIS\n",
        "\n",
        "\n",
        "### Moving The Validation X-Rays To Validation Folder\n",
        "\n"
      ]
    },
    {
      "cell_type": "code",
      "execution_count": null,
      "metadata": {
        "id": "os7_iGjZb8t9"
      },
      "outputs": [],
      "source": [
        "# if not os.path.exists(validation_directory):\n",
        "#     os.makedirs(validation_directory)\n",
        "    \n",
        "# if not os.path.exists(validation_directory +\"/COVID19\"):\n",
        "#     os.makedirs(validation_directory +\"/COVID19\")\n",
        "\n",
        "# if not os.path.exists(validation_directory +\"/NORMAL\"):\n",
        "#     os.makedirs(validation_directory +\"/NORMAL\")\n",
        "\n",
        "# if not os.path.exists(validation_directory +\"/PNEUMONIA\"):\n",
        "#     os.makedirs(validation_directory +\"/PNEUMONIA\")\n",
        "\n",
        "# for i, label in enumerate(validation.classes):\n",
        "#   if not os.path.exists(validation_directory+\"/\"+validation.filenames[i]):\n",
        "#     if label == 0:\n",
        "#       shutil.move(validation.filepaths[i], validation_directory+\"/\"+validation.filenames[i])\n",
        "#     if label == 1:\n",
        "#       shutil.move(validation.filepaths[i], validation_directory+\"/\"+validation.filenames[i])\n",
        "#     if label == 2:\n",
        "#       shutil.move(validation.filepaths[i], validation_directory+\"/\"+validation.filenames[i])\n"
      ]
    },
    {
      "cell_type": "markdown",
      "metadata": {
        "id": "D0p7altzubm4"
      },
      "source": [
        "\n",
        "###Fetching Validation X-Rays From New Directory \n"
      ]
    },
    {
      "cell_type": "code",
      "execution_count": null,
      "metadata": {
        "colab": {
          "base_uri": "https://localhost:8080/"
        },
        "id": "zpe_i_mruYxx",
        "outputId": "453e4923-6f67-468f-efb5-5111c2d0954b"
      },
      "outputs": [
        {
          "output_type": "stream",
          "name": "stdout",
          "text": [
            "Found 1028 images belonging to 3 classes.\n"
          ]
        }
      ],
      "source": [
        "validation = image_gen.flow_from_directory(validation_directory)"
      ]
    },
    {
      "cell_type": "markdown",
      "metadata": {
        "id": "IrRhFnz3y3Vn"
      },
      "source": [
        "###Fetching Training X-Rays From New Directory \n"
      ]
    },
    {
      "cell_type": "code",
      "execution_count": null,
      "metadata": {
        "colab": {
          "base_uri": "https://localhost:8080/"
        },
        "id": "_sj8Sx_oy8s4",
        "outputId": "72f02735-b8c8-4dd9-a442-0364682b9b08"
      },
      "outputs": [
        {
          "output_type": "stream",
          "name": "stdout",
          "text": [
            "Found 4116 images belonging to 3 classes.\n"
          ]
        }
      ],
      "source": [
        "train = image_gen.flow_from_directory(train_directory)"
      ]
    },
    {
      "cell_type": "markdown",
      "metadata": {
        "id": "c1dqGmxSzmR-"
      },
      "source": [
        "###Some X-Rays Images"
      ]
    },
    {
      "cell_type": "code",
      "execution_count": null,
      "metadata": {
        "colab": {
          "base_uri": "https://localhost:8080/"
        },
        "id": "FsfAFPXo0i3P",
        "outputId": "57f26892-80aa-48bb-eadb-e78da8e1cf8d"
      },
      "outputs": [
        {
          "output_type": "stream",
          "name": "stderr",
          "text": [
            "/usr/local/lib/python3.7/dist-packages/fastai/data_block.py:461: UserWarning: Your validation set is empty. If this is by design, use `split_none()`\n",
            "                 or pass `ignore_empty=True` when labelling to remove this warning.\n",
            "  or pass `ignore_empty=True` when labelling to remove this warning.\"\"\")\n"
          ]
        }
      ],
      "source": [
        "tfms = get_transforms (do_flip=True, max_rotate=10.0);\n",
        "dataTrain = ImageDataBunch.from_folder(path, train='train', size=2000);"
      ]
    },
    {
      "cell_type": "code",
      "execution_count": null,
      "metadata": {
        "colab": {
          "base_uri": "https://localhost:8080/",
          "height": 513
        },
        "id": "GmDQyu2D53fN",
        "outputId": "f4b6ce3a-0526-4c0c-a22a-6579b2f0dde7"
      },
      "outputs": [
        {
          "output_type": "display_data",
          "data": {
            "text/plain": [
              "<Figure size 504x504 with 16 Axes>"
            ],
            "image/png": "[encoded data removed]"
          },
          "metadata": {
            "needs_background": "light"
          }
        }
      ],
      "source": [
        "dataTrain.show_batch(rows=4, figsize=(7,7))"
      ]
    },
    {
      "cell_type": "markdown",
      "metadata": {
        "id": "q_OE6sS_jEmI"
      },
      "source": [
        "#DO NOT RUN THIS \n",
        "\n",
        "###Augmenting The Training Images for COVID19 and NORMAL\n"
      ]
    },
    {
      "cell_type": "code",
      "execution_count": null,
      "metadata": {
        "id": "npGjuLQBKlYx",
        "colab": {
          "base_uri": "https://localhost:8080/"
        },
        "outputId": "01070153-c01d-407c-a49d-4eb59fe757de"
      },
      "outputs": [
        {
          "output_type": "stream",
          "name": "stdout",
          "text": [
            "200 Augmented Images\n",
            "400 Augmented Images\n",
            "600 Augmented Images\n",
            "800 Augmented Images\n",
            "1000 Augmented Images\n",
            "1200 Augmented Images\n",
            "1400 Augmented Images\n",
            "1600 Augmented Images\n",
            "1800 Augmented Images\n",
            "2000 Augmented Images\n",
            "2200 Augmented Images\n",
            "2400 Augmented Images\n",
            "2600 Augmented Images\n",
            "2800 Augmented Images\n",
            "3000 Augmented Images\n",
            "3200 Augmented Images\n",
            "3400 Augmented Images\n",
            "3600 Augmented Images\n",
            "3800 Augmented Images\n",
            "4000 Augmented Images\n",
            "4200 Augmented Images\n"
          ]
        }
      ],
      "source": [
        "# aug_image_path = {\n",
        "#   0: '/content/drive/My Drive/Comp 478 - Project/Chest X-ray (Covid-19 & Pneumonia)/Data/train/COVID19',\n",
        "#   1: '/content/drive/My Drive/Comp 478 - Project/Chest X-ray (Covid-19 & Pneumonia)/Data/train/NORMAL',  \n",
        "# }\n",
        "# aug_image_prefix = {\n",
        "#   0: 'COVID19_AUG',\n",
        "#   1: 'NORMAL_AUG',  \n",
        "# }\n",
        "\n",
        "# number_of_aug_img = 0\n",
        "# for i, label in enumerate(train.classes):\n",
        "#   if label == 0 or label == 1:\n",
        "#     if label == 0:\n",
        "#       aug_image_counter = 6\n",
        "#     else:\n",
        "#       aug_image_counter = 2\n",
        "\n",
        "#     img = cv2.imread(train.filepaths[i])\n",
        "#     x = tf.keras.preprocessing.image.img_to_array(img)\n",
        "#     x = x.reshape((1,) + x.shape)\n",
        "\n",
        "#     counter = 0\n",
        "#     for batch in image_gen.flow(x, batch_size= aug_image_counter, save_to_dir=aug_image_path[label], save_prefix= f'{aug_image_prefix[label]}_{i}', save_format=\"jpg\"):\n",
        "#       number_of_aug_img += 1\n",
        "#       counter += 1\n",
        "#       if(number_of_aug_img%200==0): print(number_of_aug_img,\"Augmented Images\")\n",
        "\n",
        "#       if(counter >= aug_image_counter):\n",
        "#         break\n",
        "\n"
      ]
    },
    {
      "cell_type": "markdown",
      "source": [
        "###Augmenting The Validation Images for COVID19 and NORMAL\n",
        "\n",
        "\n",
        "\n"
      ],
      "metadata": {
        "id": "BIL7rrFL__dr"
      }
    },
    {
      "cell_type": "code",
      "source": [
        "# aug_image_path = {\n",
        "#   0: '/content/drive/My Drive/Comp 478 - Project/Chest X-ray (Covid-19 & Pneumonia)/Data/validation/COVID19',\n",
        "#   1: '/content/drive/My Drive/Comp 478 - Project/Chest X-ray (Covid-19 & Pneumonia)/Data/validation/NORMAL',  \n",
        "# }\n",
        "# aug_image_prefix = {\n",
        "#   0: 'COVID19_AUG',\n",
        "#   1: 'NORMAL_AUG',  \n",
        "# }\n",
        "\n",
        "# number_of_aug_img = 0\n",
        "# for i, label in enumerate(validation.classes):\n",
        "#   if label == 0 or label == 1:\n",
        "#     if label == 0:\n",
        "#       aug_image_counter = 6\n",
        "#     else:\n",
        "#       aug_image_counter = 2\n",
        "\n",
        "#     img = cv2.imread(validation.filepaths[i])\n",
        "#     x = tf.keras.preprocessing.image.img_to_array(img)\n",
        "#     x = x.reshape((1,) + x.shape)\n",
        "\n",
        "#     counter = 0\n",
        "#     for batch in image_gen.flow(x, batch_size= aug_image_counter, save_to_dir=aug_image_path[label], save_prefix= f'{aug_image_prefix[label]}_{i}', save_format=\"jpg\"):\n",
        "#       number_of_aug_img += 1\n",
        "#       counter += 1\n",
        "#       if(number_of_aug_img%200==0): print(number_of_aug_img,\"Augmented Images\")\n",
        "\n",
        "#       if(counter >= aug_image_counter):\n",
        "#         break"
      ],
      "metadata": {
        "id": "2xOT86HEBF5A"
      },
      "execution_count": null,
      "outputs": []
    },
    {
      "cell_type": "code",
      "source": [
        "ls  '/content/drive/My Drive/Comp 478 - Project/Chest X-ray (Covid-19 & Pneumonia)/Data/validation/COVID19';"
      ],
      "metadata": {
        "id": "Lf3bNoB_Ir0X"
      },
      "execution_count": null,
      "outputs": []
    },
    {
      "cell_type": "code",
      "source": [
        "#ls -lh '/content/drive/My Drive/Comp 478 - Project/Chest X-ray (Covid-19 & Pneumonia)/Data/validation/PNEUMONIA';"
      ],
      "metadata": {
        "id": "Q99dztc2I-VQ"
      },
      "execution_count": null,
      "outputs": []
    },
    {
      "cell_type": "markdown",
      "source": [
        "###Fetching Augmented X-Ray Image for Training and Validation and Test set\n"
      ],
      "metadata": {
        "id": "5ASdEm6hzvEp"
      }
    },
    {
      "cell_type": "code",
      "execution_count": null,
      "metadata": {
        "colab": {
          "base_uri": "https://localhost:8080/"
        },
        "id": "ep9dP5iC3fTP",
        "outputId": "9d28f322-080b-4e66-cb21-41be015712e4"
      },
      "outputs": [
        {
          "output_type": "stream",
          "name": "stdout",
          "text": [
            "Found 8349 images belonging to 3 classes.\n",
            "Found 1028 images belonging to 3 classes.\n",
            "Found 1299 images belonging to 3 classes.\n"
          ]
        }
      ],
      "source": [
        "data_gen = tf.keras.preprocessing.image.ImageDataGenerator(rescale = 1./255 )\n",
        "\n",
        "train_balanced = data_gen.flow_from_directory(\n",
        "      train_directory, \n",
        "      target_size= TARGET_SIZE,\n",
        "      color_mode='grayscale',\n",
        "      batch_size=999999\n",
        "      )\n",
        "\n",
        "validation_set = data_gen.flow_from_directory(\n",
        "      validation_directory, \n",
        "      target_size= TARGET_SIZE,\n",
        "      color_mode='grayscale',\n",
        "      batch_size=999999\n",
        "      )\n",
        "\n",
        "\n",
        "test_set = data_gen.flow_from_directory(\n",
        "      test_directory, \n",
        "      target_size= TARGET_SIZE,\n",
        "      color_mode='grayscale',\n",
        "      batch_size=999999\n",
        "      )"
      ]
    },
    {
      "cell_type": "code",
      "execution_count": null,
      "metadata": {
        "id": "uvDWDB3Cx5dY",
        "colab": {
          "base_uri": "https://localhost:8080/",
          "height": 349
        },
        "outputId": "9867fb13-7ffd-4c9c-9eb5-5e4bec68f23a"
      },
      "outputs": [
        {
          "output_type": "execute_result",
          "data": {
            "text/plain": [
              "[Text(0, 0.5, 'Number of Images'),\n",
              " Text(0.5, 0, 'Class'),\n",
              " Text(0.5, 1.0, 'Balanced Training Dataset')]"
            ]
          },
          "metadata": {},
          "execution_count": 8
        },
        {
          "output_type": "display_data",
          "data": {
            "text/plain": [
              "<Figure size 432x288 with 1 Axes>"
            ],
            "image/png": "[encoded data removed]"
          },
          "metadata": {
            "needs_background": "light"
          }
        }
      ],
      "source": [
        "image_labels = []\n",
        "for  label in train_balanced.classes:\n",
        "  image_labels.append(categories_dict[label])\n",
        "\n",
        "df = pd.DataFrame(image_labels)\n",
        "sns.countplot(x=0, data= df).set(Title='Balanced Training Dataset', xlabel='Class', ylabel='Number of Images')"
      ]
    },
    {
      "cell_type": "code",
      "source": [
        "image_labels = []\n",
        "for  label in validation_set.classes:\n",
        "  image_labels.append(categories_dict[label])\n",
        "\n",
        "df = pd.DataFrame(image_labels)\n",
        "sns.countplot(x=0, data= df).set(Title='Validation Dataset', xlabel='Class', ylabel='Number of Images')"
      ],
      "metadata": {
        "id": "hJ8askAO0A3P",
        "colab": {
          "base_uri": "https://localhost:8080/",
          "height": 349
        },
        "outputId": "8d6b25ec-4ff3-43bd-c953-3799fdf7411a"
      },
      "execution_count": null,
      "outputs": [
        {
          "output_type": "execute_result",
          "data": {
            "text/plain": [
              "[Text(0, 0.5, 'Number of Images'),\n",
              " Text(0.5, 0, 'Class'),\n",
              " Text(0.5, 1.0, 'Validation Dataset')]"
            ]
          },
          "metadata": {},
          "execution_count": 9
        },
        {
          "output_type": "display_data",
          "data": {
            "text/plain": [
              "<Figure size 432x288 with 1 Axes>"
            ],
            "image/png": "[encoded data removed]"
          },
          "metadata": {
            "needs_background": "light"
          }
        }
      ]
    },
    {
      "cell_type": "code",
      "source": [
        "image_labels = []\n",
        "for  label in test_set.classes:\n",
        "  image_labels.append(categories_dict[label])\n",
        "\n",
        "df = pd.DataFrame(image_labels)\n",
        "sns.countplot(x=0, data= df).set(Title='Test Dataset', xlabel='Class', ylabel='Number of Images')"
      ],
      "metadata": {
        "colab": {
          "base_uri": "https://localhost:8080/",
          "height": 349
        },
        "id": "WDs3VklsLuSI",
        "outputId": "81c34ccf-a4e2-4e9c-a874-af8962ae9c79"
      },
      "execution_count": null,
      "outputs": [
        {
          "output_type": "execute_result",
          "data": {
            "text/plain": [
              "[Text(0, 0.5, 'Number of Images'),\n",
              " Text(0.5, 0, 'Class'),\n",
              " Text(0.5, 1.0, 'Test Dataset')]"
            ]
          },
          "metadata": {},
          "execution_count": 10
        },
        {
          "output_type": "display_data",
          "data": {
            "text/plain": [
              "<Figure size 432x288 with 1 Axes>"
            ],
            "image/png": "[encoded data removed]"
          },
          "metadata": {
            "needs_background": "light"
          }
        }
      ]
    },
    {
      "cell_type": "code",
      "execution_count": null,
      "metadata": {
        "id": "CiaX5wNYKBhY"
      },
      "outputs": [],
      "source": [
        "#TARGET_SIZE = (64, 64)"
      ]
    },
    {
      "cell_type": "code",
      "execution_count": null,
      "metadata": {
        "id": "RcVyoU-KJ9eQ"
      },
      "outputs": [],
      "source": [
        "#ls '/content/drive/My Drive/Comp 478 - Project/Chest X-ray (Covid-19 & Pneumonia)/Data/train/COVID19'"
      ]
    },
    {
      "cell_type": "code",
      "execution_count": null,
      "metadata": {
        "id": "PDUeEJ_GX9Zg"
      },
      "outputs": [],
      "source": [
        "X_train = []\n",
        "y_train = []\n",
        "X_train, y_train = next(train_balanced)"
      ]
    },
    {
      "cell_type": "code",
      "execution_count": null,
      "metadata": {
        "colab": {
          "base_uri": "https://localhost:8080/"
        },
        "id": "4_80DjpSYQTS",
        "outputId": "399e6a8d-645d-4004-ded5-8ae4ecf511ea"
      },
      "outputs": [
        {
          "output_type": "execute_result",
          "data": {
            "text/plain": [
              "((8349, 140, 140, 1), (8349, 3))"
            ]
          },
          "metadata": {},
          "execution_count": 19
        }
      ],
      "source": [
        "X_train.shape, y_train.shape"
      ]
    },
    {
      "cell_type": "code",
      "source": [
        "X_valid = []\n",
        "y_valid = []\n",
        "X_valid, y_valid = next(validation_set)"
      ],
      "metadata": {
        "id": "euMBpy7MLTsi"
      },
      "execution_count": null,
      "outputs": []
    },
    {
      "cell_type": "code",
      "source": [
        "X_valid.shape, y_valid.shape"
      ],
      "metadata": {
        "id": "bSbU10wTUzXV"
      },
      "execution_count": null,
      "outputs": []
    },
    {
      "cell_type": "code",
      "source": [
        "X_test = []\n",
        "y_test = []\n",
        "X_test, y_test = next(test_set)"
      ],
      "metadata": {
        "id": "aowCLWYnU5wG"
      },
      "execution_count": null,
      "outputs": []
    },
    {
      "cell_type": "code",
      "source": [
        "X_test.shape, y_test.shape"
      ],
      "metadata": {
        "colab": {
          "base_uri": "https://localhost:8080/"
        },
        "id": "5WFqeQnTU76D",
        "outputId": "35894b9c-6cc7-4dc9-8765-941dbb95058e"
      },
      "execution_count": null,
      "outputs": [
        {
          "output_type": "execute_result",
          "data": {
            "text/plain": [
              "((1299, 140, 140, 1), (1299, 3))"
            ]
          },
          "metadata": {},
          "execution_count": 35
        }
      ]
    },
    {
      "cell_type": "code",
      "execution_count": null,
      "metadata": {
        "colab": {
          "base_uri": "https://localhost:8080/"
        },
        "id": "MQ2-H9DIQW1T",
        "outputId": "efc13168-03d1-4f3e-fd00-eef4f42e1b52"
      },
      "outputs": [
        {
          "output_type": "execute_result",
          "data": {
            "text/plain": [
              "1"
            ]
          },
          "metadata": {},
          "execution_count": 21
        }
      ],
      "source": [
        "len(train_balanced)"
      ]
    },
    {
      "cell_type": "code",
      "execution_count": null,
      "metadata": {
        "id": "a1rSoGydP2Zx"
      },
      "outputs": [],
      "source": [
        "#from tqdm import tqdm\n",
        "#X_train = []\n",
        "#y_train = []\n",
        "#for X, y in tqdm(train_balanced, total=len(train_balanced)):\n",
        "#  print(\"\\nx\\n\")\n",
        "#  print(X)\n",
        "#  print(\"\\ny\\n\")\n",
        "#  print(y)\n",
        "#  X_train.append(X)\n",
        "#  y_train.append(y)"
      ]
    },
    {
      "cell_type": "code",
      "execution_count": null,
      "metadata": {
        "id": "d0eBBI9ZQkgO"
      },
      "outputs": [],
      "source": [
        "# X_train = np.concatenate(X_train)\n",
        "# y_train = np.concatenate(y_train)\n",
        "# X_valid = np.concatenate(X_valid)\n",
        "# y_valid = np.concatenate(y_valid)"
      ]
    },
    {
      "cell_type": "markdown",
      "source": [
        "Save the **Train** and **validation** array"
      ],
      "metadata": {
        "id": "r9OUTjroNlr-"
      }
    },
    {
      "cell_type": "code",
      "execution_count": null,
      "metadata": {
        "id": "FG-siu9xRP0R"
      },
      "outputs": [],
      "source": [
        "np.save(file = '/content/drive/My Drive/Comp 478 - Project/Chest X-ray (Covid-19 & Pneumonia)/Data/X_train', arr=X_train)\n",
        "np.save(file = '/content/drive/My Drive/Comp 478 - Project/Chest X-ray (Covid-19 & Pneumonia)/Data/y_train', arr=y_train)\n",
        "\n",
        "np.save(file = '/content/drive/My Drive/Comp 478 - Project/Chest X-ray (Covid-19 & Pneumonia)/Data/X_valid', arr=X_valid)\n",
        "np.save(file = '/content/drive/My Drive/Comp 478 - Project/Chest X-ray (Covid-19 & Pneumonia)/Data/y_valid', arr=y_valid)\n",
        "\n",
        "np.save(file = '/content/drive/My Drive/Comp 478 - Project/Chest X-ray (Covid-19 & Pneumonia)/Data/X_test', arr=X_test)\n",
        "np.save(file = '/content/drive/My Drive/Comp 478 - Project/Chest X-ray (Covid-19 & Pneumonia)/Data/y_test', arr=y_test)"
      ]
    },
    {
      "cell_type": "code",
      "execution_count": null,
      "metadata": {
        "colab": {
          "base_uri": "https://localhost:8080/"
        },
        "id": "ltkyjVG2RqYQ",
        "outputId": "2bec4179-454b-4422-aeb0-bea4145e8e42"
      },
      "outputs": [
        {
          "output_type": "stream",
          "name": "stdout",
          "text": [
            "total 799M\n",
            "drwx------ 5 root root 4.0K Apr 13 21:42 \u001b[0m\u001b[01;34mtest\u001b[0m/\n",
            "drwx------ 5 root root 4.0K Apr 15 13:24 \u001b[01;34mtrain\u001b[0m/\n",
            "drwx------ 5 root root 4.0K Apr 15 14:27 \u001b[01;34mvalidation\u001b[0m/\n",
            "-rw------- 1 root root  98M Apr 15 17:48 X_test.npy\n",
            "-rw------- 1 root root 625M Apr 15 17:37 X_train.npy\n",
            "-rw------- 1 root root  77M Apr 15 17:37 X_valid.npy\n",
            "-rw------- 1 root root  16K Apr 15 17:48 y_test.npy\n",
            "-rw------- 1 root root  98K Apr 15 17:37 y_train.npy\n",
            "-rw------- 1 root root  13K Apr 15 17:37 y_valid.npy\n"
          ]
        }
      ],
      "source": [
        "ls -lh '/content/drive/My Drive/Comp 478 - Project/Chest X-ray (Covid-19 & Pneumonia)/Data'"
      ]
    },
    {
      "cell_type": "markdown",
      "source": [
        "## **Load the Train and Validation array ( on next run Continue from here , no need to run prev code)**"
      ],
      "metadata": {
        "id": "5zCnKDkVNxtu"
      }
    },
    {
      "cell_type": "code",
      "execution_count": 10,
      "metadata": {
        "id": "dCTAKWRkR17b"
      },
      "outputs": [],
      "source": [
        "X_train = np.load('/content/drive/My Drive/Comp 478 - Project/Chest X-ray (Covid-19 & Pneumonia)/Data/X_train.npy')\n",
        "y_train = np.load('/content/drive/My Drive/Comp 478 - Project/Chest X-ray (Covid-19 & Pneumonia)/Data/y_train.npy')\n",
        "X_valid = np.load('/content/drive/My Drive/Comp 478 - Project/Chest X-ray (Covid-19 & Pneumonia)/Data/X_valid.npy')\n",
        "y_valid = np.load('/content/drive/My Drive/Comp 478 - Project/Chest X-ray (Covid-19 & Pneumonia)/Data/y_valid.npy')\n",
        "\n",
        "X_test = np.load('/content/drive/My Drive/Comp 478 - Project/Chest X-ray (Covid-19 & Pneumonia)/Data/X_test.npy')\n",
        "y_test = np.load('/content/drive/My Drive/Comp 478 - Project/Chest X-ray (Covid-19 & Pneumonia)/Data/y_test.npy')"
      ]
    },
    {
      "cell_type": "code",
      "source": [
        "print(\"Tarin\")\n",
        "print(pd.Series(y_train.argmax(1)).value_counts())\n",
        "print(\"\\nValidation\")\n",
        "print(pd.Series(y_valid.argmax(1)).value_counts())\n",
        "print(\"\\nTest\")\n",
        "print(pd.Series(y_test.argmax(1)).value_counts())"
      ],
      "metadata": {
        "colab": {
          "base_uri": "https://localhost:8080/"
        },
        "id": "i4OrGHP94WgJ",
        "outputId": "77d3528f-874d-4ac7-8937-1a8854e24430"
      },
      "execution_count": 11,
      "outputs": [
        {
          "output_type": "stream",
          "name": "stdout",
          "text": [
            "Tarin\n",
            "1    3039\n",
            "2    2735\n",
            "0    2575\n",
            "dtype: int64\n",
            "\n",
            "Validation\n",
            "2    683\n",
            "1    253\n",
            "0     92\n",
            "dtype: int64\n",
            "\n",
            "Test\n",
            "2    861\n",
            "1    320\n",
            "0    118\n",
            "dtype: int64\n"
          ]
        }
      ]
    },
    {
      "cell_type": "markdown",
      "metadata": {
        "id": "-QUyKlaSp-kE"
      },
      "source": [
        "<h1>Training CNN</h1>"
      ]
    },
    {
      "cell_type": "markdown",
      "source": [
        "### Utils"
      ],
      "metadata": {
        "id": "7TAdLK25rm1x"
      }
    },
    {
      "cell_type": "code",
      "source": [
        "# snipset from :https://datascience.stackexchange.com/a/45166\n",
        "from keras import backend as K\n",
        "\n",
        "def recall_m(y_true, y_pred):\n",
        "    true_positives = K.sum(K.round(K.clip(y_true * y_pred, 0, 1)))\n",
        "    possible_positives = K.sum(K.round(K.clip(y_true, 0, 1)))\n",
        "    recall = true_positives / (possible_positives + K.epsilon())\n",
        "    return recall\n",
        "\n",
        "def precision_m(y_true, y_pred):\n",
        "    true_positives = K.sum(K.round(K.clip(y_true * y_pred, 0, 1)))\n",
        "    predicted_positives = K.sum(K.round(K.clip(y_pred, 0, 1)))\n",
        "    precision = true_positives / (predicted_positives + K.epsilon())\n",
        "    return precision\n",
        "\n",
        "def f1_m(y_true, y_pred):\n",
        "    precision = precision_m(y_true, y_pred)\n",
        "    recall = recall_m(y_true, y_pred)\n",
        "    return 2*((precision*recall)/(precision+recall+K.epsilon()))"
      ],
      "metadata": {
        "id": "n1NdnvMaZAIs"
      },
      "execution_count": 9,
      "outputs": []
    },
    {
      "cell_type": "code",
      "source": [
        "def model_evaluation(y_pred_train, y_pred_valid,y_pred_test):\n",
        "  print(\"Train\")\n",
        "  print(classification_report(y_train.argmax(axis=1), y_pred_train.argmax(axis=1)))\n",
        "\n",
        "  print(\"\\n***********\\nValid\")\n",
        "  print(classification_report(y_valid.argmax(axis=1), y_pred_valid.argmax(axis=1)))\n",
        "\n",
        "  print(\"\\n***********\\nTest\")\n",
        "  print(classification_report(y_test.argmax(axis=1), y_pred_test.argmax(axis=1))) \n",
        "\n",
        "\n",
        "  confusion = pd.crosstab(y_test.argmax(axis=1), y_pred_test.argmax(axis=1)).reindex(columns=range(3)).fillna(0)\n",
        "  print(confusion)\n",
        "\n",
        "  sns.heatmap(confusion, annot=True, fmt='.0f')\n",
        "  plt.xlabel('Predicted')\n",
        "  plt.ylabel('Actual');\n",
        "\n",
        "  print(\"\\n\")\n",
        "  confusion['total'] = confusion.sum(1)\n",
        "  tot_row = confusion.sum(0)\n",
        "  tot_row.name = 'total'\n",
        "  confusion = confusion.append(tot_row)\n",
        "  print(confusion)"
      ],
      "metadata": {
        "id": "rwS1QdWRHMpo"
      },
      "execution_count": 10,
      "outputs": []
    },
    {
      "cell_type": "markdown",
      "source": [
        "## Train a model"
      ],
      "metadata": {
        "id": "PylBsM4FHO0C"
      }
    },
    {
      "cell_type": "code",
      "execution_count": 11,
      "metadata": {
        "id": "gcsqrTl3yYJV"
      },
      "outputs": [],
      "source": [
        "from fastai import layers\n",
        "def build_model(X_train):  \n",
        "  model = keras.models.Sequential([\n",
        "    keras.layers.Conv2D(\n",
        "        filters=16,\n",
        "        kernel_size=6,\n",
        "        activation='relu',\n",
        "        input_shape=X_train.shape[1:]\n",
        "    ),\n",
        "    (Dropout(0.3)),\n",
        "    keras.layers.Conv2D(\n",
        "        filters=32,\n",
        "        kernel_size=3,\n",
        "        activation='relu'\n",
        "    ),\n",
        "\n",
        "     keras.layers.Conv2D(\n",
        "        filters=64,\n",
        "        kernel_size=3,\n",
        "        activation='relu'\n",
        "    ),\n",
        "    BatchNormalization(),\n",
        "    keras.layers.MaxPool2D(pool_size=(3,3)),\n",
        "    keras.layers.Flatten(),\n",
        "    keras.layers.Dense(\n",
        "        units=16,\n",
        "        activation='relu'\n",
        "    ),\n",
        "    keras.layers.Dense(3, activation='softmax')\n",
        "  ])\n",
        "  \n",
        "  model.compile(optimizer=keras.optimizers.Adam(lr=0.0001),\n",
        "              loss='categorical_crossentropy',\n",
        "              metrics=[keras.metrics.CategoricalAccuracy(),f1_m])\n",
        "  \n",
        "  return model"
      ]
    },
    {
      "cell_type": "code",
      "execution_count": 12,
      "metadata": {
        "id": "xHgCm5uLDmUQ",
        "colab": {
          "base_uri": "https://localhost:8080/"
        },
        "outputId": "85208220-a8f2-4040-ff4a-a1402885c8f0"
      },
      "outputs": [
        {
          "output_type": "execute_result",
          "data": {
            "text/plain": [
              "(8349, 140, 140, 1)"
            ]
          },
          "metadata": {},
          "execution_count": 12
        }
      ],
      "source": [
        "# 64, 140, 140, 1)\n",
        "X_train.shape"
      ]
    },
    {
      "cell_type": "code",
      "execution_count": 13,
      "metadata": {
        "colab": {
          "base_uri": "https://localhost:8080/"
        },
        "id": "npUOeeEjd4P4",
        "outputId": "19ea3398-46bd-44d0-9bea-5f1209bb1551"
      },
      "outputs": [
        {
          "output_type": "stream",
          "name": "stdout",
          "text": [
            "Model: \"sequential\"\n",
            "_________________________________________________________________\n",
            " Layer (type)                Output Shape              Param #   \n",
            "=================================================================\n",
            " conv2d (Conv2D)             (None, 135, 135, 16)      592       \n",
            "                                                                 \n",
            " dropout (Dropout)           (None, 135, 135, 16)      0         \n",
            "                                                                 \n",
            " conv2d_1 (Conv2D)           (None, 133, 133, 32)      4640      \n",
            "                                                                 \n",
            " conv2d_2 (Conv2D)           (None, 131, 131, 64)      18496     \n",
            "                                                                 \n",
            " batch_normalization (BatchN  (None, 131, 131, 64)     256       \n",
            " ormalization)                                                   \n",
            "                                                                 \n",
            " max_pooling2d (MaxPooling2D  (None, 43, 43, 64)       0         \n",
            " )                                                               \n",
            "                                                                 \n",
            " flatten (Flatten)           (None, 118336)            0         \n",
            "                                                                 \n",
            " dense (Dense)               (None, 16)                1893392   \n",
            "                                                                 \n",
            " dense_1 (Dense)             (None, 3)                 51        \n",
            "                                                                 \n",
            "=================================================================\n",
            "Total params: 1,917,427\n",
            "Trainable params: 1,917,299\n",
            "Non-trainable params: 128\n",
            "_________________________________________________________________\n"
          ]
        },
        {
          "output_type": "stream",
          "name": "stderr",
          "text": [
            "/usr/local/lib/python3.7/dist-packages/keras/optimizer_v2/adam.py:105: UserWarning: The `lr` argument is deprecated, use `learning_rate` instead.\n",
            "  super(Adam, self).__init__(name, **kwargs)\n"
          ]
        }
      ],
      "source": [
        "model = build_model(X_train)\n",
        "model.summary()"
      ]
    },
    {
      "cell_type": "code",
      "execution_count": 15,
      "metadata": {
        "colab": {
          "base_uri": "https://localhost:8080/"
        },
        "id": "vts7eK5ZHGsG",
        "outputId": "64a24737-3b7b-464c-a153-ff50e65b0381"
      },
      "outputs": [
        {
          "output_type": "execute_result",
          "data": {
            "text/plain": [
              "True"
            ]
          },
          "metadata": {},
          "execution_count": 15
        }
      ],
      "source": [
        "tf.test.is_gpu_available()"
      ]
    },
    {
      "cell_type": "code",
      "execution_count": 16,
      "metadata": {
        "colab": {
          "base_uri": "https://localhost:8080/"
        },
        "id": "NJMMGk5XOXoY",
        "outputId": "977ef579-8133-4531-b6c7-3144c2dcb81c"
      },
      "outputs": [
        {
          "output_type": "stream",
          "name": "stdout",
          "text": [
            "Epoch 1/27\n",
            "261/261 [==============================] - 39s 120ms/step - loss: 0.9225 - categorical_accuracy: 0.5965 - f1_m: 0.4037 - val_loss: 1.0533 - val_categorical_accuracy: 0.4436 - val_f1_m: 0.0618\n",
            "Epoch 2/27\n",
            "261/261 [==============================] - 30s 116ms/step - loss: 0.7533 - categorical_accuracy: 0.7355 - f1_m: 0.5369 - val_loss: 1.6467 - val_categorical_accuracy: 0.7033 - val_f1_m: 0.6929\n",
            "Epoch 3/27\n",
            "261/261 [==============================] - 30s 114ms/step - loss: 0.5698 - categorical_accuracy: 0.8020 - f1_m: 0.6735 - val_loss: 1.3056 - val_categorical_accuracy: 0.7160 - val_f1_m: 0.7183\n",
            "Epoch 4/27\n",
            "261/261 [==============================] - 31s 117ms/step - loss: 0.4775 - categorical_accuracy: 0.7424 - f1_m: 0.6864 - val_loss: 1.0442 - val_categorical_accuracy: 0.7189 - val_f1_m: 0.7294\n",
            "Epoch 5/27\n",
            "261/261 [==============================] - 30s 113ms/step - loss: 0.3978 - categorical_accuracy: 0.7727 - f1_m: 0.7464 - val_loss: 0.4573 - val_categorical_accuracy: 0.8823 - val_f1_m: 0.8870\n",
            "Epoch 6/27\n",
            "261/261 [==============================] - 30s 114ms/step - loss: 0.2588 - categorical_accuracy: 0.9221 - f1_m: 0.9218 - val_loss: 0.5046 - val_categorical_accuracy: 0.8706 - val_f1_m: 0.8740\n",
            "Epoch 7/27\n",
            "261/261 [==============================] - 30s 113ms/step - loss: 0.1669 - categorical_accuracy: 0.9436 - f1_m: 0.9434 - val_loss: 0.3061 - val_categorical_accuracy: 0.9066 - val_f1_m: 0.9100\n",
            "Epoch 8/27\n",
            "261/261 [==============================] - 29s 112ms/step - loss: 0.1236 - categorical_accuracy: 0.9558 - f1_m: 0.9560 - val_loss: 0.4718 - val_categorical_accuracy: 0.8628 - val_f1_m: 0.8647\n",
            "Epoch 9/27\n",
            "261/261 [==============================] - 29s 112ms/step - loss: 0.1008 - categorical_accuracy: 0.9624 - f1_m: 0.9625 - val_loss: 0.3519 - val_categorical_accuracy: 0.9008 - val_f1_m: 0.9028\n",
            "Epoch 10/27\n",
            "261/261 [==============================] - 29s 112ms/step - loss: 0.0777 - categorical_accuracy: 0.9736 - f1_m: 0.9735 - val_loss: 0.2558 - val_categorical_accuracy: 0.9270 - val_f1_m: 0.9294\n",
            "Epoch 11/27\n",
            "261/261 [==============================] - 29s 112ms/step - loss: 0.0625 - categorical_accuracy: 0.9774 - f1_m: 0.9775 - val_loss: 0.2658 - val_categorical_accuracy: 0.9241 - val_f1_m: 0.9269\n",
            "Epoch 12/27\n",
            "261/261 [==============================] - 30s 113ms/step - loss: 0.0470 - categorical_accuracy: 0.9844 - f1_m: 0.9844 - val_loss: 0.2562 - val_categorical_accuracy: 0.9290 - val_f1_m: 0.9312\n",
            "Epoch 13/27\n",
            "261/261 [==============================] - 29s 112ms/step - loss: 0.0450 - categorical_accuracy: 0.9849 - f1_m: 0.9849 - val_loss: 0.2383 - val_categorical_accuracy: 0.9377 - val_f1_m: 0.9394\n",
            "Epoch 14/27\n",
            "261/261 [==============================] - 29s 113ms/step - loss: 0.0350 - categorical_accuracy: 0.9889 - f1_m: 0.9888 - val_loss: 0.2756 - val_categorical_accuracy: 0.9329 - val_f1_m: 0.9347\n",
            "Epoch 15/27\n",
            "261/261 [==============================] - 29s 112ms/step - loss: 0.0295 - categorical_accuracy: 0.9915 - f1_m: 0.9915 - val_loss: 0.2714 - val_categorical_accuracy: 0.9300 - val_f1_m: 0.9323\n",
            "Epoch 16/27\n",
            "261/261 [==============================] - 29s 112ms/step - loss: 0.0233 - categorical_accuracy: 0.9925 - f1_m: 0.9925 - val_loss: 0.3085 - val_categorical_accuracy: 0.9339 - val_f1_m: 0.9356\n",
            "Epoch 17/27\n",
            "261/261 [==============================] - 29s 112ms/step - loss: 0.0181 - categorical_accuracy: 0.9947 - f1_m: 0.9947 - val_loss: 0.2710 - val_categorical_accuracy: 0.9348 - val_f1_m: 0.9366\n",
            "Epoch 18/27\n",
            "261/261 [==============================] - 29s 112ms/step - loss: 0.0167 - categorical_accuracy: 0.9954 - f1_m: 0.9955 - val_loss: 0.2697 - val_categorical_accuracy: 0.9397 - val_f1_m: 0.9417\n",
            "Epoch 19/27\n",
            "261/261 [==============================] - 29s 112ms/step - loss: 0.0202 - categorical_accuracy: 0.9931 - f1_m: 0.9930 - val_loss: 0.3524 - val_categorical_accuracy: 0.9280 - val_f1_m: 0.9299\n",
            "Epoch 20/27\n",
            "261/261 [==============================] - 29s 112ms/step - loss: 0.0214 - categorical_accuracy: 0.9926 - f1_m: 0.9925 - val_loss: 0.4520 - val_categorical_accuracy: 0.9134 - val_f1_m: 0.9157\n",
            "Epoch 21/27\n",
            "261/261 [==============================] - 29s 112ms/step - loss: 0.0199 - categorical_accuracy: 0.9931 - f1_m: 0.9930 - val_loss: 0.2735 - val_categorical_accuracy: 0.9446 - val_f1_m: 0.9450\n",
            "Epoch 22/27\n",
            "261/261 [==============================] - 29s 112ms/step - loss: 0.0124 - categorical_accuracy: 0.9956 - f1_m: 0.9956 - val_loss: 0.3619 - val_categorical_accuracy: 0.9202 - val_f1_m: 0.9223\n",
            "Epoch 23/27\n",
            "261/261 [==============================] - 29s 112ms/step - loss: 0.0099 - categorical_accuracy: 0.9966 - f1_m: 0.9966 - val_loss: 0.3089 - val_categorical_accuracy: 0.9377 - val_f1_m: 0.9394\n",
            "Epoch 24/27\n",
            "261/261 [==============================] - 29s 112ms/step - loss: 0.0100 - categorical_accuracy: 0.9966 - f1_m: 0.9966 - val_loss: 0.3443 - val_categorical_accuracy: 0.9319 - val_f1_m: 0.9341\n",
            "Epoch 25/27\n",
            "261/261 [==============================] - 29s 112ms/step - loss: 0.0105 - categorical_accuracy: 0.9962 - f1_m: 0.9962 - val_loss: 0.3095 - val_categorical_accuracy: 0.9358 - val_f1_m: 0.9375\n",
            "Epoch 26/27\n",
            "261/261 [==============================] - 30s 114ms/step - loss: 0.0198 - categorical_accuracy: 0.9929 - f1_m: 0.9929 - val_loss: 0.3925 - val_categorical_accuracy: 0.9280 - val_f1_m: 0.9304\n",
            "Epoch 27/27\n",
            "261/261 [==============================] - 29s 112ms/step - loss: 0.0106 - categorical_accuracy: 0.9960 - f1_m: 0.9961 - val_loss: 0.3970 - val_categorical_accuracy: 0.9290 - val_f1_m: 0.9309\n"
          ]
        },
        {
          "output_type": "execute_result",
          "data": {
            "text/plain": [
              "<keras.callbacks.History at 0x7faee8f14e50>"
            ]
          },
          "metadata": {},
          "execution_count": 16
        }
      ],
      "source": [
        "model.fit(X_train, y_train, batch_size=32, epochs=27, validation_data=(X_valid, y_valid))"
      ]
    },
    {
      "cell_type": "code",
      "source": [
        "history = model.history.history.copy()\n",
        "history.keys()"
      ],
      "metadata": {
        "colab": {
          "base_uri": "https://localhost:8080/"
        },
        "id": "sQFIDB5SqoC2",
        "outputId": "74a4cc83-2cf0-4ee7-8ee9-f128b1d41dab"
      },
      "execution_count": 17,
      "outputs": [
        {
          "output_type": "execute_result",
          "data": {
            "text/plain": [
              "dict_keys(['loss', 'categorical_accuracy', 'f1_m', 'val_loss', 'val_categorical_accuracy', 'val_f1_m'])"
            ]
          },
          "metadata": {},
          "execution_count": 17
        }
      ]
    },
    {
      "cell_type": "code",
      "source": [
        "history.keys()\n",
        "plt.figure(figsize=(18,6))\n",
        "for i, item in enumerate(['loss', 'categorical_accuracy', 'f1_m']):\n",
        "  plt.subplot(1,3,i+1)\n",
        "  plt.plot(history[item], label='train')\n",
        "  plt.plot(history['val_'+item], label='valid')\n",
        "  plt.legend()\n",
        "  plt.title(item)"
      ],
      "metadata": {
        "colab": {
          "base_uri": "https://localhost:8080/",
          "height": 410
        },
        "id": "6yK-1iT0quFg",
        "outputId": "ab616874-3619-4190-dcbd-0eed7529a542"
      },
      "execution_count": 21,
      "outputs": [
        {
          "output_type": "display_data",
          "data": {
            "text/plain": [
              "<Figure size 1296x432 with 3 Axes>"
            ],
            "image/png": "[encoded data removed]"
          },
          "metadata": {
            "needs_background": "light"
          }
        }
      ]
    },
    {
      "cell_type": "code",
      "source": [
        "model.evaluate(X_test, y_test)"
      ],
      "metadata": {
        "colab": {
          "base_uri": "https://localhost:8080/"
        },
        "id": "1WObbIYM5Ptq",
        "outputId": "ca10fdd3-64f0-448a-e5a5-4c1cb3576b13"
      },
      "execution_count": 18,
      "outputs": [
        {
          "output_type": "stream",
          "name": "stdout",
          "text": [
            "41/41 [==============================] - 2s 45ms/step - loss: 0.2987 - categorical_accuracy: 0.9415 - f1_m: 0.9395\n"
          ]
        },
        {
          "output_type": "execute_result",
          "data": {
            "text/plain": [
              "[0.29868853092193604, 0.9414934515953064, 0.9394657015800476]"
            ]
          },
          "metadata": {},
          "execution_count": 18
        }
      ]
    },
    {
      "cell_type": "code",
      "source": [
        "y_pred_train = model.predict(X_train)\n",
        "y_pred_valid = model.predict(X_valid)\n",
        "y_pred_test = model.predict(X_test)"
      ],
      "metadata": {
        "id": "ZjJObnpV5Y5Z"
      },
      "execution_count": 19,
      "outputs": []
    },
    {
      "cell_type": "code",
      "source": [
        "model_evaluation(y_pred_train, y_pred_valid,y_pred_test)"
      ],
      "metadata": {
        "colab": {
          "base_uri": "https://localhost:8080/",
          "height": 1000
        },
        "id": "24YIGIlDFAig",
        "outputId": "5b047de3-e715-4a88-975a-b1458db5e1e9"
      },
      "execution_count": 20,
      "outputs": [
        {
          "output_type": "stream",
          "name": "stdout",
          "text": [
            "Train\n",
            "              precision    recall  f1-score   support\n",
            "\n",
            "           0       1.00      1.00      1.00      2575\n",
            "           1       0.99      1.00      1.00      3039\n",
            "           2       1.00      0.99      0.99      2735\n",
            "\n",
            "    accuracy                           1.00      8349\n",
            "   macro avg       1.00      1.00      1.00      8349\n",
            "weighted avg       1.00      1.00      1.00      8349\n",
            "\n",
            "\n",
            "***********\n",
            "Valid\n",
            "              precision    recall  f1-score   support\n",
            "\n",
            "           0       0.92      0.91      0.92        92\n",
            "           1       0.85      0.91      0.88       253\n",
            "           2       0.96      0.94      0.95       683\n",
            "\n",
            "    accuracy                           0.93      1028\n",
            "   macro avg       0.91      0.92      0.92      1028\n",
            "weighted avg       0.93      0.93      0.93      1028\n",
            "\n",
            "\n",
            "***********\n",
            "Test\n",
            "              precision    recall  f1-score   support\n",
            "\n",
            "           0       0.99      0.98      0.99       118\n",
            "           1       0.88      0.90      0.89       320\n",
            "           2       0.96      0.95      0.96       861\n",
            "\n",
            "    accuracy                           0.94      1299\n",
            "   macro avg       0.94      0.94      0.94      1299\n",
            "weighted avg       0.94      0.94      0.94      1299\n",
            "\n",
            "col_0    0    1    2\n",
            "row_0               \n",
            "0      116    1    1\n",
            "1        0  287   33\n",
            "2        1   40  820\n",
            "\n",
            "\n",
            "col_0    0    1    2  total\n",
            "row_0                      \n",
            "0      116    1    1    118\n",
            "1        0  287   33    320\n",
            "2        1   40  820    861\n",
            "total  117  328  854   1299\n"
          ]
        },
        {
          "output_type": "display_data",
          "data": {
            "text/plain": [
              "<Figure size 432x288 with 2 Axes>"
            ],
            "image/png": "[encoded data removed]"
          },
          "metadata": {
            "needs_background": "light"
          }
        }
      ]
    },
    {
      "cell_type": "code",
      "source": [
        "confusion = pd.crosstab(y_test.argmax(axis=1), y_pred_test.argmax(axis=1)).reindex(columns=range(3)).fillna(0)\n",
        "confusion\n"
      ],
      "metadata": {
        "colab": {
          "base_uri": "https://localhost:8080/",
          "height": 175
        },
        "id": "-U5NMAAb6Fb2",
        "outputId": "7f6bdf52-e6ff-4886-ebdc-229116fa673f"
      },
      "execution_count": 22,
      "outputs": [
        {
          "output_type": "execute_result",
          "data": {
            "text/plain": [
              "col_0    0    1    2\n",
              "row_0               \n",
              "0      116    1    1\n",
              "1        0  287   33\n",
              "2        1   40  820"
            ],
            "text/html": [
              "\n",
              "  <div id=\"df-fbf40814-9f2f-4369-83e6-6ab44ed0d238\">\n",
              "    <div class=\"colab-df-container\">\n",
              "      <div>\n",
              "<style scoped>\n",
              "    .dataframe tbody tr th:only-of-type {\n",
              "        vertical-align: middle;\n",
              "    }\n",
              "\n",
              "    .dataframe tbody tr th {\n",
              "        vertical-align: top;\n",
              "    }\n",
              "\n",
              "    .dataframe thead th {\n",
              "        text-align: right;\n",
              "    }\n",
              "</style>\n",
              "<table border=\"1\" class=\"dataframe\">\n",
              "  <thead>\n",
              "    <tr style=\"text-align: right;\">\n",
              "      <th>col_0</th>\n",
              "      <th>0</th>\n",
              "      <th>1</th>\n",
              "      <th>2</th>\n",
              "    </tr>\n",
              "    <tr>\n",
              "      <th>row_0</th>\n",
              "      <th></th>\n",
              "      <th></th>\n",
              "      <th></th>\n",
              "    </tr>\n",
              "  </thead>\n",
              "  <tbody>\n",
              "    <tr>\n",
              "      <th>0</th>\n",
              "      <td>116</td>\n",
              "      <td>1</td>\n",
              "      <td>1</td>\n",
              "    </tr>\n",
              "    <tr>\n",
              "      <th>1</th>\n",
              "      <td>0</td>\n",
              "      <td>287</td>\n",
              "      <td>33</td>\n",
              "    </tr>\n",
              "    <tr>\n",
              "      <th>2</th>\n",
              "      <td>1</td>\n",
              "      <td>40</td>\n",
              "      <td>820</td>\n",
              "    </tr>\n",
              "  </tbody>\n",
              "</table>\n",
              "</div>\n",
              "      <button class=\"colab-df-convert\" onclick=\"convertToInteractive('df-fbf40814-9f2f-4369-83e6-6ab44ed0d238')\"\n",
              "              title=\"Convert this dataframe to an interactive table.\"\n",
              "              style=\"display:none;\">\n",
              "        \n",
              "  <svg xmlns=\"http://www.w3.org/2000/svg\" height=\"24px\"viewBox=\"0 0 24 24\"\n",
              "       width=\"24px\">\n",
              "    <path d=\"M0 0h24v24H0V0z\" fill=\"none\"/>\n",
              "    <path d=\"M18.56 5.44l.94 2.06.94-2.06 2.06-.94-2.06-.94-.94-2.06-.94 2.06-2.06.94zm-11 1L8.5 8.5l.94-2.06 2.06-.94-2.06-.94L8.5 2.5l-.94 2.06-2.06.94zm10 10l.94 2.06.94-2.06 2.06-.94-2.06-.94-.94-2.06-.94 2.06-2.06.94z\"/><path d=\"M17.41 7.96l-1.37-1.37c-.4-.4-.92-.59-1.43-.59-.52 0-1.04.2-1.43.59L10.3 9.45l-7.72 7.72c-.78.78-.78 2.05 0 2.83L4 21.41c.39.39.9.59 1.41.59.51 0 1.02-.2 1.41-.59l7.78-7.78 2.81-2.81c.8-.78.8-2.07 0-2.86zM5.41 20L4 18.59l7.72-7.72 1.47 1.35L5.41 20z\"/>\n",
              "  </svg>\n",
              "      </button>\n",
              "      \n",
              "  <style>\n",
              "    .colab-df-container {\n",
              "      display:flex;\n",
              "      flex-wrap:wrap;\n",
              "      gap: 12px;\n",
              "    }\n",
              "\n",
              "    .colab-df-convert {\n",
              "      background-color: #E8F0FE;\n",
              "      border: none;\n",
              "      border-radius: 50%;\n",
              "      cursor: pointer;\n",
              "      display: none;\n",
              "      fill: #1967D2;\n",
              "      height: 32px;\n",
              "      padding: 0 0 0 0;\n",
              "      width: 32px;\n",
              "    }\n",
              "\n",
              "    .colab-df-convert:hover {\n",
              "      background-color: #E2EBFA;\n",
              "      box-shadow: 0px 1px 2px rgba(60, 64, 67, 0.3), 0px 1px 3px 1px rgba(60, 64, 67, 0.15);\n",
              "      fill: #174EA6;\n",
              "    }\n",
              "\n",
              "    [theme=dark] .colab-df-convert {\n",
              "      background-color: #3B4455;\n",
              "      fill: #D2E3FC;\n",
              "    }\n",
              "\n",
              "    [theme=dark] .colab-df-convert:hover {\n",
              "      background-color: #434B5C;\n",
              "      box-shadow: 0px 1px 3px 1px rgba(0, 0, 0, 0.15);\n",
              "      filter: drop-shadow(0px 1px 2px rgba(0, 0, 0, 0.3));\n",
              "      fill: #FFFFFF;\n",
              "    }\n",
              "  </style>\n",
              "\n",
              "      <script>\n",
              "        const buttonEl =\n",
              "          document.querySelector('#df-fbf40814-9f2f-4369-83e6-6ab44ed0d238 button.colab-df-convert');\n",
              "        buttonEl.style.display =\n",
              "          google.colab.kernel.accessAllowed ? 'block' : 'none';\n",
              "\n",
              "        async function convertToInteractive(key) {\n",
              "          const element = document.querySelector('#df-fbf40814-9f2f-4369-83e6-6ab44ed0d238');\n",
              "          const dataTable =\n",
              "            await google.colab.kernel.invokeFunction('convertToInteractive',\n",
              "                                                     [key], {});\n",
              "          if (!dataTable) return;\n",
              "\n",
              "          const docLinkHtml = 'Like what you see? Visit the ' +\n",
              "            '<a target=\"_blank\" href=https://colab.research.google.com/notebooks/data_table.ipynb>data table notebook</a>'\n",
              "            + ' to learn more about interactive tables.';\n",
              "          element.innerHTML = '';\n",
              "          dataTable['output_type'] = 'display_data';\n",
              "          await google.colab.output.renderOutput(dataTable, element);\n",
              "          const docLink = document.createElement('div');\n",
              "          docLink.innerHTML = docLinkHtml;\n",
              "          element.appendChild(docLink);\n",
              "        }\n",
              "      </script>\n",
              "    </div>\n",
              "  </div>\n",
              "  "
            ]
          },
          "metadata": {},
          "execution_count": 22
        }
      ]
    },
    {
      "cell_type": "code",
      "source": [
        "confusion['total'] = confusion.sum(1)\n",
        "tot_row = confusion.sum(0)\n",
        "tot_row.name = 'total'\n",
        "confusion = confusion.append(tot_row)\n",
        "confusion"
      ],
      "metadata": {
        "colab": {
          "base_uri": "https://localhost:8080/",
          "height": 206
        },
        "id": "_0VatGT56Q0h",
        "outputId": "41005c6b-e28b-4199-9caa-fa608149ff34"
      },
      "execution_count": 23,
      "outputs": [
        {
          "output_type": "execute_result",
          "data": {
            "text/plain": [
              "col_0    0    1    2  total\n",
              "row_0                      \n",
              "0      116    1    1    118\n",
              "1        0  287   33    320\n",
              "2        1   40  820    861\n",
              "total  117  328  854   1299"
            ],
            "text/html": [
              "\n",
              "  <div id=\"df-c13c55d3-72e5-444b-baac-c48847a81798\">\n",
              "    <div class=\"colab-df-container\">\n",
              "      <div>\n",
              "<style scoped>\n",
              "    .dataframe tbody tr th:only-of-type {\n",
              "        vertical-align: middle;\n",
              "    }\n",
              "\n",
              "    .dataframe tbody tr th {\n",
              "        vertical-align: top;\n",
              "    }\n",
              "\n",
              "    .dataframe thead th {\n",
              "        text-align: right;\n",
              "    }\n",
              "</style>\n",
              "<table border=\"1\" class=\"dataframe\">\n",
              "  <thead>\n",
              "    <tr style=\"text-align: right;\">\n",
              "      <th>col_0</th>\n",
              "      <th>0</th>\n",
              "      <th>1</th>\n",
              "      <th>2</th>\n",
              "      <th>total</th>\n",
              "    </tr>\n",
              "    <tr>\n",
              "      <th>row_0</th>\n",
              "      <th></th>\n",
              "      <th></th>\n",
              "      <th></th>\n",
              "      <th></th>\n",
              "    </tr>\n",
              "  </thead>\n",
              "  <tbody>\n",
              "    <tr>\n",
              "      <th>0</th>\n",
              "      <td>116</td>\n",
              "      <td>1</td>\n",
              "      <td>1</td>\n",
              "      <td>118</td>\n",
              "    </tr>\n",
              "    <tr>\n",
              "      <th>1</th>\n",
              "      <td>0</td>\n",
              "      <td>287</td>\n",
              "      <td>33</td>\n",
              "      <td>320</td>\n",
              "    </tr>\n",
              "    <tr>\n",
              "      <th>2</th>\n",
              "      <td>1</td>\n",
              "      <td>40</td>\n",
              "      <td>820</td>\n",
              "      <td>861</td>\n",
              "    </tr>\n",
              "    <tr>\n",
              "      <th>total</th>\n",
              "      <td>117</td>\n",
              "      <td>328</td>\n",
              "      <td>854</td>\n",
              "      <td>1299</td>\n",
              "    </tr>\n",
              "  </tbody>\n",
              "</table>\n",
              "</div>\n",
              "      <button class=\"colab-df-convert\" onclick=\"convertToInteractive('df-c13c55d3-72e5-444b-baac-c48847a81798')\"\n",
              "              title=\"Convert this dataframe to an interactive table.\"\n",
              "              style=\"display:none;\">\n",
              "        \n",
              "  <svg xmlns=\"http://www.w3.org/2000/svg\" height=\"24px\"viewBox=\"0 0 24 24\"\n",
              "       width=\"24px\">\n",
              "    <path d=\"M0 0h24v24H0V0z\" fill=\"none\"/>\n",
              "    <path d=\"M18.56 5.44l.94 2.06.94-2.06 2.06-.94-2.06-.94-.94-2.06-.94 2.06-2.06.94zm-11 1L8.5 8.5l.94-2.06 2.06-.94-2.06-.94L8.5 2.5l-.94 2.06-2.06.94zm10 10l.94 2.06.94-2.06 2.06-.94-2.06-.94-.94-2.06-.94 2.06-2.06.94z\"/><path d=\"M17.41 7.96l-1.37-1.37c-.4-.4-.92-.59-1.43-.59-.52 0-1.04.2-1.43.59L10.3 9.45l-7.72 7.72c-.78.78-.78 2.05 0 2.83L4 21.41c.39.39.9.59 1.41.59.51 0 1.02-.2 1.41-.59l7.78-7.78 2.81-2.81c.8-.78.8-2.07 0-2.86zM5.41 20L4 18.59l7.72-7.72 1.47 1.35L5.41 20z\"/>\n",
              "  </svg>\n",
              "      </button>\n",
              "      \n",
              "  <style>\n",
              "    .colab-df-container {\n",
              "      display:flex;\n",
              "      flex-wrap:wrap;\n",
              "      gap: 12px;\n",
              "    }\n",
              "\n",
              "    .colab-df-convert {\n",
              "      background-color: #E8F0FE;\n",
              "      border: none;\n",
              "      border-radius: 50%;\n",
              "      cursor: pointer;\n",
              "      display: none;\n",
              "      fill: #1967D2;\n",
              "      height: 32px;\n",
              "      padding: 0 0 0 0;\n",
              "      width: 32px;\n",
              "    }\n",
              "\n",
              "    .colab-df-convert:hover {\n",
              "      background-color: #E2EBFA;\n",
              "      box-shadow: 0px 1px 2px rgba(60, 64, 67, 0.3), 0px 1px 3px 1px rgba(60, 64, 67, 0.15);\n",
              "      fill: #174EA6;\n",
              "    }\n",
              "\n",
              "    [theme=dark] .colab-df-convert {\n",
              "      background-color: #3B4455;\n",
              "      fill: #D2E3FC;\n",
              "    }\n",
              "\n",
              "    [theme=dark] .colab-df-convert:hover {\n",
              "      background-color: #434B5C;\n",
              "      box-shadow: 0px 1px 3px 1px rgba(0, 0, 0, 0.15);\n",
              "      filter: drop-shadow(0px 1px 2px rgba(0, 0, 0, 0.3));\n",
              "      fill: #FFFFFF;\n",
              "    }\n",
              "  </style>\n",
              "\n",
              "      <script>\n",
              "        const buttonEl =\n",
              "          document.querySelector('#df-c13c55d3-72e5-444b-baac-c48847a81798 button.colab-df-convert');\n",
              "        buttonEl.style.display =\n",
              "          google.colab.kernel.accessAllowed ? 'block' : 'none';\n",
              "\n",
              "        async function convertToInteractive(key) {\n",
              "          const element = document.querySelector('#df-c13c55d3-72e5-444b-baac-c48847a81798');\n",
              "          const dataTable =\n",
              "            await google.colab.kernel.invokeFunction('convertToInteractive',\n",
              "                                                     [key], {});\n",
              "          if (!dataTable) return;\n",
              "\n",
              "          const docLinkHtml = 'Like what you see? Visit the ' +\n",
              "            '<a target=\"_blank\" href=https://colab.research.google.com/notebooks/data_table.ipynb>data table notebook</a>'\n",
              "            + ' to learn more about interactive tables.';\n",
              "          element.innerHTML = '';\n",
              "          dataTable['output_type'] = 'display_data';\n",
              "          await google.colab.output.renderOutput(dataTable, element);\n",
              "          const docLink = document.createElement('div');\n",
              "          docLink.innerHTML = docLinkHtml;\n",
              "          element.appendChild(docLink);\n",
              "        }\n",
              "      </script>\n",
              "    </div>\n",
              "  </div>\n",
              "  "
            ]
          },
          "metadata": {},
          "execution_count": 23
        }
      ]
    },
    {
      "cell_type": "markdown",
      "source": [
        "## Taking another shot on tarining to enhance it"
      ],
      "metadata": {
        "id": "vkqbLQPYsM21"
      }
    },
    {
      "cell_type": "code",
      "source": [
        "from fastai import layers\n",
        "def build_model2(hp):  \n",
        "  model = keras.models.Sequential([\n",
        "    keras.layers.Conv2D(\n",
        "        filters=hp.Int('filters-1', 8, 32, step=4),\n",
        "        kernel_size=6,\n",
        "        activation='relu',\n",
        "        input_shape=X_train.shape[1:]\n",
        "    ),\n",
        "    (Dropout(0.3)),\n",
        "    keras.layers.Conv2D(\n",
        "        filters=hp.Int('filters-2', 8, 64, step=4),\n",
        "        kernel_size=3,\n",
        "        activation='relu'\n",
        "    ),\n",
        "     keras.layers.Conv2D(\n",
        "        filters=hp.Int('filters-3', 8, 128, step=4),\n",
        "        kernel_size=3,\n",
        "        activation='relu'\n",
        "    ),\n",
        "    BatchNormalization(),\n",
        "    keras.layers.MaxPool2D(pool_size=(3,3)),\n",
        "    keras.layers.Flatten(),\n",
        "    keras.layers.Dense(\n",
        "        units=16,\n",
        "        activation='relu'\n",
        "    ),\n",
        "    keras.layers.Dense(3, activation='softmax')\n",
        "  ])\n",
        "  \n",
        "  model.compile(optimizer=keras.optimizers.Adam(learning_rate=hp.Choice('learning_rate', values=[1e-3, 1e-4, 1e-5, 1e-6])),\n",
        "              loss='categorical_crossentropy',\n",
        "              metrics=[keras.metrics.CategoricalAccuracy(),f1_m])\n",
        "  \n",
        "  return model"
      ],
      "metadata": {
        "id": "IEMkpp-asDsG"
      },
      "execution_count": 24,
      "outputs": []
    },
    {
      "cell_type": "code",
      "source": [
        "es = tf.keras.callbacks.EarlyStopping(patience=5, monitor='val_categorical_accuracy')"
      ],
      "metadata": {
        "id": "ZgUTSeYDupgU"
      },
      "execution_count": 27,
      "outputs": []
    },
    {
      "cell_type": "code",
      "source": [
        "#rm -rf untitled_project"
      ],
      "metadata": {
        "id": "PF5ejUkcx4JB"
      },
      "execution_count": 31,
      "outputs": []
    },
    {
      "cell_type": "code",
      "source": [
        "kt.Hyperband"
      ],
      "metadata": {
        "id": "oCCwsLkt2j1D",
        "colab": {
          "base_uri": "https://localhost:8080/"
        },
        "outputId": "d4b3f4b7-3a38-4b03-f1cb-0741ea8557c5"
      },
      "execution_count": 28,
      "outputs": [
        {
          "output_type": "execute_result",
          "data": {
            "text/plain": [
              "keras_tuner.tuners.hyperband.Hyperband"
            ]
          },
          "metadata": {},
          "execution_count": 28
        }
      ]
    },
    {
      "cell_type": "code",
      "source": [
        "tuner = kt.Hyperband(build_model2, objective='val_categorical_accuracy')\n",
        "tuner.search_space_summary()\n",
        "# 5x5x4"
      ],
      "metadata": {
        "colab": {
          "base_uri": "https://localhost:8080/"
        },
        "id": "13FTDP812Z7C",
        "outputId": "b1ef1701-2bf0-42c2-da78-4f5ee36bedbc"
      },
      "execution_count": 34,
      "outputs": [
        {
          "output_type": "stream",
          "name": "stdout",
          "text": [
            "Search space summary\n",
            "Default search space size: 4\n",
            "filters-1 (Int)\n",
            "{'default': None, 'conditions': [], 'min_value': 8, 'max_value': 32, 'step': 4, 'sampling': None}\n",
            "filters-2 (Int)\n",
            "{'default': None, 'conditions': [], 'min_value': 8, 'max_value': 64, 'step': 4, 'sampling': None}\n",
            "filters-3 (Int)\n",
            "{'default': None, 'conditions': [], 'min_value': 8, 'max_value': 128, 'step': 4, 'sampling': None}\n",
            "learning_rate (Choice)\n",
            "{'default': 0.001, 'conditions': [], 'values': [0.001, 0.0001, 1e-05, 1e-06], 'ordered': True}\n"
          ]
        }
      ]
    },
    {
      "cell_type": "code",
      "source": [
        "tuner = kt.RandomSearch(build_model2, objective='val_categorical_accuracy', max_trials=7)\n",
        "\n",
        "tuner.search(X_train, y_train, batch_size=32, epochs=27, validation_data=(X_valid, y_valid), callbacks=[es])"
      ],
      "metadata": {
        "colab": {
          "base_uri": "https://localhost:8080/"
        },
        "id": "b3RL9uuhuEcy",
        "outputId": "d0f2f6d0-8130-48ad-b352-b7775d4cff47"
      },
      "execution_count": 35,
      "outputs": [
        {
          "output_type": "stream",
          "name": "stdout",
          "text": [
            "Trial 7 Complete [00h 14m 44s]\n",
            "val_categorical_accuracy: 0.8978599309921265\n",
            "\n",
            "Best val_categorical_accuracy So Far: 0.9533073902130127\n",
            "Total elapsed time: 00h 48m 26s\n",
            "INFO:tensorflow:Oracle triggered exit\n"
          ]
        }
      ]
    },
    {
      "cell_type": "code",
      "source": [
        "tuner2 = kt.RandomSearch(build_model2, objective='val_categorical_accuracy', max_trials=7, executions_per_trial=7)\n"
      ],
      "metadata": {
        "colab": {
          "base_uri": "https://localhost:8080/"
        },
        "id": "EWsKE6ltgYGd",
        "outputId": "bcae93ad-542d-4374-c5cd-64f5ff566cc5"
      },
      "execution_count": 36,
      "outputs": [
        {
          "output_type": "stream",
          "name": "stdout",
          "text": [
            "INFO:tensorflow:Reloading Oracle from existing project ./untitled_project/oracle.json\n",
            "INFO:tensorflow:Reloading Tuner from ./untitled_project/tuner0.json\n"
          ]
        }
      ]
    },
    {
      "cell_type": "code",
      "source": [
        "tuner.search_space_summary()"
      ],
      "metadata": {
        "colab": {
          "base_uri": "https://localhost:8080/"
        },
        "id": "rQW3yek-wO_-",
        "outputId": "cc4aedb9-45e9-4575-978f-0770e80629eb"
      },
      "execution_count": 37,
      "outputs": [
        {
          "output_type": "stream",
          "name": "stdout",
          "text": [
            "Search space summary\n",
            "Default search space size: 4\n",
            "filters-1 (Int)\n",
            "{'default': None, 'conditions': [], 'min_value': 8, 'max_value': 32, 'step': 4, 'sampling': None}\n",
            "filters-2 (Int)\n",
            "{'default': None, 'conditions': [], 'min_value': 8, 'max_value': 64, 'step': 4, 'sampling': None}\n",
            "filters-3 (Int)\n",
            "{'default': None, 'conditions': [], 'min_value': 8, 'max_value': 128, 'step': 4, 'sampling': None}\n",
            "learning_rate (Choice)\n",
            "{'default': 0.001, 'conditions': [], 'values': [0.001, 0.0001, 1e-05, 1e-06], 'ordered': True}\n"
          ]
        }
      ]
    },
    {
      "cell_type": "code",
      "source": [
        "tuner.get_best_hyperparameters()[0].values"
      ],
      "metadata": {
        "colab": {
          "base_uri": "https://localhost:8080/"
        },
        "id": "sY5fzKqMj77s",
        "outputId": "af374daf-1d8c-4a80-96a9-829b19a0aad2"
      },
      "execution_count": 40,
      "outputs": [
        {
          "output_type": "execute_result",
          "data": {
            "text/plain": [
              "{'filters-1': 28, 'filters-2': 64, 'filters-3': 64, 'learning_rate': 0.0001}"
            ]
          },
          "metadata": {},
          "execution_count": 40
        }
      ]
    },
    {
      "cell_type": "code",
      "source": [
        "tuner.get_best_models()[0].summary()"
      ],
      "metadata": {
        "colab": {
          "base_uri": "https://localhost:8080/"
        },
        "id": "8ZB1GlVdkiC3",
        "outputId": "a27f63cd-4455-4e13-8e23-512d89f72c83"
      },
      "execution_count": 44,
      "outputs": [
        {
          "output_type": "stream",
          "name": "stdout",
          "text": [
            "Model: \"sequential\"\n",
            "_________________________________________________________________\n",
            " Layer (type)                Output Shape              Param #   \n",
            "=================================================================\n",
            " conv2d (Conv2D)             (None, 135, 135, 28)      1036      \n",
            "                                                                 \n",
            " dropout (Dropout)           (None, 135, 135, 28)      0         \n",
            "                                                                 \n",
            " conv2d_1 (Conv2D)           (None, 133, 133, 64)      16192     \n",
            "                                                                 \n",
            " conv2d_2 (Conv2D)           (None, 131, 131, 64)      36928     \n",
            "                                                                 \n",
            " batch_normalization (BatchN  (None, 131, 131, 64)     256       \n",
            " ormalization)                                                   \n",
            "                                                                 \n",
            " max_pooling2d (MaxPooling2D  (None, 43, 43, 64)       0         \n",
            " )                                                               \n",
            "                                                                 \n",
            " flatten (Flatten)           (None, 118336)            0         \n",
            "                                                                 \n",
            " dense (Dense)               (None, 16)                1893392   \n",
            "                                                                 \n",
            " dense_1 (Dense)             (None, 3)                 51        \n",
            "                                                                 \n",
            "=================================================================\n",
            "Total params: 1,947,855\n",
            "Trainable params: 1,947,727\n",
            "Non-trainable params: 128\n",
            "_________________________________________________________________\n",
            "WARNING:tensorflow:Detecting that an object or model or tf.train.Checkpoint is being deleted with unrestored values. See the following logs for the specific values in question. To silence these warnings, use `status.expect_partial()`. See https://www.tensorflow.org/api_docs/python/tf/train/Checkpoint#restorefor details about the status object returned by the restore function.\n",
            "WARNING:tensorflow:Value in checkpoint could not be found in the restored object: (root).optimizer.iter\n",
            "WARNING:tensorflow:Value in checkpoint could not be found in the restored object: (root).optimizer.beta_1\n",
            "WARNING:tensorflow:Value in checkpoint could not be found in the restored object: (root).optimizer.beta_2\n",
            "WARNING:tensorflow:Value in checkpoint could not be found in the restored object: (root).optimizer.decay\n",
            "WARNING:tensorflow:Value in checkpoint could not be found in the restored object: (root).optimizer.learning_rate\n"
          ]
        }
      ]
    },
    {
      "cell_type": "code",
      "source": [
        "tuner.results_summary()"
      ],
      "metadata": {
        "colab": {
          "base_uri": "https://localhost:8080/"
        },
        "id": "bykY4NAAkHoU",
        "outputId": "d8abda9a-8eb0-405f-aab8-f63f0cbc7b69"
      },
      "execution_count": 42,
      "outputs": [
        {
          "output_type": "stream",
          "name": "stdout",
          "text": [
            "Results summary\n",
            "Results in ./untitled_project\n",
            "Showing 10 best trials\n",
            "<keras_tuner.engine.objective.Objective object at 0x7faee85885d0>\n",
            "Trial summary\n",
            "Hyperparameters:\n",
            "filters-1: 28\n",
            "filters-2: 64\n",
            "filters-3: 64\n",
            "learning_rate: 0.0001\n",
            "Score: 0.9533073902130127\n",
            "Trial summary\n",
            "Hyperparameters:\n",
            "filters-1: 12\n",
            "filters-2: 60\n",
            "filters-3: 28\n",
            "learning_rate: 0.001\n",
            "Score: 0.929961085319519\n",
            "Trial summary\n",
            "Hyperparameters:\n",
            "filters-1: 24\n",
            "filters-2: 12\n",
            "filters-3: 100\n",
            "learning_rate: 0.001\n",
            "Score: 0.9134241342544556\n",
            "Trial summary\n",
            "Hyperparameters:\n",
            "filters-1: 28\n",
            "filters-2: 40\n",
            "filters-3: 36\n",
            "learning_rate: 1e-05\n",
            "Score: 0.8978599309921265\n",
            "Trial summary\n",
            "Hyperparameters:\n",
            "filters-1: 32\n",
            "filters-2: 32\n",
            "filters-3: 56\n",
            "learning_rate: 1e-06\n",
            "Score: 0.8190661668777466\n",
            "Trial summary\n",
            "Hyperparameters:\n",
            "filters-1: 16\n",
            "filters-2: 12\n",
            "filters-3: 60\n",
            "learning_rate: 1e-05\n",
            "Score: 0.7402724027633667\n",
            "Trial summary\n",
            "Hyperparameters:\n",
            "filters-1: 20\n",
            "filters-2: 20\n",
            "filters-3: 72\n",
            "learning_rate: 1e-06\n",
            "Score: 0.7324903011322021\n"
          ]
        }
      ]
    },
    {
      "cell_type": "code",
      "source": [
        "tuner.get_best_models()[0].evaluate(X_test, y_test)"
      ],
      "metadata": {
        "colab": {
          "base_uri": "https://localhost:8080/"
        },
        "id": "gCbbYNialGl-",
        "outputId": "70a6978d-4f32-42d9-aa17-920855b91262"
      },
      "execution_count": 45,
      "outputs": [
        {
          "output_type": "stream",
          "name": "stdout",
          "text": [
            "41/41 [==============================] - 3s 67ms/step - loss: 0.1971 - categorical_accuracy: 0.9384 - f1_m: 0.9376\n"
          ]
        },
        {
          "output_type": "execute_result",
          "data": {
            "text/plain": [
              "[0.1970674991607666, 0.9384141564369202, 0.9375821352005005]"
            ]
          },
          "metadata": {},
          "execution_count": 45
        }
      ]
    },
    {
      "cell_type": "code",
      "source": [
        "y_pred_train2 = tuner.get_best_models()[0].predict(X_train)\n",
        "y_pred_valid2 = tuner.get_best_models()[0].predict(X_valid)\n",
        "y_pred_test2 = tuner.get_best_models()[0].predict(X_test)"
      ],
      "metadata": {
        "colab": {
          "base_uri": "https://localhost:8080/"
        },
        "id": "lBTLvFHIkV3E",
        "outputId": "34820c50-9b4b-4c7d-b4ea-e097f6265c59"
      },
      "execution_count": 46,
      "outputs": [
        {
          "output_type": "stream",
          "name": "stdout",
          "text": [
            "WARNING:tensorflow:Detecting that an object or model or tf.train.Checkpoint is being deleted with unrestored values. See the following logs for the specific values in question. To silence these warnings, use `status.expect_partial()`. See https://www.tensorflow.org/api_docs/python/tf/train/Checkpoint#restorefor details about the status object returned by the restore function.\n",
            "WARNING:tensorflow:Value in checkpoint could not be found in the restored object: (root).optimizer.iter\n",
            "WARNING:tensorflow:Value in checkpoint could not be found in the restored object: (root).optimizer.beta_1\n",
            "WARNING:tensorflow:Value in checkpoint could not be found in the restored object: (root).optimizer.beta_2\n",
            "WARNING:tensorflow:Value in checkpoint could not be found in the restored object: (root).optimizer.decay\n",
            "WARNING:tensorflow:Value in checkpoint could not be found in the restored object: (root).optimizer.learning_rate\n",
            "WARNING:tensorflow:Detecting that an object or model or tf.train.Checkpoint is being deleted with unrestored values. See the following logs for the specific values in question. To silence these warnings, use `status.expect_partial()`. See https://www.tensorflow.org/api_docs/python/tf/train/Checkpoint#restorefor details about the status object returned by the restore function.\n",
            "WARNING:tensorflow:Value in checkpoint could not be found in the restored object: (root).optimizer.iter\n",
            "WARNING:tensorflow:Value in checkpoint could not be found in the restored object: (root).optimizer.beta_1\n",
            "WARNING:tensorflow:Value in checkpoint could not be found in the restored object: (root).optimizer.beta_2\n",
            "WARNING:tensorflow:Value in checkpoint could not be found in the restored object: (root).optimizer.decay\n",
            "WARNING:tensorflow:Value in checkpoint could not be found in the restored object: (root).optimizer.learning_rate\n",
            "WARNING:tensorflow:Detecting that an object or model or tf.train.Checkpoint is being deleted with unrestored values. See the following logs for the specific values in question. To silence these warnings, use `status.expect_partial()`. See https://www.tensorflow.org/api_docs/python/tf/train/Checkpoint#restorefor details about the status object returned by the restore function.\n",
            "WARNING:tensorflow:Value in checkpoint could not be found in the restored object: (root).optimizer.iter\n",
            "WARNING:tensorflow:Value in checkpoint could not be found in the restored object: (root).optimizer.beta_1\n",
            "WARNING:tensorflow:Value in checkpoint could not be found in the restored object: (root).optimizer.beta_2\n",
            "WARNING:tensorflow:Value in checkpoint could not be found in the restored object: (root).optimizer.decay\n",
            "WARNING:tensorflow:Value in checkpoint could not be found in the restored object: (root).optimizer.learning_rate\n"
          ]
        }
      ]
    },
    {
      "cell_type": "code",
      "source": [
        "model_evaluation(y_pred_train2, y_pred_valid2,y_pred_test2)"
      ],
      "metadata": {
        "colab": {
          "base_uri": "https://localhost:8080/",
          "height": 1000
        },
        "id": "tgd8LU1GlYQa",
        "outputId": "6694d310-bb34-4be4-ba2c-eb9b2a586b38"
      },
      "execution_count": 47,
      "outputs": [
        {
          "output_type": "stream",
          "name": "stdout",
          "text": [
            "Train\n",
            "              precision    recall  f1-score   support\n",
            "\n",
            "           0       1.00      0.97      0.99      2575\n",
            "           1       0.98      0.98      0.98      3039\n",
            "           2       0.97      0.99      0.98      2735\n",
            "\n",
            "    accuracy                           0.98      8349\n",
            "   macro avg       0.98      0.98      0.98      8349\n",
            "weighted avg       0.98      0.98      0.98      8349\n",
            "\n",
            "\n",
            "***********\n",
            "Valid\n",
            "              precision    recall  f1-score   support\n",
            "\n",
            "           0       0.97      0.96      0.96        92\n",
            "           1       0.89      0.93      0.91       253\n",
            "           2       0.98      0.96      0.97       683\n",
            "\n",
            "    accuracy                           0.95      1028\n",
            "   macro avg       0.94      0.95      0.95      1028\n",
            "weighted avg       0.95      0.95      0.95      1028\n",
            "\n",
            "\n",
            "***********\n",
            "Test\n",
            "              precision    recall  f1-score   support\n",
            "\n",
            "           0       0.97      0.97      0.97       118\n",
            "           1       0.87      0.90      0.89       320\n",
            "           2       0.96      0.95      0.95       861\n",
            "\n",
            "    accuracy                           0.94      1299\n",
            "   macro avg       0.93      0.94      0.94      1299\n",
            "weighted avg       0.94      0.94      0.94      1299\n",
            "\n",
            "col_0    0    1    2\n",
            "row_0               \n",
            "0      115    1    2\n",
            "1        0  289   31\n",
            "2        3   43  815\n",
            "WARNING:tensorflow:Detecting that an object or model or tf.train.Checkpoint is being deleted with unrestored values. See the following logs for the specific values in question. To silence these warnings, use `status.expect_partial()`. See https://www.tensorflow.org/api_docs/python/tf/train/Checkpoint#restorefor details about the status object returned by the restore function.\n",
            "WARNING:tensorflow:Value in checkpoint could not be found in the restored object: (root).optimizer.iter\n",
            "WARNING:tensorflow:Value in checkpoint could not be found in the restored object: (root).optimizer.beta_1\n",
            "WARNING:tensorflow:Value in checkpoint could not be found in the restored object: (root).optimizer.beta_2\n",
            "WARNING:tensorflow:Value in checkpoint could not be found in the restored object: (root).optimizer.decay\n",
            "WARNING:tensorflow:Value in checkpoint could not be found in the restored object: (root).optimizer.learning_rate\n",
            "\n",
            "\n",
            "col_0    0    1    2  total\n",
            "row_0                      \n",
            "0      115    1    2    118\n",
            "1        0  289   31    320\n",
            "2        3   43  815    861\n",
            "total  118  333  848   1299\n"
          ]
        },
        {
          "output_type": "display_data",
          "data": {
            "text/plain": [
              "<Figure size 432x288 with 2 Axes>"
            ],
            "image/png": "[encoded data removed]"
          },
          "metadata": {
            "needs_background": "light"
          }
        }
      ]
    },
    {
      "cell_type": "markdown",
      "metadata": {
        "id": "24B-A_45Zklj"
      },
      "source": [
        "------"
      ]
    },
    {
      "cell_type": "markdown",
      "source": [
        "# Pretrained Models"
      ],
      "metadata": {
        "id": "X2CJEiQOl1rt"
      }
    },
    {
      "cell_type": "markdown",
      "source": [
        "### Rasnet50"
      ],
      "metadata": {
        "id": "hh5qFoqQwDrc"
      }
    },
    {
      "cell_type": "code",
      "source": [
        "rasnet = tf.keras.applications.ResNet50(\n",
        "    include_top=False,\n",
        "    weights=\"imagenet\",\n",
        "    pooling='max',\n",
        "    input_shape=(X_train.shape[1], X_train.shape[2], 3),\n",
        "\n",
        ")"
      ],
      "metadata": {
        "id": "juzjoI473GU_"
      },
      "execution_count": 73,
      "outputs": []
    },
    {
      "cell_type": "code",
      "source": [
        "input_layer = tf.keras.layers.Input(shape=X_train.shape[1:])\n",
        "x = tf.keras.layers.Conv2D(3, (3,3), padding='same')(input_layer)\n",
        "x = rasnet(x)\n",
        "out = tf.keras.layers.Dense(3, activation='softmax')(x)\n",
        "model = tf.keras.models.Model(inputs=input_layer, outputs=out)"
      ],
      "metadata": {
        "id": "dJF_c9A8mwWl"
      },
      "execution_count": 74,
      "outputs": []
    },
    {
      "cell_type": "code",
      "source": [
        "model.summary()"
      ],
      "metadata": {
        "colab": {
          "base_uri": "https://localhost:8080/"
        },
        "id": "Z-Jivg1am3PQ",
        "outputId": "dd9645fc-2d62-49d5-baa3-a0328501e3f1"
      },
      "execution_count": 75,
      "outputs": [
        {
          "output_type": "stream",
          "name": "stdout",
          "text": [
            "Model: \"model_2\"\n",
            "_________________________________________________________________\n",
            " Layer (type)                Output Shape              Param #   \n",
            "=================================================================\n",
            " input_7 (InputLayer)        [(None, 140, 140, 1)]     0         \n",
            "                                                                 \n",
            " conv2d_5 (Conv2D)           (None, 140, 140, 3)       30        \n",
            "                                                                 \n",
            " resnet50 (Functional)       (None, 2048)              23587712  \n",
            "                                                                 \n",
            " dense_4 (Dense)             (None, 3)                 6147      \n",
            "                                                                 \n",
            "=================================================================\n",
            "Total params: 23,593,889\n",
            "Trainable params: 23,540,769\n",
            "Non-trainable params: 53,120\n",
            "_________________________________________________________________\n"
          ]
        }
      ]
    },
    {
      "cell_type": "code",
      "source": [
        "model.compile(optimizer=keras.optimizers.Adam(lr=0.00001),\n",
        "              loss='categorical_crossentropy',\n",
        "              metrics=[keras.metrics.CategoricalAccuracy(),f1_m])"
      ],
      "metadata": {
        "colab": {
          "base_uri": "https://localhost:8080/"
        },
        "id": "JKf5P3k3m9nD",
        "outputId": "28bc9f0a-8ba9-4be0-98ac-6830ba8f2b15"
      },
      "execution_count": 76,
      "outputs": [
        {
          "output_type": "stream",
          "name": "stderr",
          "text": [
            "/usr/local/lib/python3.7/dist-packages/keras/optimizer_v2/adam.py:105: UserWarning: The `lr` argument is deprecated, use `learning_rate` instead.\n",
            "  super(Adam, self).__init__(name, **kwargs)\n"
          ]
        }
      ]
    },
    {
      "cell_type": "code",
      "source": [
        "es = tf.keras.callbacks.EarlyStopping(patience=5, monitor='val_categorical_accuracy')"
      ],
      "metadata": {
        "id": "jSpqtxhanU26"
      },
      "execution_count": 77,
      "outputs": []
    },
    {
      "cell_type": "code",
      "source": [
        "model.fit(X_train, y_train, batch_size=32, epochs=27, validation_data=(X_valid, y_valid), callbacks=[es])"
      ],
      "metadata": {
        "colab": {
          "base_uri": "https://localhost:8080/"
        },
        "id": "xwN66PnMnbTb",
        "outputId": "cc01d727-175a-435e-a22b-fb762f3d8009"
      },
      "execution_count": 78,
      "outputs": [
        {
          "output_type": "stream",
          "name": "stdout",
          "text": [
            "Epoch 1/27\n",
            "261/261 [==============================] - 104s 364ms/step - loss: 0.7590 - categorical_accuracy: 0.8361 - f1_m: 0.8362 - val_loss: 178.5960 - val_categorical_accuracy: 0.0895 - val_f1_m: 0.0871\n",
            "Epoch 2/27\n",
            "261/261 [==============================] - 94s 358ms/step - loss: 0.0944 - categorical_accuracy: 0.9726 - f1_m: 0.9725 - val_loss: 265.3476 - val_categorical_accuracy: 0.0895 - val_f1_m: 0.0871\n",
            "Epoch 3/27\n",
            "261/261 [==============================] - 94s 358ms/step - loss: 0.0296 - categorical_accuracy: 0.9895 - f1_m: 0.9895 - val_loss: 92.1172 - val_categorical_accuracy: 0.0973 - val_f1_m: 0.0930\n",
            "Epoch 4/27\n",
            "261/261 [==============================] - 94s 359ms/step - loss: 0.0201 - categorical_accuracy: 0.9928 - f1_m: 0.9928 - val_loss: 9.8356 - val_categorical_accuracy: 0.4893 - val_f1_m: 0.4956\n",
            "Epoch 5/27\n",
            "261/261 [==============================] - 93s 358ms/step - loss: 0.0139 - categorical_accuracy: 0.9957 - f1_m: 0.9954 - val_loss: 0.8097 - val_categorical_accuracy: 0.8473 - val_f1_m: 0.8508\n",
            "Epoch 6/27\n",
            "261/261 [==============================] - 94s 358ms/step - loss: 0.0113 - categorical_accuracy: 0.9966 - f1_m: 0.9966 - val_loss: 0.4541 - val_categorical_accuracy: 0.9154 - val_f1_m: 0.9180\n",
            "Epoch 7/27\n",
            "261/261 [==============================] - 94s 358ms/step - loss: 0.0073 - categorical_accuracy: 0.9981 - f1_m: 0.9981 - val_loss: 0.4348 - val_categorical_accuracy: 0.9154 - val_f1_m: 0.9171\n",
            "Epoch 8/27\n",
            "261/261 [==============================] - 93s 358ms/step - loss: 0.0048 - categorical_accuracy: 0.9986 - f1_m: 0.9986 - val_loss: 0.3448 - val_categorical_accuracy: 0.9261 - val_f1_m: 0.9280\n",
            "Epoch 9/27\n",
            "261/261 [==============================] - 95s 366ms/step - loss: 0.0045 - categorical_accuracy: 0.9990 - f1_m: 0.9990 - val_loss: 0.3582 - val_categorical_accuracy: 0.9339 - val_f1_m: 0.9356\n",
            "Epoch 10/27\n",
            "261/261 [==============================] - 95s 366ms/step - loss: 0.0033 - categorical_accuracy: 0.9993 - f1_m: 0.9993 - val_loss: 0.3655 - val_categorical_accuracy: 0.9251 - val_f1_m: 0.9271\n",
            "Epoch 11/27\n",
            "261/261 [==============================] - 93s 358ms/step - loss: 0.0026 - categorical_accuracy: 0.9994 - f1_m: 0.9994 - val_loss: 0.3582 - val_categorical_accuracy: 0.9329 - val_f1_m: 0.9347\n",
            "Epoch 12/27\n",
            "261/261 [==============================] - 93s 358ms/step - loss: 0.0034 - categorical_accuracy: 0.9983 - f1_m: 0.9983 - val_loss: 0.4030 - val_categorical_accuracy: 0.9309 - val_f1_m: 0.9328\n",
            "Epoch 13/27\n",
            "261/261 [==============================] - 93s 358ms/step - loss: 0.0045 - categorical_accuracy: 0.9987 - f1_m: 0.9987 - val_loss: 0.3162 - val_categorical_accuracy: 0.9387 - val_f1_m: 0.9403\n",
            "Epoch 14/27\n",
            "261/261 [==============================] - 95s 366ms/step - loss: 0.0029 - categorical_accuracy: 0.9988 - f1_m: 0.9989 - val_loss: 0.3923 - val_categorical_accuracy: 0.9309 - val_f1_m: 0.9328\n",
            "Epoch 15/27\n",
            "261/261 [==============================] - 93s 358ms/step - loss: 0.0012 - categorical_accuracy: 0.9998 - f1_m: 0.9998 - val_loss: 0.5147 - val_categorical_accuracy: 0.9270 - val_f1_m: 0.9290\n",
            "Epoch 16/27\n",
            "261/261 [==============================] - 93s 358ms/step - loss: 0.0011 - categorical_accuracy: 0.9999 - f1_m: 0.9999 - val_loss: 0.4089 - val_categorical_accuracy: 0.9358 - val_f1_m: 0.9370\n",
            "Epoch 17/27\n",
            "261/261 [==============================] - 93s 358ms/step - loss: 8.3767e-04 - categorical_accuracy: 0.9999 - f1_m: 0.9999 - val_loss: 0.4050 - val_categorical_accuracy: 0.9329 - val_f1_m: 0.9351\n",
            "Epoch 18/27\n",
            "261/261 [==============================] - 93s 358ms/step - loss: 0.0022 - categorical_accuracy: 0.9990 - f1_m: 0.9990 - val_loss: 0.4764 - val_categorical_accuracy: 0.9368 - val_f1_m: 0.9380\n"
          ]
        },
        {
          "output_type": "execute_result",
          "data": {
            "text/plain": [
              "<keras.callbacks.History at 0x7fae6a8ec5d0>"
            ]
          },
          "metadata": {},
          "execution_count": 78
        }
      ]
    },
    {
      "cell_type": "code",
      "source": [
        "model.evaluate(X_test, y_test)"
      ],
      "metadata": {
        "colab": {
          "base_uri": "https://localhost:8080/"
        },
        "id": "eIanPCZ0n0Nz",
        "outputId": "775000d5-cb01-46ba-9fd5-c57ecd8a0a40"
      },
      "execution_count": 79,
      "outputs": [
        {
          "output_type": "stream",
          "name": "stdout",
          "text": [
            "41/41 [==============================] - 4s 106ms/step - loss: 0.4734 - categorical_accuracy: 0.9253 - f1_m: 0.9250\n"
          ]
        },
        {
          "output_type": "execute_result",
          "data": {
            "text/plain": [
              "[0.4733510911464691, 0.9253271818161011, 0.9250240921974182]"
            ]
          },
          "metadata": {},
          "execution_count": 79
        }
      ]
    },
    {
      "cell_type": "code",
      "source": [
        "y_pred_train3 = model.predict(X_train)\n",
        "y_pred_valid3 = model.predict(X_valid)\n",
        "y_pred_test3 = model.predict(X_test)"
      ],
      "metadata": {
        "id": "7HDxqF9Wn1s7"
      },
      "execution_count": 80,
      "outputs": []
    },
    {
      "cell_type": "code",
      "source": [
        "model.summary()"
      ],
      "metadata": {
        "colab": {
          "base_uri": "https://localhost:8080/"
        },
        "id": "EQH9Kc0Zz7ie",
        "outputId": "43bbd8ba-e81e-4afc-8321-e4832fe6e245"
      },
      "execution_count": 81,
      "outputs": [
        {
          "output_type": "stream",
          "name": "stdout",
          "text": [
            "Model: \"model_2\"\n",
            "_________________________________________________________________\n",
            " Layer (type)                Output Shape              Param #   \n",
            "=================================================================\n",
            " input_7 (InputLayer)        [(None, 140, 140, 1)]     0         \n",
            "                                                                 \n",
            " conv2d_5 (Conv2D)           (None, 140, 140, 3)       30        \n",
            "                                                                 \n",
            " resnet50 (Functional)       (None, 2048)              23587712  \n",
            "                                                                 \n",
            " dense_4 (Dense)             (None, 3)                 6147      \n",
            "                                                                 \n",
            "=================================================================\n",
            "Total params: 23,593,889\n",
            "Trainable params: 23,540,769\n",
            "Non-trainable params: 53,120\n",
            "_________________________________________________________________\n"
          ]
        }
      ]
    },
    {
      "cell_type": "code",
      "source": [
        "model_evaluation(y_pred_train3, y_pred_valid3,y_pred_test3)"
      ],
      "metadata": {
        "colab": {
          "base_uri": "https://localhost:8080/",
          "height": 1000
        },
        "id": "2njfck5CzupY",
        "outputId": "0efc1d46-398d-4355-8924-4f5c3c08ba5d"
      },
      "execution_count": 82,
      "outputs": [
        {
          "output_type": "stream",
          "name": "stdout",
          "text": [
            "Train\n",
            "              precision    recall  f1-score   support\n",
            "\n",
            "           0       0.99      1.00      0.99      2575\n",
            "           1       1.00      1.00      1.00      3039\n",
            "           2       1.00      0.99      1.00      2735\n",
            "\n",
            "    accuracy                           1.00      8349\n",
            "   macro avg       1.00      1.00      1.00      8349\n",
            "weighted avg       1.00      1.00      1.00      8349\n",
            "\n",
            "\n",
            "***********\n",
            "Valid\n",
            "              precision    recall  f1-score   support\n",
            "\n",
            "           0       0.78      1.00      0.88        92\n",
            "           1       0.92      0.90      0.91       253\n",
            "           2       0.97      0.94      0.96       683\n",
            "\n",
            "    accuracy                           0.94      1028\n",
            "   macro avg       0.89      0.95      0.91      1028\n",
            "weighted avg       0.94      0.94      0.94      1028\n",
            "\n",
            "\n",
            "***********\n",
            "Test\n",
            "              precision    recall  f1-score   support\n",
            "\n",
            "           0       0.86      0.99      0.92       118\n",
            "           1       0.87      0.88      0.88       320\n",
            "           2       0.96      0.93      0.94       861\n",
            "\n",
            "    accuracy                           0.93      1299\n",
            "   macro avg       0.90      0.94      0.91      1299\n",
            "weighted avg       0.93      0.93      0.93      1299\n",
            "\n",
            "col_0    0    1    2\n",
            "row_0               \n",
            "0      117    1    0\n",
            "1        1  283   36\n",
            "2       18   41  802\n",
            "\n",
            "\n",
            "col_0    0    1    2  total\n",
            "row_0                      \n",
            "0      117    1    0    118\n",
            "1        1  283   36    320\n",
            "2       18   41  802    861\n",
            "total  136  325  838   1299\n"
          ]
        },
        {
          "output_type": "display_data",
          "data": {
            "text/plain": [
              "<Figure size 432x288 with 2 Axes>"
            ],
            "image/png": "[encoded data removed]"
          },
          "metadata": {
            "needs_background": "light"
          }
        }
      ]
    },
    {
      "cell_type": "markdown",
      "source": [
        "### EfficientNetB0"
      ],
      "metadata": {
        "id": "ayJkDrMVZPfh"
      }
    },
    {
      "cell_type": "code",
      "source": [
        "effnet = tf.keras.applications.EfficientNetB0(\n",
        "    include_top=False,\n",
        "    weights=\"imagenet\",\n",
        "    pooling='max',\n",
        "    input_shape=(X_train.shape[1], X_train.shape[2], 3),\n",
        "\n",
        ")"
      ],
      "metadata": {
        "colab": {
          "base_uri": "https://localhost:8080/",
          "height": 244
        },
        "id": "rVP2Y5SJ0XP1",
        "outputId": "a53bfb9c-9398-478b-9712-1ed324364adf"
      },
      "execution_count": 1,
      "outputs": [
        {
          "output_type": "error",
          "ename": "NameError",
          "evalue": "ignored",
          "traceback": [
            "\u001b[0;31m---------------------------------------------------------------------------\u001b[0m",
            "\u001b[0;31mNameError\u001b[0m                                 Traceback (most recent call last)",
            "\u001b[0;32m<ipython-input-1-09778b2f6728>\u001b[0m in \u001b[0;36m<module>\u001b[0;34m()\u001b[0m\n\u001b[0;32m----> 1\u001b[0;31m effnet = tf.keras.applications.EfficientNetB0(\n\u001b[0m\u001b[1;32m      2\u001b[0m     \u001b[0minclude_top\u001b[0m\u001b[0;34m=\u001b[0m\u001b[0;32mFalse\u001b[0m\u001b[0;34m,\u001b[0m\u001b[0;34m\u001b[0m\u001b[0;34m\u001b[0m\u001b[0m\n\u001b[1;32m      3\u001b[0m     \u001b[0mweights\u001b[0m\u001b[0;34m=\u001b[0m\u001b[0;34m\"imagenet\"\u001b[0m\u001b[0;34m,\u001b[0m\u001b[0;34m\u001b[0m\u001b[0;34m\u001b[0m\u001b[0m\n\u001b[1;32m      4\u001b[0m     \u001b[0mpooling\u001b[0m\u001b[0;34m=\u001b[0m\u001b[0;34m'max'\u001b[0m\u001b[0;34m,\u001b[0m\u001b[0;34m\u001b[0m\u001b[0;34m\u001b[0m\u001b[0m\n\u001b[1;32m      5\u001b[0m     \u001b[0minput_shape\u001b[0m\u001b[0;34m=\u001b[0m\u001b[0;34m(\u001b[0m\u001b[0mX_train\u001b[0m\u001b[0;34m.\u001b[0m\u001b[0mshape\u001b[0m\u001b[0;34m[\u001b[0m\u001b[0;36m1\u001b[0m\u001b[0;34m]\u001b[0m\u001b[0;34m,\u001b[0m \u001b[0mX_train\u001b[0m\u001b[0;34m.\u001b[0m\u001b[0mshape\u001b[0m\u001b[0;34m[\u001b[0m\u001b[0;36m2\u001b[0m\u001b[0;34m]\u001b[0m\u001b[0;34m,\u001b[0m \u001b[0;36m3\u001b[0m\u001b[0;34m)\u001b[0m\u001b[0;34m,\u001b[0m\u001b[0;34m\u001b[0m\u001b[0;34m\u001b[0m\u001b[0m\n",
            "\u001b[0;31mNameError\u001b[0m: name 'tf' is not defined"
          ]
        }
      ]
    },
    {
      "cell_type": "code",
      "source": [
        "input_layer = tf.keras.layers.Input(shape=X_train.shape[1:])\n",
        "x = tf.keras.layers.Conv2D(3, (3,3), padding='same')(input_layer)\n",
        "x = effnet(x)\n",
        "out = tf.keras.layers.Dense(3, activation='softmax')(x)\n",
        "model4 = tf.keras.models.Model(inputs=input_layer, outputs=out)"
      ],
      "metadata": {
        "id": "u_3vNG2SPHzF"
      },
      "execution_count": 61,
      "outputs": []
    },
    {
      "cell_type": "code",
      "source": [
        "model4.summary()"
      ],
      "metadata": {
        "colab": {
          "base_uri": "https://localhost:8080/",
          "height": 171
        },
        "id": "UvnfoZMUPH1E",
        "outputId": "99ce0f07-6049-486a-bb3d-0c8f5009b388"
      },
      "execution_count": 72,
      "outputs": [
        {
          "output_type": "error",
          "ename": "NameError",
          "evalue": "ignored",
          "traceback": [
            "\u001b[0;31m---------------------------------------------------------------------------\u001b[0m",
            "\u001b[0;31mNameError\u001b[0m                                 Traceback (most recent call last)",
            "\u001b[0;32m<ipython-input-72-c9929e94922a>\u001b[0m in \u001b[0;36m<module>\u001b[0;34m()\u001b[0m\n\u001b[0;32m----> 1\u001b[0;31m \u001b[0mmodel4\u001b[0m\u001b[0;34m.\u001b[0m\u001b[0msummary\u001b[0m\u001b[0;34m(\u001b[0m\u001b[0;34m)\u001b[0m\u001b[0;34m\u001b[0m\u001b[0;34m\u001b[0m\u001b[0m\n\u001b[0m",
            "\u001b[0;31mNameError\u001b[0m: name 'model4' is not defined"
          ]
        }
      ]
    },
    {
      "cell_type": "code",
      "source": [
        "model4.compile(optimizer=keras.optimizers.Adam(lr=0.00001),\n",
        "              loss='categorical_crossentropy',\n",
        "              metrics=[keras.metrics.CategoricalAccuracy(),f1_m])"
      ],
      "metadata": {
        "colab": {
          "base_uri": "https://localhost:8080/"
        },
        "id": "cxCoO1QwT-C7",
        "outputId": "d5302633-5a2a-44ed-c4cf-a1acc3ae9b78"
      },
      "execution_count": 63,
      "outputs": [
        {
          "output_type": "stream",
          "name": "stderr",
          "text": [
            "/usr/local/lib/python3.7/dist-packages/keras/optimizer_v2/adam.py:105: UserWarning: The `lr` argument is deprecated, use `learning_rate` instead.\n",
            "  super(Adam, self).__init__(name, **kwargs)\n"
          ]
        }
      ]
    },
    {
      "cell_type": "code",
      "source": [
        "es = tf.keras.callbacks.EarlyStopping(patience=5, monitor='val_categorical_accuracy')"
      ],
      "metadata": {
        "id": "Q979bEux0Gne"
      },
      "execution_count": 64,
      "outputs": []
    },
    {
      "cell_type": "code",
      "source": [
        "model4.fit(X_train, y_train, batch_size=32, epochs=27, validation_data=(X_valid, y_valid), callbacks=[es])"
      ],
      "metadata": {
        "colab": {
          "base_uri": "https://localhost:8080/",
          "height": 744
        },
        "id": "YtYwjksFPH4F",
        "outputId": "17a83c6f-1b3d-4055-c038-bbae0b341829"
      },
      "execution_count": 65,
      "outputs": [
        {
          "metadata": {
            "tags": null
          },
          "name": "stdout",
          "output_type": "stream",
          "text": [
            "Epoch 1/27\n",
            "261/261 [==============================] - 88s 287ms/step - loss: 0.8939 - categorical_accuracy: 0.6968 - f1_m: 0.6945 - val_loss: 1.9694 - val_categorical_accuracy: 0.2023 - val_f1_m: 0.1930\n",
            "Epoch 2/27\n",
            "261/261 [==============================] - 71s 272ms/step - loss: 0.3964 - categorical_accuracy: 0.8609 - f1_m: 0.8606 - val_loss: 2.7207 - val_categorical_accuracy: 0.2315 - val_f1_m: 0.2206\n",
            "Epoch 3/27\n",
            "261/261 [==============================] - 71s 272ms/step - loss: 0.3024 - categorical_accuracy: 0.8987 - f1_m: 0.8982 - val_loss: 1.0849 - val_categorical_accuracy: 0.6449 - val_f1_m: 0.6415\n",
            "Epoch 4/27\n",
            "261/261 [==============================] - 71s 272ms/step - loss: 0.2336 - categorical_accuracy: 0.9206 - f1_m: 0.9215 - val_loss: 0.5171 - val_categorical_accuracy: 0.8278 - val_f1_m: 0.8286\n",
            "Epoch 5/27\n",
            "261/261 [==============================] - 72s 274ms/step - loss: 0.2032 - categorical_accuracy: 0.9310 - f1_m: 0.9310 - val_loss: 0.5451 - val_categorical_accuracy: 0.8113 - val_f1_m: 0.8104\n",
            "Epoch 6/27\n",
            "261/261 [==============================] - 71s 272ms/step - loss: 0.1665 - categorical_accuracy: 0.9390 - f1_m: 0.9387 - val_loss: 0.3959 - val_categorical_accuracy: 0.8833 - val_f1_m: 0.8868\n",
            "Epoch 7/27\n",
            "261/261 [==============================] - 71s 272ms/step - loss: 0.1463 - categorical_accuracy: 0.9485 - f1_m: 0.9484 - val_loss: 0.5459 - val_categorical_accuracy: 0.8064 - val_f1_m: 0.7982\n",
            "Epoch 8/27\n",
            "261/261 [==============================] - 71s 272ms/step - loss: 0.1253 - categorical_accuracy: 0.9524 - f1_m: 0.9526 - val_loss: 0.2728 - val_categorical_accuracy: 0.9173 - val_f1_m: 0.9202\n",
            "Epoch 9/27\n",
            "225/261 [========================>.....] - ETA: 9s - loss: 0.1197 - categorical_accuracy: 0.9585 - f1_m: 0.9582"
          ]
        },
        {
          "ename": "KeyboardInterrupt",
          "evalue": "ignored",
          "output_type": "error",
          "traceback": [
            "\u001b[0;31m---------------------------------------------------------------------------\u001b[0m",
            "\u001b[0;31mKeyboardInterrupt\u001b[0m                         Traceback (most recent call last)",
            "\u001b[0;32m<ipython-input-65-ec823e32fb3f>\u001b[0m in \u001b[0;36m<module>\u001b[0;34m()\u001b[0m\n\u001b[0;32m----> 1\u001b[0;31m \u001b[0mmodel\u001b[0m\u001b[0;34m.\u001b[0m\u001b[0mfit\u001b[0m\u001b[0;34m(\u001b[0m\u001b[0mX_train\u001b[0m\u001b[0;34m,\u001b[0m \u001b[0my_train\u001b[0m\u001b[0;34m,\u001b[0m \u001b[0mbatch_size\u001b[0m\u001b[0;34m=\u001b[0m\u001b[0;36m32\u001b[0m\u001b[0;34m,\u001b[0m \u001b[0mepochs\u001b[0m\u001b[0;34m=\u001b[0m\u001b[0;36m27\u001b[0m\u001b[0;34m,\u001b[0m \u001b[0mvalidation_data\u001b[0m\u001b[0;34m=\u001b[0m\u001b[0;34m(\u001b[0m\u001b[0mX_valid\u001b[0m\u001b[0;34m,\u001b[0m \u001b[0my_valid\u001b[0m\u001b[0;34m)\u001b[0m\u001b[0;34m,\u001b[0m \u001b[0mcallbacks\u001b[0m\u001b[0;34m=\u001b[0m\u001b[0;34m[\u001b[0m\u001b[0mes\u001b[0m\u001b[0;34m]\u001b[0m\u001b[0;34m)\u001b[0m\u001b[0;34m\u001b[0m\u001b[0;34m\u001b[0m\u001b[0m\n\u001b[0m",
            "\u001b[0;32m/usr/local/lib/python3.7/dist-packages/keras/utils/traceback_utils.py\u001b[0m in \u001b[0;36merror_handler\u001b[0;34m(*args, **kwargs)\u001b[0m\n\u001b[1;32m     62\u001b[0m     \u001b[0mfiltered_tb\u001b[0m \u001b[0;34m=\u001b[0m \u001b[0;32mNone\u001b[0m\u001b[0;34m\u001b[0m\u001b[0;34m\u001b[0m\u001b[0m\n\u001b[1;32m     63\u001b[0m     \u001b[0;32mtry\u001b[0m\u001b[0;34m:\u001b[0m\u001b[0;34m\u001b[0m\u001b[0;34m\u001b[0m\u001b[0m\n\u001b[0;32m---> 64\u001b[0;31m       \u001b[0;32mreturn\u001b[0m \u001b[0mfn\u001b[0m\u001b[0;34m(\u001b[0m\u001b[0;34m*\u001b[0m\u001b[0margs\u001b[0m\u001b[0;34m,\u001b[0m \u001b[0;34m**\u001b[0m\u001b[0mkwargs\u001b[0m\u001b[0;34m)\u001b[0m\u001b[0;34m\u001b[0m\u001b[0;34m\u001b[0m\u001b[0m\n\u001b[0m\u001b[1;32m     65\u001b[0m     \u001b[0;32mexcept\u001b[0m \u001b[0mException\u001b[0m \u001b[0;32mas\u001b[0m \u001b[0me\u001b[0m\u001b[0;34m:\u001b[0m  \u001b[0;31m# pylint: disable=broad-except\u001b[0m\u001b[0;34m\u001b[0m\u001b[0;34m\u001b[0m\u001b[0m\n\u001b[1;32m     66\u001b[0m       \u001b[0mfiltered_tb\u001b[0m \u001b[0;34m=\u001b[0m \u001b[0m_process_traceback_frames\u001b[0m\u001b[0;34m(\u001b[0m\u001b[0me\u001b[0m\u001b[0;34m.\u001b[0m\u001b[0m__traceback__\u001b[0m\u001b[0;34m)\u001b[0m\u001b[0;34m\u001b[0m\u001b[0;34m\u001b[0m\u001b[0m\n",
            "\u001b[0;32m/usr/local/lib/python3.7/dist-packages/keras/engine/training.py\u001b[0m in \u001b[0;36mfit\u001b[0;34m(self, x, y, batch_size, epochs, verbose, callbacks, validation_split, validation_data, shuffle, class_weight, sample_weight, initial_epoch, steps_per_epoch, validation_steps, validation_batch_size, validation_freq, max_queue_size, workers, use_multiprocessing)\u001b[0m\n\u001b[1;32m   1387\u001b[0m               \u001b[0mlogs\u001b[0m \u001b[0;34m=\u001b[0m \u001b[0mtmp_logs\u001b[0m  \u001b[0;31m# No error, now safe to assign to logs.\u001b[0m\u001b[0;34m\u001b[0m\u001b[0;34m\u001b[0m\u001b[0m\n\u001b[1;32m   1388\u001b[0m               \u001b[0mend_step\u001b[0m \u001b[0;34m=\u001b[0m \u001b[0mstep\u001b[0m \u001b[0;34m+\u001b[0m \u001b[0mdata_handler\u001b[0m\u001b[0;34m.\u001b[0m\u001b[0mstep_increment\u001b[0m\u001b[0;34m\u001b[0m\u001b[0;34m\u001b[0m\u001b[0m\n\u001b[0;32m-> 1389\u001b[0;31m               \u001b[0mcallbacks\u001b[0m\u001b[0;34m.\u001b[0m\u001b[0mon_train_batch_end\u001b[0m\u001b[0;34m(\u001b[0m\u001b[0mend_step\u001b[0m\u001b[0;34m,\u001b[0m \u001b[0mlogs\u001b[0m\u001b[0;34m)\u001b[0m\u001b[0;34m\u001b[0m\u001b[0;34m\u001b[0m\u001b[0m\n\u001b[0m\u001b[1;32m   1390\u001b[0m               \u001b[0;32mif\u001b[0m \u001b[0mself\u001b[0m\u001b[0;34m.\u001b[0m\u001b[0mstop_training\u001b[0m\u001b[0;34m:\u001b[0m\u001b[0;34m\u001b[0m\u001b[0;34m\u001b[0m\u001b[0m\n\u001b[1;32m   1391\u001b[0m                 \u001b[0;32mbreak\u001b[0m\u001b[0;34m\u001b[0m\u001b[0;34m\u001b[0m\u001b[0m\n",
            "\u001b[0;32m/usr/local/lib/python3.7/dist-packages/keras/callbacks.py\u001b[0m in \u001b[0;36mon_train_batch_end\u001b[0;34m(self, batch, logs)\u001b[0m\n\u001b[1;32m    436\u001b[0m     \"\"\"\n\u001b[1;32m    437\u001b[0m     \u001b[0;32mif\u001b[0m \u001b[0mself\u001b[0m\u001b[0;34m.\u001b[0m\u001b[0m_should_call_train_batch_hooks\u001b[0m\u001b[0;34m:\u001b[0m\u001b[0;34m\u001b[0m\u001b[0;34m\u001b[0m\u001b[0m\n\u001b[0;32m--> 438\u001b[0;31m       \u001b[0mself\u001b[0m\u001b[0;34m.\u001b[0m\u001b[0m_call_batch_hook\u001b[0m\u001b[0;34m(\u001b[0m\u001b[0mModeKeys\u001b[0m\u001b[0;34m.\u001b[0m\u001b[0mTRAIN\u001b[0m\u001b[0;34m,\u001b[0m \u001b[0;34m'end'\u001b[0m\u001b[0;34m,\u001b[0m \u001b[0mbatch\u001b[0m\u001b[0;34m,\u001b[0m \u001b[0mlogs\u001b[0m\u001b[0;34m=\u001b[0m\u001b[0mlogs\u001b[0m\u001b[0;34m)\u001b[0m\u001b[0;34m\u001b[0m\u001b[0;34m\u001b[0m\u001b[0m\n\u001b[0m\u001b[1;32m    439\u001b[0m \u001b[0;34m\u001b[0m\u001b[0m\n\u001b[1;32m    440\u001b[0m   \u001b[0;32mdef\u001b[0m \u001b[0mon_test_batch_begin\u001b[0m\u001b[0;34m(\u001b[0m\u001b[0mself\u001b[0m\u001b[0;34m,\u001b[0m \u001b[0mbatch\u001b[0m\u001b[0;34m,\u001b[0m \u001b[0mlogs\u001b[0m\u001b[0;34m=\u001b[0m\u001b[0;32mNone\u001b[0m\u001b[0;34m)\u001b[0m\u001b[0;34m:\u001b[0m\u001b[0;34m\u001b[0m\u001b[0;34m\u001b[0m\u001b[0m\n",
            "\u001b[0;32m/usr/local/lib/python3.7/dist-packages/keras/callbacks.py\u001b[0m in \u001b[0;36m_call_batch_hook\u001b[0;34m(self, mode, hook, batch, logs)\u001b[0m\n\u001b[1;32m    295\u001b[0m       \u001b[0mself\u001b[0m\u001b[0;34m.\u001b[0m\u001b[0m_call_batch_begin_hook\u001b[0m\u001b[0;34m(\u001b[0m\u001b[0mmode\u001b[0m\u001b[0;34m,\u001b[0m \u001b[0mbatch\u001b[0m\u001b[0;34m,\u001b[0m \u001b[0mlogs\u001b[0m\u001b[0;34m)\u001b[0m\u001b[0;34m\u001b[0m\u001b[0;34m\u001b[0m\u001b[0m\n\u001b[1;32m    296\u001b[0m     \u001b[0;32melif\u001b[0m \u001b[0mhook\u001b[0m \u001b[0;34m==\u001b[0m \u001b[0;34m'end'\u001b[0m\u001b[0;34m:\u001b[0m\u001b[0;34m\u001b[0m\u001b[0;34m\u001b[0m\u001b[0m\n\u001b[0;32m--> 297\u001b[0;31m       \u001b[0mself\u001b[0m\u001b[0;34m.\u001b[0m\u001b[0m_call_batch_end_hook\u001b[0m\u001b[0;34m(\u001b[0m\u001b[0mmode\u001b[0m\u001b[0;34m,\u001b[0m \u001b[0mbatch\u001b[0m\u001b[0;34m,\u001b[0m \u001b[0mlogs\u001b[0m\u001b[0;34m)\u001b[0m\u001b[0;34m\u001b[0m\u001b[0;34m\u001b[0m\u001b[0m\n\u001b[0m\u001b[1;32m    298\u001b[0m     \u001b[0;32melse\u001b[0m\u001b[0;34m:\u001b[0m\u001b[0;34m\u001b[0m\u001b[0;34m\u001b[0m\u001b[0m\n\u001b[1;32m    299\u001b[0m       raise ValueError(\n",
            "\u001b[0;32m/usr/local/lib/python3.7/dist-packages/keras/callbacks.py\u001b[0m in \u001b[0;36m_call_batch_end_hook\u001b[0;34m(self, mode, batch, logs)\u001b[0m\n\u001b[1;32m    316\u001b[0m       \u001b[0mself\u001b[0m\u001b[0;34m.\u001b[0m\u001b[0m_batch_times\u001b[0m\u001b[0;34m.\u001b[0m\u001b[0mappend\u001b[0m\u001b[0;34m(\u001b[0m\u001b[0mbatch_time\u001b[0m\u001b[0;34m)\u001b[0m\u001b[0;34m\u001b[0m\u001b[0;34m\u001b[0m\u001b[0m\n\u001b[1;32m    317\u001b[0m \u001b[0;34m\u001b[0m\u001b[0m\n\u001b[0;32m--> 318\u001b[0;31m     \u001b[0mself\u001b[0m\u001b[0;34m.\u001b[0m\u001b[0m_call_batch_hook_helper\u001b[0m\u001b[0;34m(\u001b[0m\u001b[0mhook_name\u001b[0m\u001b[0;34m,\u001b[0m \u001b[0mbatch\u001b[0m\u001b[0;34m,\u001b[0m \u001b[0mlogs\u001b[0m\u001b[0;34m)\u001b[0m\u001b[0;34m\u001b[0m\u001b[0;34m\u001b[0m\u001b[0m\n\u001b[0m\u001b[1;32m    319\u001b[0m \u001b[0;34m\u001b[0m\u001b[0m\n\u001b[1;32m    320\u001b[0m     \u001b[0;32mif\u001b[0m \u001b[0mlen\u001b[0m\u001b[0;34m(\u001b[0m\u001b[0mself\u001b[0m\u001b[0;34m.\u001b[0m\u001b[0m_batch_times\u001b[0m\u001b[0;34m)\u001b[0m \u001b[0;34m>=\u001b[0m \u001b[0mself\u001b[0m\u001b[0;34m.\u001b[0m\u001b[0m_num_batches_for_timing_check\u001b[0m\u001b[0;34m:\u001b[0m\u001b[0;34m\u001b[0m\u001b[0;34m\u001b[0m\u001b[0m\n",
            "\u001b[0;32m/usr/local/lib/python3.7/dist-packages/keras/callbacks.py\u001b[0m in \u001b[0;36m_call_batch_hook_helper\u001b[0;34m(self, hook_name, batch, logs)\u001b[0m\n\u001b[1;32m    354\u001b[0m     \u001b[0;32mfor\u001b[0m \u001b[0mcallback\u001b[0m \u001b[0;32min\u001b[0m \u001b[0mself\u001b[0m\u001b[0;34m.\u001b[0m\u001b[0mcallbacks\u001b[0m\u001b[0;34m:\u001b[0m\u001b[0;34m\u001b[0m\u001b[0;34m\u001b[0m\u001b[0m\n\u001b[1;32m    355\u001b[0m       \u001b[0mhook\u001b[0m \u001b[0;34m=\u001b[0m \u001b[0mgetattr\u001b[0m\u001b[0;34m(\u001b[0m\u001b[0mcallback\u001b[0m\u001b[0;34m,\u001b[0m \u001b[0mhook_name\u001b[0m\u001b[0;34m)\u001b[0m\u001b[0;34m\u001b[0m\u001b[0;34m\u001b[0m\u001b[0m\n\u001b[0;32m--> 356\u001b[0;31m       \u001b[0mhook\u001b[0m\u001b[0;34m(\u001b[0m\u001b[0mbatch\u001b[0m\u001b[0;34m,\u001b[0m \u001b[0mlogs\u001b[0m\u001b[0;34m)\u001b[0m\u001b[0;34m\u001b[0m\u001b[0;34m\u001b[0m\u001b[0m\n\u001b[0m\u001b[1;32m    357\u001b[0m \u001b[0;34m\u001b[0m\u001b[0m\n\u001b[1;32m    358\u001b[0m     \u001b[0;32mif\u001b[0m \u001b[0mself\u001b[0m\u001b[0;34m.\u001b[0m\u001b[0m_check_timing\u001b[0m\u001b[0;34m:\u001b[0m\u001b[0;34m\u001b[0m\u001b[0;34m\u001b[0m\u001b[0m\n",
            "\u001b[0;32m/usr/local/lib/python3.7/dist-packages/keras/callbacks.py\u001b[0m in \u001b[0;36mon_train_batch_end\u001b[0;34m(self, batch, logs)\u001b[0m\n\u001b[1;32m   1032\u001b[0m \u001b[0;34m\u001b[0m\u001b[0m\n\u001b[1;32m   1033\u001b[0m   \u001b[0;32mdef\u001b[0m \u001b[0mon_train_batch_end\u001b[0m\u001b[0;34m(\u001b[0m\u001b[0mself\u001b[0m\u001b[0;34m,\u001b[0m \u001b[0mbatch\u001b[0m\u001b[0;34m,\u001b[0m \u001b[0mlogs\u001b[0m\u001b[0;34m=\u001b[0m\u001b[0;32mNone\u001b[0m\u001b[0;34m)\u001b[0m\u001b[0;34m:\u001b[0m\u001b[0;34m\u001b[0m\u001b[0;34m\u001b[0m\u001b[0m\n\u001b[0;32m-> 1034\u001b[0;31m     \u001b[0mself\u001b[0m\u001b[0;34m.\u001b[0m\u001b[0m_batch_update_progbar\u001b[0m\u001b[0;34m(\u001b[0m\u001b[0mbatch\u001b[0m\u001b[0;34m,\u001b[0m \u001b[0mlogs\u001b[0m\u001b[0;34m)\u001b[0m\u001b[0;34m\u001b[0m\u001b[0;34m\u001b[0m\u001b[0m\n\u001b[0m\u001b[1;32m   1035\u001b[0m \u001b[0;34m\u001b[0m\u001b[0m\n\u001b[1;32m   1036\u001b[0m   \u001b[0;32mdef\u001b[0m \u001b[0mon_test_batch_end\u001b[0m\u001b[0;34m(\u001b[0m\u001b[0mself\u001b[0m\u001b[0;34m,\u001b[0m \u001b[0mbatch\u001b[0m\u001b[0;34m,\u001b[0m \u001b[0mlogs\u001b[0m\u001b[0;34m=\u001b[0m\u001b[0;32mNone\u001b[0m\u001b[0;34m)\u001b[0m\u001b[0;34m:\u001b[0m\u001b[0;34m\u001b[0m\u001b[0;34m\u001b[0m\u001b[0m\n",
            "\u001b[0;32m/usr/local/lib/python3.7/dist-packages/keras/callbacks.py\u001b[0m in \u001b[0;36m_batch_update_progbar\u001b[0;34m(self, batch, logs)\u001b[0m\n\u001b[1;32m   1104\u001b[0m     \u001b[0;32mif\u001b[0m \u001b[0mself\u001b[0m\u001b[0;34m.\u001b[0m\u001b[0mverbose\u001b[0m \u001b[0;34m==\u001b[0m \u001b[0;36m1\u001b[0m\u001b[0;34m:\u001b[0m\u001b[0;34m\u001b[0m\u001b[0;34m\u001b[0m\u001b[0m\n\u001b[1;32m   1105\u001b[0m       \u001b[0;31m# Only block async when verbose = 1.\u001b[0m\u001b[0;34m\u001b[0m\u001b[0;34m\u001b[0m\u001b[0;34m\u001b[0m\u001b[0m\n\u001b[0;32m-> 1106\u001b[0;31m       \u001b[0mlogs\u001b[0m \u001b[0;34m=\u001b[0m \u001b[0mtf_utils\u001b[0m\u001b[0;34m.\u001b[0m\u001b[0msync_to_numpy_or_python_type\u001b[0m\u001b[0;34m(\u001b[0m\u001b[0mlogs\u001b[0m\u001b[0;34m)\u001b[0m\u001b[0;34m\u001b[0m\u001b[0;34m\u001b[0m\u001b[0m\n\u001b[0m\u001b[1;32m   1107\u001b[0m       \u001b[0mself\u001b[0m\u001b[0;34m.\u001b[0m\u001b[0mprogbar\u001b[0m\u001b[0;34m.\u001b[0m\u001b[0mupdate\u001b[0m\u001b[0;34m(\u001b[0m\u001b[0mself\u001b[0m\u001b[0;34m.\u001b[0m\u001b[0mseen\u001b[0m\u001b[0;34m,\u001b[0m \u001b[0mlist\u001b[0m\u001b[0;34m(\u001b[0m\u001b[0mlogs\u001b[0m\u001b[0;34m.\u001b[0m\u001b[0mitems\u001b[0m\u001b[0;34m(\u001b[0m\u001b[0;34m)\u001b[0m\u001b[0;34m)\u001b[0m\u001b[0;34m,\u001b[0m \u001b[0mfinalize\u001b[0m\u001b[0;34m=\u001b[0m\u001b[0;32mFalse\u001b[0m\u001b[0;34m)\u001b[0m\u001b[0;34m\u001b[0m\u001b[0;34m\u001b[0m\u001b[0m\n\u001b[1;32m   1108\u001b[0m \u001b[0;34m\u001b[0m\u001b[0m\n",
            "\u001b[0;32m/usr/local/lib/python3.7/dist-packages/keras/utils/tf_utils.py\u001b[0m in \u001b[0;36msync_to_numpy_or_python_type\u001b[0;34m(tensors)\u001b[0m\n\u001b[1;32m    561\u001b[0m     \u001b[0;32mreturn\u001b[0m \u001b[0mt\u001b[0m\u001b[0;34m.\u001b[0m\u001b[0mitem\u001b[0m\u001b[0;34m(\u001b[0m\u001b[0;34m)\u001b[0m \u001b[0;32mif\u001b[0m \u001b[0mnp\u001b[0m\u001b[0;34m.\u001b[0m\u001b[0mndim\u001b[0m\u001b[0;34m(\u001b[0m\u001b[0mt\u001b[0m\u001b[0;34m)\u001b[0m \u001b[0;34m==\u001b[0m \u001b[0;36m0\u001b[0m \u001b[0;32melse\u001b[0m \u001b[0mt\u001b[0m\u001b[0;34m\u001b[0m\u001b[0;34m\u001b[0m\u001b[0m\n\u001b[1;32m    562\u001b[0m \u001b[0;34m\u001b[0m\u001b[0m\n\u001b[0;32m--> 563\u001b[0;31m   \u001b[0;32mreturn\u001b[0m \u001b[0mtf\u001b[0m\u001b[0;34m.\u001b[0m\u001b[0mnest\u001b[0m\u001b[0;34m.\u001b[0m\u001b[0mmap_structure\u001b[0m\u001b[0;34m(\u001b[0m\u001b[0m_to_single_numpy_or_python_type\u001b[0m\u001b[0;34m,\u001b[0m \u001b[0mtensors\u001b[0m\u001b[0;34m)\u001b[0m\u001b[0;34m\u001b[0m\u001b[0;34m\u001b[0m\u001b[0m\n\u001b[0m\u001b[1;32m    564\u001b[0m \u001b[0;34m\u001b[0m\u001b[0m\n\u001b[1;32m    565\u001b[0m \u001b[0;34m\u001b[0m\u001b[0m\n",
            "\u001b[0;32m/usr/local/lib/python3.7/dist-packages/tensorflow/python/util/nest.py\u001b[0m in \u001b[0;36mmap_structure\u001b[0;34m(func, *structure, **kwargs)\u001b[0m\n\u001b[1;32m    912\u001b[0m \u001b[0;34m\u001b[0m\u001b[0m\n\u001b[1;32m    913\u001b[0m   return pack_sequence_as(\n\u001b[0;32m--> 914\u001b[0;31m       \u001b[0mstructure\u001b[0m\u001b[0;34m[\u001b[0m\u001b[0;36m0\u001b[0m\u001b[0;34m]\u001b[0m\u001b[0;34m,\u001b[0m \u001b[0;34m[\u001b[0m\u001b[0mfunc\u001b[0m\u001b[0;34m(\u001b[0m\u001b[0;34m*\u001b[0m\u001b[0mx\u001b[0m\u001b[0;34m)\u001b[0m \u001b[0;32mfor\u001b[0m \u001b[0mx\u001b[0m \u001b[0;32min\u001b[0m \u001b[0mentries\u001b[0m\u001b[0;34m]\u001b[0m\u001b[0;34m,\u001b[0m\u001b[0;34m\u001b[0m\u001b[0;34m\u001b[0m\u001b[0m\n\u001b[0m\u001b[1;32m    915\u001b[0m       expand_composites=expand_composites)\n\u001b[1;32m    916\u001b[0m \u001b[0;34m\u001b[0m\u001b[0m\n",
            "\u001b[0;32m/usr/local/lib/python3.7/dist-packages/tensorflow/python/util/nest.py\u001b[0m in \u001b[0;36m<listcomp>\u001b[0;34m(.0)\u001b[0m\n\u001b[1;32m    912\u001b[0m \u001b[0;34m\u001b[0m\u001b[0m\n\u001b[1;32m    913\u001b[0m   return pack_sequence_as(\n\u001b[0;32m--> 914\u001b[0;31m       \u001b[0mstructure\u001b[0m\u001b[0;34m[\u001b[0m\u001b[0;36m0\u001b[0m\u001b[0;34m]\u001b[0m\u001b[0;34m,\u001b[0m \u001b[0;34m[\u001b[0m\u001b[0mfunc\u001b[0m\u001b[0;34m(\u001b[0m\u001b[0;34m*\u001b[0m\u001b[0mx\u001b[0m\u001b[0;34m)\u001b[0m \u001b[0;32mfor\u001b[0m \u001b[0mx\u001b[0m \u001b[0;32min\u001b[0m \u001b[0mentries\u001b[0m\u001b[0;34m]\u001b[0m\u001b[0;34m,\u001b[0m\u001b[0;34m\u001b[0m\u001b[0;34m\u001b[0m\u001b[0m\n\u001b[0m\u001b[1;32m    915\u001b[0m       expand_composites=expand_composites)\n\u001b[1;32m    916\u001b[0m \u001b[0;34m\u001b[0m\u001b[0m\n",
            "\u001b[0;32m/usr/local/lib/python3.7/dist-packages/keras/utils/tf_utils.py\u001b[0m in \u001b[0;36m_to_single_numpy_or_python_type\u001b[0;34m(t)\u001b[0m\n\u001b[1;32m    555\u001b[0m     \u001b[0;31m# Don't turn ragged or sparse tensors to NumPy.\u001b[0m\u001b[0;34m\u001b[0m\u001b[0;34m\u001b[0m\u001b[0;34m\u001b[0m\u001b[0m\n\u001b[1;32m    556\u001b[0m     \u001b[0;32mif\u001b[0m \u001b[0misinstance\u001b[0m\u001b[0;34m(\u001b[0m\u001b[0mt\u001b[0m\u001b[0;34m,\u001b[0m \u001b[0mtf\u001b[0m\u001b[0;34m.\u001b[0m\u001b[0mTensor\u001b[0m\u001b[0;34m)\u001b[0m\u001b[0;34m:\u001b[0m\u001b[0;34m\u001b[0m\u001b[0;34m\u001b[0m\u001b[0m\n\u001b[0;32m--> 557\u001b[0;31m       \u001b[0mt\u001b[0m \u001b[0;34m=\u001b[0m \u001b[0mt\u001b[0m\u001b[0;34m.\u001b[0m\u001b[0mnumpy\u001b[0m\u001b[0;34m(\u001b[0m\u001b[0;34m)\u001b[0m\u001b[0;34m\u001b[0m\u001b[0;34m\u001b[0m\u001b[0m\n\u001b[0m\u001b[1;32m    558\u001b[0m     \u001b[0;31m# Strings, ragged and sparse tensors don't have .item(). Return them as-is.\u001b[0m\u001b[0;34m\u001b[0m\u001b[0;34m\u001b[0m\u001b[0;34m\u001b[0m\u001b[0m\n\u001b[1;32m    559\u001b[0m     \u001b[0;32mif\u001b[0m \u001b[0;32mnot\u001b[0m \u001b[0misinstance\u001b[0m\u001b[0;34m(\u001b[0m\u001b[0mt\u001b[0m\u001b[0;34m,\u001b[0m \u001b[0;34m(\u001b[0m\u001b[0mnp\u001b[0m\u001b[0;34m.\u001b[0m\u001b[0mndarray\u001b[0m\u001b[0;34m,\u001b[0m \u001b[0mnp\u001b[0m\u001b[0;34m.\u001b[0m\u001b[0mgeneric\u001b[0m\u001b[0;34m)\u001b[0m\u001b[0;34m)\u001b[0m\u001b[0;34m:\u001b[0m\u001b[0;34m\u001b[0m\u001b[0;34m\u001b[0m\u001b[0m\n",
            "\u001b[0;32m/usr/local/lib/python3.7/dist-packages/tensorflow/python/framework/ops.py\u001b[0m in \u001b[0;36mnumpy\u001b[0;34m(self)\u001b[0m\n\u001b[1;32m   1221\u001b[0m     \"\"\"\n\u001b[1;32m   1222\u001b[0m     \u001b[0;31m# TODO(slebedev): Consider avoiding a copy for non-CPU or remote tensors.\u001b[0m\u001b[0;34m\u001b[0m\u001b[0;34m\u001b[0m\u001b[0;34m\u001b[0m\u001b[0m\n\u001b[0;32m-> 1223\u001b[0;31m     \u001b[0mmaybe_arr\u001b[0m \u001b[0;34m=\u001b[0m \u001b[0mself\u001b[0m\u001b[0;34m.\u001b[0m\u001b[0m_numpy\u001b[0m\u001b[0;34m(\u001b[0m\u001b[0;34m)\u001b[0m  \u001b[0;31m# pylint: disable=protected-access\u001b[0m\u001b[0;34m\u001b[0m\u001b[0;34m\u001b[0m\u001b[0m\n\u001b[0m\u001b[1;32m   1224\u001b[0m     \u001b[0;32mreturn\u001b[0m \u001b[0mmaybe_arr\u001b[0m\u001b[0;34m.\u001b[0m\u001b[0mcopy\u001b[0m\u001b[0;34m(\u001b[0m\u001b[0;34m)\u001b[0m \u001b[0;32mif\u001b[0m \u001b[0misinstance\u001b[0m\u001b[0;34m(\u001b[0m\u001b[0mmaybe_arr\u001b[0m\u001b[0;34m,\u001b[0m \u001b[0mnp\u001b[0m\u001b[0;34m.\u001b[0m\u001b[0mndarray\u001b[0m\u001b[0;34m)\u001b[0m \u001b[0;32melse\u001b[0m \u001b[0mmaybe_arr\u001b[0m\u001b[0;34m\u001b[0m\u001b[0;34m\u001b[0m\u001b[0m\n\u001b[1;32m   1225\u001b[0m \u001b[0;34m\u001b[0m\u001b[0m\n",
            "\u001b[0;32m/usr/local/lib/python3.7/dist-packages/tensorflow/python/framework/ops.py\u001b[0m in \u001b[0;36m_numpy\u001b[0;34m(self)\u001b[0m\n\u001b[1;32m   1187\u001b[0m   \u001b[0;32mdef\u001b[0m \u001b[0m_numpy\u001b[0m\u001b[0;34m(\u001b[0m\u001b[0mself\u001b[0m\u001b[0;34m)\u001b[0m\u001b[0;34m:\u001b[0m\u001b[0;34m\u001b[0m\u001b[0;34m\u001b[0m\u001b[0m\n\u001b[1;32m   1188\u001b[0m     \u001b[0;32mtry\u001b[0m\u001b[0;34m:\u001b[0m\u001b[0;34m\u001b[0m\u001b[0;34m\u001b[0m\u001b[0m\n\u001b[0;32m-> 1189\u001b[0;31m       \u001b[0;32mreturn\u001b[0m \u001b[0mself\u001b[0m\u001b[0;34m.\u001b[0m\u001b[0m_numpy_internal\u001b[0m\u001b[0;34m(\u001b[0m\u001b[0;34m)\u001b[0m\u001b[0;34m\u001b[0m\u001b[0;34m\u001b[0m\u001b[0m\n\u001b[0m\u001b[1;32m   1190\u001b[0m     \u001b[0;32mexcept\u001b[0m \u001b[0mcore\u001b[0m\u001b[0;34m.\u001b[0m\u001b[0m_NotOkStatusException\u001b[0m \u001b[0;32mas\u001b[0m \u001b[0me\u001b[0m\u001b[0;34m:\u001b[0m  \u001b[0;31m# pylint: disable=protected-access\u001b[0m\u001b[0;34m\u001b[0m\u001b[0;34m\u001b[0m\u001b[0m\n\u001b[1;32m   1191\u001b[0m       \u001b[0;32mraise\u001b[0m \u001b[0mcore\u001b[0m\u001b[0;34m.\u001b[0m\u001b[0m_status_to_exception\u001b[0m\u001b[0;34m(\u001b[0m\u001b[0me\u001b[0m\u001b[0;34m)\u001b[0m \u001b[0;32mfrom\u001b[0m \u001b[0;32mNone\u001b[0m  \u001b[0;31m# pylint: disable=protected-access\u001b[0m\u001b[0;34m\u001b[0m\u001b[0;34m\u001b[0m\u001b[0m\n",
            "\u001b[0;31mKeyboardInterrupt\u001b[0m: "
          ]
        }
      ]
    },
    {
      "cell_type": "code",
      "source": [
        "model4.evaluate(X_test, y_test)"
      ],
      "metadata": {
        "id": "sSDXZHyaoSOG"
      },
      "execution_count": null,
      "outputs": []
    },
    {
      "cell_type": "code",
      "source": [
        "y_pred_train4 = model4.predict(X_train)\n",
        "y_pred_valid4 = model4.predict(X_valid)\n",
        "y_pred_test4 = model4.predict(X_test)"
      ],
      "metadata": {
        "id": "gJRJ4i_HoSqB"
      },
      "execution_count": null,
      "outputs": []
    },
    {
      "cell_type": "code",
      "source": [
        "model_evaluation(y_pred_train4, y_pred_valid4,y_pred_test4)"
      ],
      "metadata": {
        "id": "mEFolaf5oSvg"
      },
      "execution_count": null,
      "outputs": []
    },
    {
      "cell_type": "code",
      "execution_count": null,
      "metadata": {
        "colab": {
          "base_uri": "https://localhost:8080/",
          "height": 506
        },
        "id": "R1MoA7GcZpQD",
        "outputId": "febbb41b-114a-418b-ccdc-dcac527b3eea"
      },
      "outputs": [
        {
          "name": "stderr",
          "output_type": "stream",
          "text": [
            "/usr/local/lib/python3.7/dist-packages/numpy/core/fromnumeric.py:43: VisibleDeprecationWarning: Creating an ndarray from ragged nested sequences (which is a list-or-tuple of lists-or-tuples-or ndarrays with different lengths or shapes) is deprecated. If you meant to do this, you must specify 'dtype=object' when creating the ndarray.\n",
            "  result = getattr(asarray(obj), method)(*args, **kwds)\n"
          ]
        },
        {
          "ename": "ValueError",
          "evalue": "ignored",
          "output_type": "error",
          "traceback": [
            "\u001b[0;31m---------------------------------------------------------------------------\u001b[0m",
            "\u001b[0;31mValueError\u001b[0m                                Traceback (most recent call last)",
            "\u001b[0;32m<ipython-input-82-ecd382758217>\u001b[0m in \u001b[0;36m<module>\u001b[0;34m()\u001b[0m\n\u001b[1;32m      1\u001b[0m \u001b[0;32mfor\u001b[0m \u001b[0mi\u001b[0m \u001b[0;32min\u001b[0m \u001b[0mrange\u001b[0m\u001b[0;34m(\u001b[0m\u001b[0mlen\u001b[0m\u001b[0;34m(\u001b[0m\u001b[0mtest_data\u001b[0m\u001b[0;34m)\u001b[0m\u001b[0;34m)\u001b[0m\u001b[0;34m:\u001b[0m\u001b[0;34m\u001b[0m\u001b[0;34m\u001b[0m\u001b[0m\n\u001b[1;32m      2\u001b[0m   \u001b[0mimage\u001b[0m \u001b[0;34m=\u001b[0m \u001b[0mtest_data\u001b[0m\u001b[0;34m[\u001b[0m\u001b[0mi\u001b[0m\u001b[0;34m]\u001b[0m\u001b[0;34m\u001b[0m\u001b[0;34m\u001b[0m\u001b[0m\n\u001b[0;32m----> 3\u001b[0;31m   \u001b[0mlabel\u001b[0m \u001b[0;34m=\u001b[0m \u001b[0mnp\u001b[0m\u001b[0;34m.\u001b[0m\u001b[0margmax\u001b[0m\u001b[0;34m(\u001b[0m\u001b[0mtest_data\u001b[0m\u001b[0;34m[\u001b[0m\u001b[0mi\u001b[0m\u001b[0;34m]\u001b[0m\u001b[0;34m)\u001b[0m\u001b[0;34m\u001b[0m\u001b[0;34m\u001b[0m\u001b[0m\n\u001b[0m\u001b[1;32m      4\u001b[0m   \u001b[0mpredict\u001b[0m\u001b[0;34m(\u001b[0m\u001b[0mmodel\u001b[0m\u001b[0;34m,\u001b[0m \u001b[0mimage\u001b[0m\u001b[0;34m,\u001b[0m \u001b[0mlabel\u001b[0m\u001b[0;34m)\u001b[0m\u001b[0;34m\u001b[0m\u001b[0;34m\u001b[0m\u001b[0m\n",
            "\u001b[0;32m<__array_function__ internals>\u001b[0m in \u001b[0;36margmax\u001b[0;34m(*args, **kwargs)\u001b[0m\n",
            "\u001b[0;32m/usr/local/lib/python3.7/dist-packages/numpy/core/fromnumeric.py\u001b[0m in \u001b[0;36margmax\u001b[0;34m(a, axis, out)\u001b[0m\n\u001b[1;32m   1193\u001b[0m \u001b[0;34m\u001b[0m\u001b[0m\n\u001b[1;32m   1194\u001b[0m     \"\"\"\n\u001b[0;32m-> 1195\u001b[0;31m     \u001b[0;32mreturn\u001b[0m \u001b[0m_wrapfunc\u001b[0m\u001b[0;34m(\u001b[0m\u001b[0ma\u001b[0m\u001b[0;34m,\u001b[0m \u001b[0;34m'argmax'\u001b[0m\u001b[0;34m,\u001b[0m \u001b[0maxis\u001b[0m\u001b[0;34m=\u001b[0m\u001b[0maxis\u001b[0m\u001b[0;34m,\u001b[0m \u001b[0mout\u001b[0m\u001b[0;34m=\u001b[0m\u001b[0mout\u001b[0m\u001b[0;34m)\u001b[0m\u001b[0;34m\u001b[0m\u001b[0;34m\u001b[0m\u001b[0m\n\u001b[0m\u001b[1;32m   1196\u001b[0m \u001b[0;34m\u001b[0m\u001b[0m\n\u001b[1;32m   1197\u001b[0m \u001b[0;34m\u001b[0m\u001b[0m\n",
            "\u001b[0;32m/usr/local/lib/python3.7/dist-packages/numpy/core/fromnumeric.py\u001b[0m in \u001b[0;36m_wrapfunc\u001b[0;34m(obj, method, *args, **kwds)\u001b[0m\n\u001b[1;32m     52\u001b[0m     \u001b[0mbound\u001b[0m \u001b[0;34m=\u001b[0m \u001b[0mgetattr\u001b[0m\u001b[0;34m(\u001b[0m\u001b[0mobj\u001b[0m\u001b[0;34m,\u001b[0m \u001b[0mmethod\u001b[0m\u001b[0;34m,\u001b[0m \u001b[0;32mNone\u001b[0m\u001b[0;34m)\u001b[0m\u001b[0;34m\u001b[0m\u001b[0;34m\u001b[0m\u001b[0m\n\u001b[1;32m     53\u001b[0m     \u001b[0;32mif\u001b[0m \u001b[0mbound\u001b[0m \u001b[0;32mis\u001b[0m \u001b[0;32mNone\u001b[0m\u001b[0;34m:\u001b[0m\u001b[0;34m\u001b[0m\u001b[0;34m\u001b[0m\u001b[0m\n\u001b[0;32m---> 54\u001b[0;31m         \u001b[0;32mreturn\u001b[0m \u001b[0m_wrapit\u001b[0m\u001b[0;34m(\u001b[0m\u001b[0mobj\u001b[0m\u001b[0;34m,\u001b[0m \u001b[0mmethod\u001b[0m\u001b[0;34m,\u001b[0m \u001b[0;34m*\u001b[0m\u001b[0margs\u001b[0m\u001b[0;34m,\u001b[0m \u001b[0;34m**\u001b[0m\u001b[0mkwds\u001b[0m\u001b[0;34m)\u001b[0m\u001b[0;34m\u001b[0m\u001b[0;34m\u001b[0m\u001b[0m\n\u001b[0m\u001b[1;32m     55\u001b[0m \u001b[0;34m\u001b[0m\u001b[0m\n\u001b[1;32m     56\u001b[0m     \u001b[0;32mtry\u001b[0m\u001b[0;34m:\u001b[0m\u001b[0;34m\u001b[0m\u001b[0;34m\u001b[0m\u001b[0m\n",
            "\u001b[0;32m/usr/local/lib/python3.7/dist-packages/numpy/core/fromnumeric.py\u001b[0m in \u001b[0;36m_wrapit\u001b[0;34m(obj, method, *args, **kwds)\u001b[0m\n\u001b[1;32m     41\u001b[0m     \u001b[0;32mexcept\u001b[0m \u001b[0mAttributeError\u001b[0m\u001b[0;34m:\u001b[0m\u001b[0;34m\u001b[0m\u001b[0;34m\u001b[0m\u001b[0m\n\u001b[1;32m     42\u001b[0m         \u001b[0mwrap\u001b[0m \u001b[0;34m=\u001b[0m \u001b[0;32mNone\u001b[0m\u001b[0;34m\u001b[0m\u001b[0;34m\u001b[0m\u001b[0m\n\u001b[0;32m---> 43\u001b[0;31m     \u001b[0mresult\u001b[0m \u001b[0;34m=\u001b[0m \u001b[0mgetattr\u001b[0m\u001b[0;34m(\u001b[0m\u001b[0masarray\u001b[0m\u001b[0;34m(\u001b[0m\u001b[0mobj\u001b[0m\u001b[0;34m)\u001b[0m\u001b[0;34m,\u001b[0m \u001b[0mmethod\u001b[0m\u001b[0;34m)\u001b[0m\u001b[0;34m(\u001b[0m\u001b[0;34m*\u001b[0m\u001b[0margs\u001b[0m\u001b[0;34m,\u001b[0m \u001b[0;34m**\u001b[0m\u001b[0mkwds\u001b[0m\u001b[0;34m)\u001b[0m\u001b[0;34m\u001b[0m\u001b[0;34m\u001b[0m\u001b[0m\n\u001b[0m\u001b[1;32m     44\u001b[0m     \u001b[0;32mif\u001b[0m \u001b[0mwrap\u001b[0m\u001b[0;34m:\u001b[0m\u001b[0;34m\u001b[0m\u001b[0;34m\u001b[0m\u001b[0m\n\u001b[1;32m     45\u001b[0m         \u001b[0;32mif\u001b[0m \u001b[0;32mnot\u001b[0m \u001b[0misinstance\u001b[0m\u001b[0;34m(\u001b[0m\u001b[0mresult\u001b[0m\u001b[0;34m,\u001b[0m \u001b[0mmu\u001b[0m\u001b[0;34m.\u001b[0m\u001b[0mndarray\u001b[0m\u001b[0;34m)\u001b[0m\u001b[0;34m:\u001b[0m\u001b[0;34m\u001b[0m\u001b[0;34m\u001b[0m\u001b[0m\n",
            "\u001b[0;31mValueError\u001b[0m: could not broadcast input array from shape (32,256,256,3) into shape (32,)"
          ]
        }
      ],
      "source": [
        "# for i in range(len(test_data)):\n",
        "#   image = test_data[i]\n",
        "#   label = np.argmax(test_data[i])\n",
        "#   predict(model, image, label)"
      ]
    },
    {
      "cell_type": "code",
      "execution_count": null,
      "metadata": {
        "colab": {
          "base_uri": "https://localhost:8080/",
          "height": 328
        },
        "id": "9k1IXspCFe0E",
        "outputId": "53925c99-ad4a-4300-a09e-953b15ca6c6a"
      },
      "outputs": [
        {
          "name": "stdout",
          "output_type": "stream",
          "text": [
            "  7/159 [>.............................] - ETA: 28:01 - loss: 1.0990 - accuracy: 0.3326"
          ]
        },
        {
          "ename": "KeyboardInterrupt",
          "evalue": "ignored",
          "output_type": "error",
          "traceback": [
            "\u001b[0;31m---------------------------------------------------------------------------\u001b[0m",
            "\u001b[0;31mKeyboardInterrupt\u001b[0m                         Traceback (most recent call last)",
            "\u001b[0;32m<ipython-input-72-93829daac281>\u001b[0m in \u001b[0;36m<module>\u001b[0;34m()\u001b[0m\n\u001b[0;32m----> 1\u001b[0;31m \u001b[0mmodel\u001b[0m\u001b[0;34m.\u001b[0m\u001b[0mfit\u001b[0m\u001b[0;34m(\u001b[0m\u001b[0mtrain_balanced\u001b[0m\u001b[0;34m,\u001b[0m \u001b[0mvalidation_data\u001b[0m\u001b[0;34m=\u001b[0m\u001b[0mtest_dataset\u001b[0m\u001b[0;34m,\u001b[0m \u001b[0mepochs\u001b[0m\u001b[0;34m=\u001b[0m\u001b[0;36m1\u001b[0m\u001b[0;34m)\u001b[0m\u001b[0;34m\u001b[0m\u001b[0;34m\u001b[0m\u001b[0m\n\u001b[0m",
            "\u001b[0;32m/usr/local/lib/python3.7/dist-packages/keras/utils/traceback_utils.py\u001b[0m in \u001b[0;36merror_handler\u001b[0;34m(*args, **kwargs)\u001b[0m\n\u001b[1;32m     62\u001b[0m     \u001b[0mfiltered_tb\u001b[0m \u001b[0;34m=\u001b[0m \u001b[0;32mNone\u001b[0m\u001b[0;34m\u001b[0m\u001b[0;34m\u001b[0m\u001b[0m\n\u001b[1;32m     63\u001b[0m     \u001b[0;32mtry\u001b[0m\u001b[0;34m:\u001b[0m\u001b[0;34m\u001b[0m\u001b[0;34m\u001b[0m\u001b[0m\n\u001b[0;32m---> 64\u001b[0;31m       \u001b[0;32mreturn\u001b[0m \u001b[0mfn\u001b[0m\u001b[0;34m(\u001b[0m\u001b[0;34m*\u001b[0m\u001b[0margs\u001b[0m\u001b[0;34m,\u001b[0m \u001b[0;34m**\u001b[0m\u001b[0mkwargs\u001b[0m\u001b[0;34m)\u001b[0m\u001b[0;34m\u001b[0m\u001b[0;34m\u001b[0m\u001b[0m\n\u001b[0m\u001b[1;32m     65\u001b[0m     \u001b[0;32mexcept\u001b[0m \u001b[0mException\u001b[0m \u001b[0;32mas\u001b[0m \u001b[0me\u001b[0m\u001b[0;34m:\u001b[0m  \u001b[0;31m# pylint: disable=broad-except\u001b[0m\u001b[0;34m\u001b[0m\u001b[0;34m\u001b[0m\u001b[0m\n\u001b[1;32m     66\u001b[0m       \u001b[0mfiltered_tb\u001b[0m \u001b[0;34m=\u001b[0m \u001b[0m_process_traceback_frames\u001b[0m\u001b[0;34m(\u001b[0m\u001b[0me\u001b[0m\u001b[0;34m.\u001b[0m\u001b[0m__traceback__\u001b[0m\u001b[0;34m)\u001b[0m\u001b[0;34m\u001b[0m\u001b[0;34m\u001b[0m\u001b[0m\n",
            "\u001b[0;32m/usr/local/lib/python3.7/dist-packages/keras/engine/training.py\u001b[0m in \u001b[0;36mfit\u001b[0;34m(self, x, y, batch_size, epochs, verbose, callbacks, validation_split, validation_data, shuffle, class_weight, sample_weight, initial_epoch, steps_per_epoch, validation_steps, validation_batch_size, validation_freq, max_queue_size, workers, use_multiprocessing)\u001b[0m\n\u001b[1;32m   1382\u001b[0m                 _r=1):\n\u001b[1;32m   1383\u001b[0m               \u001b[0mcallbacks\u001b[0m\u001b[0;34m.\u001b[0m\u001b[0mon_train_batch_begin\u001b[0m\u001b[0;34m(\u001b[0m\u001b[0mstep\u001b[0m\u001b[0;34m)\u001b[0m\u001b[0;34m\u001b[0m\u001b[0;34m\u001b[0m\u001b[0m\n\u001b[0;32m-> 1384\u001b[0;31m               \u001b[0mtmp_logs\u001b[0m \u001b[0;34m=\u001b[0m \u001b[0mself\u001b[0m\u001b[0;34m.\u001b[0m\u001b[0mtrain_function\u001b[0m\u001b[0;34m(\u001b[0m\u001b[0miterator\u001b[0m\u001b[0;34m)\u001b[0m\u001b[0;34m\u001b[0m\u001b[0;34m\u001b[0m\u001b[0m\n\u001b[0m\u001b[1;32m   1385\u001b[0m               \u001b[0;32mif\u001b[0m \u001b[0mdata_handler\u001b[0m\u001b[0;34m.\u001b[0m\u001b[0mshould_sync\u001b[0m\u001b[0;34m:\u001b[0m\u001b[0;34m\u001b[0m\u001b[0;34m\u001b[0m\u001b[0m\n\u001b[1;32m   1386\u001b[0m                 \u001b[0mcontext\u001b[0m\u001b[0;34m.\u001b[0m\u001b[0masync_wait\u001b[0m\u001b[0;34m(\u001b[0m\u001b[0;34m)\u001b[0m\u001b[0;34m\u001b[0m\u001b[0;34m\u001b[0m\u001b[0m\n",
            "\u001b[0;32m/usr/local/lib/python3.7/dist-packages/tensorflow/python/util/traceback_utils.py\u001b[0m in \u001b[0;36merror_handler\u001b[0;34m(*args, **kwargs)\u001b[0m\n\u001b[1;32m    148\u001b[0m     \u001b[0mfiltered_tb\u001b[0m \u001b[0;34m=\u001b[0m \u001b[0;32mNone\u001b[0m\u001b[0;34m\u001b[0m\u001b[0;34m\u001b[0m\u001b[0m\n\u001b[1;32m    149\u001b[0m     \u001b[0;32mtry\u001b[0m\u001b[0;34m:\u001b[0m\u001b[0;34m\u001b[0m\u001b[0;34m\u001b[0m\u001b[0m\n\u001b[0;32m--> 150\u001b[0;31m       \u001b[0;32mreturn\u001b[0m \u001b[0mfn\u001b[0m\u001b[0;34m(\u001b[0m\u001b[0;34m*\u001b[0m\u001b[0margs\u001b[0m\u001b[0;34m,\u001b[0m \u001b[0;34m**\u001b[0m\u001b[0mkwargs\u001b[0m\u001b[0;34m)\u001b[0m\u001b[0;34m\u001b[0m\u001b[0;34m\u001b[0m\u001b[0m\n\u001b[0m\u001b[1;32m    151\u001b[0m     \u001b[0;32mexcept\u001b[0m \u001b[0mException\u001b[0m \u001b[0;32mas\u001b[0m \u001b[0me\u001b[0m\u001b[0;34m:\u001b[0m\u001b[0;34m\u001b[0m\u001b[0;34m\u001b[0m\u001b[0m\n\u001b[1;32m    152\u001b[0m       \u001b[0mfiltered_tb\u001b[0m \u001b[0;34m=\u001b[0m \u001b[0m_process_traceback_frames\u001b[0m\u001b[0;34m(\u001b[0m\u001b[0me\u001b[0m\u001b[0;34m.\u001b[0m\u001b[0m__traceback__\u001b[0m\u001b[0;34m)\u001b[0m\u001b[0;34m\u001b[0m\u001b[0;34m\u001b[0m\u001b[0m\n",
            "\u001b[0;32m/usr/local/lib/python3.7/dist-packages/tensorflow/python/eager/def_function.py\u001b[0m in \u001b[0;36m__call__\u001b[0;34m(self, *args, **kwds)\u001b[0m\n\u001b[1;32m    913\u001b[0m \u001b[0;34m\u001b[0m\u001b[0m\n\u001b[1;32m    914\u001b[0m       \u001b[0;32mwith\u001b[0m \u001b[0mOptionalXlaContext\u001b[0m\u001b[0;34m(\u001b[0m\u001b[0mself\u001b[0m\u001b[0;34m.\u001b[0m\u001b[0m_jit_compile\u001b[0m\u001b[0;34m)\u001b[0m\u001b[0;34m:\u001b[0m\u001b[0;34m\u001b[0m\u001b[0;34m\u001b[0m\u001b[0m\n\u001b[0;32m--> 915\u001b[0;31m         \u001b[0mresult\u001b[0m \u001b[0;34m=\u001b[0m \u001b[0mself\u001b[0m\u001b[0;34m.\u001b[0m\u001b[0m_call\u001b[0m\u001b[0;34m(\u001b[0m\u001b[0;34m*\u001b[0m\u001b[0margs\u001b[0m\u001b[0;34m,\u001b[0m \u001b[0;34m**\u001b[0m\u001b[0mkwds\u001b[0m\u001b[0;34m)\u001b[0m\u001b[0;34m\u001b[0m\u001b[0;34m\u001b[0m\u001b[0m\n\u001b[0m\u001b[1;32m    916\u001b[0m \u001b[0;34m\u001b[0m\u001b[0m\n\u001b[1;32m    917\u001b[0m       \u001b[0mnew_tracing_count\u001b[0m \u001b[0;34m=\u001b[0m \u001b[0mself\u001b[0m\u001b[0;34m.\u001b[0m\u001b[0mexperimental_get_tracing_count\u001b[0m\u001b[0;34m(\u001b[0m\u001b[0;34m)\u001b[0m\u001b[0;34m\u001b[0m\u001b[0;34m\u001b[0m\u001b[0m\n",
            "\u001b[0;32m/usr/local/lib/python3.7/dist-packages/tensorflow/python/eager/def_function.py\u001b[0m in \u001b[0;36m_call\u001b[0;34m(self, *args, **kwds)\u001b[0m\n\u001b[1;32m    945\u001b[0m       \u001b[0;31m# In this case we have created variables on the first call, so we run the\u001b[0m\u001b[0;34m\u001b[0m\u001b[0;34m\u001b[0m\u001b[0;34m\u001b[0m\u001b[0m\n\u001b[1;32m    946\u001b[0m       \u001b[0;31m# defunned version which is guaranteed to never create variables.\u001b[0m\u001b[0;34m\u001b[0m\u001b[0;34m\u001b[0m\u001b[0;34m\u001b[0m\u001b[0m\n\u001b[0;32m--> 947\u001b[0;31m       \u001b[0;32mreturn\u001b[0m \u001b[0mself\u001b[0m\u001b[0;34m.\u001b[0m\u001b[0m_stateless_fn\u001b[0m\u001b[0;34m(\u001b[0m\u001b[0;34m*\u001b[0m\u001b[0margs\u001b[0m\u001b[0;34m,\u001b[0m \u001b[0;34m**\u001b[0m\u001b[0mkwds\u001b[0m\u001b[0;34m)\u001b[0m  \u001b[0;31m# pylint: disable=not-callable\u001b[0m\u001b[0;34m\u001b[0m\u001b[0;34m\u001b[0m\u001b[0m\n\u001b[0m\u001b[1;32m    948\u001b[0m     \u001b[0;32melif\u001b[0m \u001b[0mself\u001b[0m\u001b[0;34m.\u001b[0m\u001b[0m_stateful_fn\u001b[0m \u001b[0;32mis\u001b[0m \u001b[0;32mnot\u001b[0m \u001b[0;32mNone\u001b[0m\u001b[0;34m:\u001b[0m\u001b[0;34m\u001b[0m\u001b[0;34m\u001b[0m\u001b[0m\n\u001b[1;32m    949\u001b[0m       \u001b[0;31m# Release the lock early so that multiple threads can perform the call\u001b[0m\u001b[0;34m\u001b[0m\u001b[0;34m\u001b[0m\u001b[0;34m\u001b[0m\u001b[0m\n",
            "\u001b[0;32m/usr/local/lib/python3.7/dist-packages/tensorflow/python/eager/function.py\u001b[0m in \u001b[0;36m__call__\u001b[0;34m(self, *args, **kwargs)\u001b[0m\n\u001b[1;32m   2955\u001b[0m        filtered_flat_args) = self._maybe_define_function(args, kwargs)\n\u001b[1;32m   2956\u001b[0m     return graph_function._call_flat(\n\u001b[0;32m-> 2957\u001b[0;31m         filtered_flat_args, captured_inputs=graph_function.captured_inputs)  # pylint: disable=protected-access\n\u001b[0m\u001b[1;32m   2958\u001b[0m \u001b[0;34m\u001b[0m\u001b[0m\n\u001b[1;32m   2959\u001b[0m   \u001b[0;34m@\u001b[0m\u001b[0mproperty\u001b[0m\u001b[0;34m\u001b[0m\u001b[0;34m\u001b[0m\u001b[0m\n",
            "\u001b[0;32m/usr/local/lib/python3.7/dist-packages/tensorflow/python/eager/function.py\u001b[0m in \u001b[0;36m_call_flat\u001b[0;34m(self, args, captured_inputs, cancellation_manager)\u001b[0m\n\u001b[1;32m   1852\u001b[0m       \u001b[0;31m# No tape is watching; skip to running the function.\u001b[0m\u001b[0;34m\u001b[0m\u001b[0;34m\u001b[0m\u001b[0;34m\u001b[0m\u001b[0m\n\u001b[1;32m   1853\u001b[0m       return self._build_call_outputs(self._inference_function.call(\n\u001b[0;32m-> 1854\u001b[0;31m           ctx, args, cancellation_manager=cancellation_manager))\n\u001b[0m\u001b[1;32m   1855\u001b[0m     forward_backward = self._select_forward_and_backward_functions(\n\u001b[1;32m   1856\u001b[0m         \u001b[0margs\u001b[0m\u001b[0;34m,\u001b[0m\u001b[0;34m\u001b[0m\u001b[0;34m\u001b[0m\u001b[0m\n",
            "\u001b[0;32m/usr/local/lib/python3.7/dist-packages/tensorflow/python/eager/function.py\u001b[0m in \u001b[0;36mcall\u001b[0;34m(self, ctx, args, cancellation_manager)\u001b[0m\n\u001b[1;32m    502\u001b[0m               \u001b[0minputs\u001b[0m\u001b[0;34m=\u001b[0m\u001b[0margs\u001b[0m\u001b[0;34m,\u001b[0m\u001b[0;34m\u001b[0m\u001b[0;34m\u001b[0m\u001b[0m\n\u001b[1;32m    503\u001b[0m               \u001b[0mattrs\u001b[0m\u001b[0;34m=\u001b[0m\u001b[0mattrs\u001b[0m\u001b[0;34m,\u001b[0m\u001b[0;34m\u001b[0m\u001b[0;34m\u001b[0m\u001b[0m\n\u001b[0;32m--> 504\u001b[0;31m               ctx=ctx)\n\u001b[0m\u001b[1;32m    505\u001b[0m         \u001b[0;32melse\u001b[0m\u001b[0;34m:\u001b[0m\u001b[0;34m\u001b[0m\u001b[0;34m\u001b[0m\u001b[0m\n\u001b[1;32m    506\u001b[0m           outputs = execute.execute_with_cancellation(\n",
            "\u001b[0;32m/usr/local/lib/python3.7/dist-packages/tensorflow/python/eager/execute.py\u001b[0m in \u001b[0;36mquick_execute\u001b[0;34m(op_name, num_outputs, inputs, attrs, ctx, name)\u001b[0m\n\u001b[1;32m     53\u001b[0m     \u001b[0mctx\u001b[0m\u001b[0;34m.\u001b[0m\u001b[0mensure_initialized\u001b[0m\u001b[0;34m(\u001b[0m\u001b[0;34m)\u001b[0m\u001b[0;34m\u001b[0m\u001b[0;34m\u001b[0m\u001b[0m\n\u001b[1;32m     54\u001b[0m     tensors = pywrap_tfe.TFE_Py_Execute(ctx._handle, device_name, op_name,\n\u001b[0;32m---> 55\u001b[0;31m                                         inputs, attrs, num_outputs)\n\u001b[0m\u001b[1;32m     56\u001b[0m   \u001b[0;32mexcept\u001b[0m \u001b[0mcore\u001b[0m\u001b[0;34m.\u001b[0m\u001b[0m_NotOkStatusException\u001b[0m \u001b[0;32mas\u001b[0m \u001b[0me\u001b[0m\u001b[0;34m:\u001b[0m\u001b[0;34m\u001b[0m\u001b[0;34m\u001b[0m\u001b[0m\n\u001b[1;32m     57\u001b[0m     \u001b[0;32mif\u001b[0m \u001b[0mname\u001b[0m \u001b[0;32mis\u001b[0m \u001b[0;32mnot\u001b[0m \u001b[0;32mNone\u001b[0m\u001b[0;34m:\u001b[0m\u001b[0;34m\u001b[0m\u001b[0;34m\u001b[0m\u001b[0m\n",
            "\u001b[0;31mKeyboardInterrupt\u001b[0m: "
          ]
        }
      ],
      "source": [
        "#model.fit(train_balanced, validation_data=test_dataset, epochs=1)"
      ]
    },
    {
      "cell_type": "markdown",
      "source": [
        "# Final Training"
      ],
      "metadata": {
        "id": "hEUh_uQspXWW"
      }
    },
    {
      "cell_type": "code",
      "execution_count": null,
      "metadata": {
        "id": "1gxdfAd5qH8N"
      },
      "outputs": [],
      "source": [
        "def build_model(hp):  \n",
        "  model = keras.models.Sequential([\n",
        "    keras.layers.Conv2D(\n",
        "        filters=hp.Int('conv_1_filter', min_value=8, max_value=128, step=16),\n",
        "        kernel_size=hp.Choice('conv_1_kernel', values = [3,5]),\n",
        "        activation='relu',\n",
        "        input_shape=(28,28,1)\n",
        "    ),\n",
        "    keras.layers.Conv2D(\n",
        "        filters=hp.Int('conv_2_filter', min_value=8, max_value=128, step=16),\n",
        "        kernel_size=hp.Choice('conv_2_kernel', values = [3,5]),\n",
        "        activation='relu'\n",
        "    ),\n",
        "    keras.layers.Flatten(),\n",
        "    keras.layers.Dense(\n",
        "        units=hp.Int('dense_1_units', min_value=8, max_value=128, step=16),\n",
        "        activation='relu'\n",
        "    ),\n",
        "    keras.layers.Dense(10, activation='softmax')\n",
        "  ])\n",
        "  \n",
        "  model.compile(optimizer=keras.optimizers.Adam(hp.Choice('learning_rate', values=[1e-2, 1e-3,'constant', 'invscaling', 'adaptive'])),\n",
        "              loss='sparse_categorical_crossentropy',\n",
        "              metrics=['accuracy'])\n",
        "  \n",
        "  return model"
      ]
    },
    {
      "cell_type": "code",
      "execution_count": null,
      "metadata": {
        "colab": {
          "base_uri": "https://localhost:8080/"
        },
        "id": "YVL3O456HlVA",
        "outputId": "9fde75aa-2c1a-4c76-bb7d-9a22c9bd584c"
      },
      "outputs": [
        {
          "data": {
            "text/plain": [
              "1950.0"
            ]
          },
          "execution_count": 33,
          "metadata": {},
          "output_type": "execute_result"
        }
      ],
      "source": [
        "6*6*2*26 * 5 * 5 / 24"
      ]
    },
    {
      "cell_type": "code",
      "execution_count": null,
      "metadata": {
        "id": "Nef17_MorKWL"
      },
      "outputs": [],
      "source": [
        ""
      ]
    },
    {
      "cell_type": "code",
      "execution_count": null,
      "metadata": {
        "id": "Re66x1N7rKaU"
      },
      "outputs": [],
      "source": [
        ""
      ]
    },
    {
      "cell_type": "code",
      "execution_count": null,
      "metadata": {
        "id": "smw4eGMYrKhP"
      },
      "outputs": [],
      "source": [
        ""
      ]
    },
    {
      "cell_type": "code",
      "execution_count": null,
      "metadata": {
        "id": "qkP_ckzkk0Kq"
      },
      "outputs": [],
      "source": [
        "image_labels = []\n",
        "for  label in  test.classes:\n",
        "  image_labels.append(categories_dict[label])\n",
        "\n",
        "df = pd.DataFrame(image_labels)\n",
        "sns.countplot(x=0, data= df).set(Title='Test Dataset', xlabel='Class', ylabel='Number of Images')"
      ]
    },
    {
      "cell_type": "code",
      "execution_count": null,
      "metadata": {
        "id": "NP57FYqt-uca"
      },
      "outputs": [],
      "source": [
        "# def cnn_model():\n",
        "# # CNN Based Model in Keras\n",
        "#   model = keras.Sequential([\n",
        "#         keras.Input(shape=(140,140,1), name='Original_Images'),\n",
        "#         keras.layers.Conv2D(input_shape=(140,140,1), filters=32, kernel_size=11, \n",
        "#                             strides=1, activation='relu', name='Conv1'),\n",
        "#         keras.layers.Conv2D(input_shape=(130,130,32), filters=32, kernel_size=11, \n",
        "#                             strides=1, activation='relu', name='Conv2'),\n",
        "#         keras.layers.MaxPool2D(pool_size=(5, 5), strides=2),\n",
        "#         keras.layers.Conv2D(input_shape=(58,58,32), filters=64, kernel_size=9, \n",
        "#                             strides=1, activation='relu', name='Conv3'),\n",
        "#         keras.layers.MaxPool2D(pool_size=(5, 5), strides=2),\n",
        "#         keras.layers.Conv2D(input_shape=(23,23,64), filters=128, kernel_size=8, \n",
        "#                             strides=1, activation='relu', name='Conv4'),\n",
        "#         keras.layers.Conv2D(input_shape=(16,16,128), filters=256, kernel_size=9, \n",
        "#                             strides=1, activation='relu', name='Conv5'),\n",
        "#         keras.layers.Conv2D(input_shape=(8,8,256), filters=256, kernel_size=8, \n",
        "#                             strides=1, activation='relu', name='Conv6'),    \n",
        "\n",
        "#         keras.layers.Flatten(),\n",
        "#         keras.layers.Dense(8, activation=tf.keras.activations.relu, name='Dense'),\n",
        "#         keras.layers.Dense(3, activation=\"softmax\")\n",
        "#     ])\n",
        "#   opt = keras.optimizers.Adam(learning_rate=0.005)\n",
        "#   model.compile(optimizer=opt, loss=tf.keras.losses.CategoricalCrossentropy(from_logits=True),\n",
        "#               metrics=[keras.metrics.CategoricalAccuracy()])\n",
        "#   return model\n",
        "\n",
        "  "
      ]
    },
    {
      "cell_type": "code",
      "execution_count": null,
      "metadata": {
        "id": "nasU8Qskk8A0"
      },
      "outputs": [],
      "source": [
        "# model = cnn_model()"
      ]
    },
    {
      "cell_type": "code",
      "execution_count": null,
      "metadata": {
        "id": "U6Lcwzf0smys"
      },
      "outputs": [],
      "source": [
        "# keras.utils.plot_model(model, show_shapes=True, show_layer_names=True)"
      ]
    },
    {
      "cell_type": "code",
      "execution_count": null,
      "metadata": {
        "id": "1Nfq0QT1yOLh"
      },
      "outputs": [],
      "source": [
        "# hist = model.fit(\n",
        "#     train_balanced\n",
        "# )"
      ]
    },
    {
      "cell_type": "code",
      "execution_count": null,
      "metadata": {
        "id": "Jg3NpBHzHcdH"
      },
      "outputs": [],
      "source": [
        "# score = model.evaluate(test_images, test_labels, verbose=0)\n",
        "# print('Test loss:', score[0])\n",
        "# print('Test accuracy:', score[1])"
      ]
    },
    {
      "cell_type": "code",
      "execution_count": null,
      "metadata": {
        "id": "SEoFe-6oMvjL"
      },
      "outputs": [],
      "source": [
        "# def show_image(img, label, guess):\n",
        "#   plt.figure()\n",
        "#   plt.imshow(img, cmap=plt.cm.binary)\n",
        "#   plt.title(\"Excpected: \" + label)\n",
        "#   plt.xlabel(\"Guess: \" + guess)\n",
        "#   plt.colorbar()\n",
        "#   plt.grid(False)\n",
        "#   plt.show()"
      ]
    },
    {
      "cell_type": "code",
      "execution_count": null,
      "metadata": {
        "id": "80z9PdQKMzsH"
      },
      "outputs": [],
      "source": [
        "# def predict(model, image, correct_label):\n",
        "#   prediction = model.predict(np.array([image]))\n",
        "#   print(prediction)\n",
        "#   predicted_class = categories_dict[np.argmax(prediction)]\n",
        "#   show_image(image, categories_dict[correct_label], predicted_class)"
      ]
    },
    {
      "cell_type": "code",
      "execution_count": null,
      "metadata": {
        "id": "Gd2wU2sAPY2Q"
      },
      "outputs": [],
      "source": [
        "# for i in range(len(test_images)):\n",
        "#   image = test_images[i]\n",
        "#   label = np.argmax(test_labels[i])\n",
        "#   predict(model, image, label)"
      ]
    },
    {
      "cell_type": "markdown",
      "metadata": {
        "id": "vQw-k3Wfa6fi"
      },
      "source": [
        "**REMOVES THE AUGMENTED IMAGES**\n",
        "\n"
      ]
    },
    {
      "cell_type": "code",
      "execution_count": null,
      "metadata": {
        "id": "kN1vb98K7NWw"
      },
      "outputs": [],
      "source": [
        "def remove_aug(path):\n",
        "  files= glob.glob(path, recursive=True)\n",
        "  for f in files:\n",
        "      try:\n",
        "          os.remove(f)\n",
        "      except OSError as e:\n",
        "          print(\"Error: %s : %s\" % (f, e.strerror))\n",
        "\n",
        "remove_aug('/content/drive/My Drive/Comp 478 - Project/Chest X-ray (Covid-19 & Pneumonia)/Data/train/COVID19/COVID19_AUG*.jpg')\n",
        "remove_aug('/content/drive/My Drive/Comp 478 - Project/Chest X-ray (Covid-19 & Pneumonia)/Data/train/NORMAL/NORMAL_AUG*.jpg')"
      ]
    }
  ],
  "metadata": {
    "accelerator": "GPU",
    "colab": {
      "collapsed_sections": [],
      "name": "image-processing.ipynb",
      "provenance": [],
      "include_colab_link": true
    },
    "kernelspec": {
      "display_name": "Python 3",
      "name": "python3"
    },
    "language_info": {
      "name": "python"
    }
  },
  "nbformat": 4,
  "nbformat_minor": 0
}